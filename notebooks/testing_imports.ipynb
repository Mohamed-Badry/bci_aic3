{
 "cells": [
  {
   "cell_type": "code",
   "execution_count": 1,
   "id": "2e389ced",
   "metadata": {},
   "outputs": [],
   "source": [
    "import mne\n",
    "import torch\n",
    "\n",
    "%matplotlib widget"
   ]
  },
  {
   "cell_type": "code",
   "execution_count": 2,
   "id": "123e8565",
   "metadata": {},
   "outputs": [],
   "source": [
    "\n",
    "from bci_aic3.data import BCIDataset, load_data\n",
    "from bci_aic3.paths import CONFIG_DIR, LABEL_MAPPING_PATH, RAW_DATA_DIR, TRAINING_STATS_PATH\n",
    "from bci_aic3.util import read_json_to_dict, normalize, save_training_stats, load_training_stats\n",
    "from bci_aic3.models.eegnet import EEGNet"
   ]
  },
  {
   "cell_type": "code",
   "execution_count": 3,
   "id": "cd90700a",
   "metadata": {},
   "outputs": [],
   "source": [
    "import numpy as np\n",
    "from torch.utils.data import DataLoader\n"
   ]
  },
  {
   "cell_type": "code",
   "execution_count": 4,
   "id": "19853d28",
   "metadata": {},
   "outputs": [],
   "source": [
    "label_mapping = read_json_to_dict(LABEL_MAPPING_PATH)"
   ]
  },
  {
   "cell_type": "code",
   "execution_count": 6,
   "id": "cf17f3a4",
   "metadata": {},
   "outputs": [
    {
     "name": "stderr",
     "output_type": "stream",
     "text": [
      "2400it [02:26, 16.36it/s]\n"
     ]
    }
   ],
   "source": [
    "# 1. Load your dataset\n",
    "train_mi = BCIDataset(\n",
    "    \"train.csv\",\n",
    "    base_path=RAW_DATA_DIR,\n",
    "    task_type=\"MI\",\n",
    "    split=\"train\",\n",
    "    label_mapping=label_mapping,\n",
    "    training_stats=None,\n",
    ")"
   ]
  },
  {
   "cell_type": "code",
   "execution_count": 7,
   "id": "c0f4a175",
   "metadata": {},
   "outputs": [
    {
     "data": {
      "text/plain": [
       "{'mean': tensor([298498.0625, 301786.0625, 334266.9375, 326867.8750, 347858.1875,\n",
       "         288628.1250, 285722.0938, 286179.0625]),\n",
       " 'std': tensor([ 25025.9785,  27414.4160,  71625.7344,  81569.4297, 121221.1562,\n",
       "          28605.6387,  30016.5605,  28722.1230])}"
      ]
     },
     "execution_count": 7,
     "metadata": {},
     "output_type": "execute_result"
    }
   ],
   "source": [
    "training_stats = train_mi.get_training_stats()\n",
    "training_stats"
   ]
  },
  {
   "cell_type": "code",
   "execution_count": 8,
   "id": "c12c6368",
   "metadata": {},
   "outputs": [],
   "source": [
    "save_training_stats(training_stats, TRAINING_STATS_PATH/\"mi_train.pt\")"
   ]
  },
  {
   "cell_type": "code",
   "execution_count": 9,
   "id": "1881093d",
   "metadata": {},
   "outputs": [
    {
     "data": {
      "text/plain": [
       "{'mean': tensor([298498.0625, 301786.0625, 334266.9375, 326867.8750, 347858.1875,\n",
       "         288628.1250, 285722.0938, 286179.0625]),\n",
       " 'std': tensor([ 25025.9785,  27414.4160,  71625.7344,  81569.4297, 121221.1562,\n",
       "          28605.6387,  30016.5605,  28722.1230])}"
      ]
     },
     "execution_count": 9,
     "metadata": {},
     "output_type": "execute_result"
    }
   ],
   "source": [
    "stats = load_training_stats(TRAINING_STATS_PATH/\"mi_train.pt\")\n",
    "stats"
   ]
  },
  {
   "cell_type": "code",
   "execution_count": 10,
   "id": "224d9909",
   "metadata": {},
   "outputs": [
    {
     "name": "stderr",
     "output_type": "stream",
     "text": [
      "50it [00:02, 18.11it/s]\n"
     ]
    }
   ],
   "source": [
    "\n",
    "# 1. Load your dataset\n",
    "test_mi = BCIDataset(\n",
    "    \"test.csv\",\n",
    "    base_path=RAW_DATA_DIR,\n",
    "    split=\"test\",\n",
    "    task_type=\"MI\",\n",
    "    #  label_mapping=label_mapping,\n",
    "    training_stats=training_stats,\n",
    ")"
   ]
  },
  {
   "cell_type": "code",
   "execution_count": 11,
   "id": "6c116472",
   "metadata": {},
   "outputs": [
    {
     "data": {
      "text/plain": [
       "torch.Size([50, 8, 2250])"
      ]
     },
     "execution_count": 11,
     "metadata": {},
     "output_type": "execute_result"
    }
   ],
   "source": [
    "test_mi.tensor_data.shape"
   ]
  },
  {
   "cell_type": "code",
   "execution_count": 12,
   "id": "27140196",
   "metadata": {},
   "outputs": [],
   "source": [
    "train_mi_loader = DataLoader(train_mi, batch_size=len(train_mi), shuffle=False)"
   ]
  },
  {
   "cell_type": "code",
   "execution_count": 13,
   "id": "d6ada0fc",
   "metadata": {},
   "outputs": [],
   "source": [
    "# 2. Pull everything into numpy\n",
    "data_batch, labels = next(iter(train_mi_loader))\n",
    "# shape -> [n_epochs, n_channels, n_times]\n",
    "data = data_batch.numpy()\n",
    "labels = labels.numpy()"
   ]
  },
  {
   "cell_type": "code",
   "execution_count": 14,
   "id": "7331de37",
   "metadata": {},
   "outputs": [
    {
     "data": {
      "text/plain": [
       "((2400, 8, 2250), (2400,))"
      ]
     },
     "execution_count": 14,
     "metadata": {},
     "output_type": "execute_result"
    }
   ],
   "source": [
    "data.shape, labels.shape"
   ]
  },
  {
   "cell_type": "code",
   "execution_count": 15,
   "id": "a1f792a5",
   "metadata": {},
   "outputs": [
    {
     "data": {
      "text/plain": [
       "(np.float32(-4.385366),\n",
       " np.float32(6.321079),\n",
       " np.float32(-2.476852e-06),\n",
       " np.float32(0.9999999))"
      ]
     },
     "execution_count": 15,
     "metadata": {},
     "output_type": "execute_result"
    }
   ],
   "source": [
    "data.min(), data.max(), data.mean(), data.std()"
   ]
  },
  {
   "cell_type": "code",
   "execution_count": 16,
   "id": "a6a8545b",
   "metadata": {},
   "outputs": [],
   "source": [
    "# 3. Define channel info\n",
    "SCALING_FACTOR = 1e-6  # MNE constant to convert\n",
    "sfreq = 250.0  # your sampling rate\n",
    "ch_names = [\"FZ\", \"C3\", \"CZ\", \"C4\", \"PZ\", \"PO7\", \"OZ\", \"PO8\"]\n",
    "ch_types = [\"eeg\"] * data.shape[1]\n",
    "info = mne.create_info(ch_names, sfreq, ch_types)"
   ]
  },
  {
   "cell_type": "code",
   "execution_count": 19,
   "id": "653a9eb2",
   "metadata": {},
   "outputs": [
    {
     "name": "stdout",
     "output_type": "stream",
     "text": [
      "Not setting metadata\n",
      "2400 matching events found\n",
      "No baseline correction applied\n",
      "0 projection items activated\n"
     ]
    }
   ],
   "source": [
    "# 4. Create an MNE EpochsArray\n",
    "#    (we'll pretend each epoch starts at t=0; adjust tmin if you use pre-stimulus)\n",
    "epochs = mne.EpochsArray(\n",
    "    data * SCALING_FACTOR, info, events=None, event_id=None, tmin=0.0\n",
    ")\n",
    "epochs.event_id = dict((str(lbl), int(lbl)) for lbl in np.unique(labels))\n",
    "epochs.events = np.column_stack(\n",
    "    (np.arange(len(labels)), np.zeros(len(labels), int), labels)\n",
    ")"
   ]
  },
  {
   "cell_type": "code",
   "execution_count": null,
   "id": "107f3065",
   "metadata": {},
   "outputs": [
    {
     "data": {
      "text/plain": [
       "np.float64(6.321078672044678e-06)"
      ]
     },
     "execution_count": 20,
     "metadata": {},
     "output_type": "execute_result"
    }
   ],
   "source": [
    "epochs.get_data().max(), epochs.get_data().max(), epochs.get_data().mean(), epochs.get_data().std()"
   ]
  },
  {
   "cell_type": "code",
   "execution_count": 21,
   "id": "55e06002",
   "metadata": {},
   "outputs": [
    {
     "data": {
      "text/plain": [
       "(10, 8, 2250)"
      ]
     },
     "execution_count": 21,
     "metadata": {},
     "output_type": "execute_result"
    }
   ],
   "source": [
    "epochs.get_data(range(8), range(10, 20), units=\"V\").shape"
   ]
  },
  {
   "cell_type": "code",
   "execution_count": 22,
   "id": "a546950b",
   "metadata": {},
   "outputs": [
    {
     "data": {
      "text/plain": [
       "array([[[-1.57248587, -1.57540796, -1.56028921, ..., -1.58432556,\n",
       "         -1.57036754, -1.57353986],\n",
       "        [-1.68972622, -1.68376516, -1.68479846, ..., -1.68882627,\n",
       "         -1.69588407, -1.70191083],\n",
       "        [-0.75545694, -0.71620428, -0.71392901, ..., -0.70742902,\n",
       "         -0.73556225, -0.770356  ],\n",
       "        ...,\n",
       "        [-1.17179582, -1.17173954, -1.17275226, ..., -1.17680577,\n",
       "         -1.17818456, -1.1783751 ],\n",
       "        [-1.77858954, -1.77287404, -1.778968  , ..., -1.78216669,\n",
       "         -1.7917281 , -1.79514757],\n",
       "        [-1.61137655, -1.60652678, -1.61100343, ..., -1.62324295,\n",
       "         -1.63081609, -1.63395055]]], shape=(1, 8, 2250))"
      ]
     },
     "execution_count": 22,
     "metadata": {},
     "output_type": "execute_result"
    }
   ],
   "source": [
    "epochs.get_data(range(8), 0, units=\"uV\")"
   ]
  },
  {
   "cell_type": "code",
   "execution_count": 23,
   "id": "9d1abc96",
   "metadata": {},
   "outputs": [
    {
     "data": {
      "text/plain": [
       "['FZ', 'C3', 'CZ', 'C4', 'PZ', 'PO7', 'OZ', 'PO8']"
      ]
     },
     "execution_count": 23,
     "metadata": {},
     "output_type": "execute_result"
    }
   ],
   "source": [
    "epochs.ch_names"
   ]
  },
  {
   "cell_type": "code",
   "execution_count": 24,
   "id": "fd4d4fbd",
   "metadata": {},
   "outputs": [
    {
     "data": {
      "text/plain": [
       "(tensor([[-1.5725, -1.5754, -1.5603,  ..., -1.5843, -1.5704, -1.5735],\n",
       "         [-1.6897, -1.6838, -1.6848,  ..., -1.6888, -1.6959, -1.7019],\n",
       "         [-0.7555, -0.7162, -0.7139,  ..., -0.7074, -0.7356, -0.7704],\n",
       "         ...,\n",
       "         [-1.1718, -1.1717, -1.1728,  ..., -1.1768, -1.1782, -1.1784],\n",
       "         [-1.7786, -1.7729, -1.7790,  ..., -1.7822, -1.7917, -1.7951],\n",
       "         [-1.6114, -1.6065, -1.6110,  ..., -1.6232, -1.6308, -1.6340]]),\n",
       " tensor(0))"
      ]
     },
     "execution_count": 24,
     "metadata": {},
     "output_type": "execute_result"
    }
   ],
   "source": [
    "train_mi[0]"
   ]
  },
  {
   "cell_type": "markdown",
   "id": "3841aa26",
   "metadata": {},
   "source": [
    "### Preprocessing"
   ]
  },
  {
   "cell_type": "code",
   "execution_count": null,
   "id": "3e085fb2",
   "metadata": {},
   "outputs": [],
   "source": [
    "# Set a standard montage\n",
    "montage = mne.channels.make_standard_montage(\"standard_1020\")\n",
    "raw_trial.set_montage(montage, on_missing=\"ignore\")\n",
    "\n",
    "# Filter\n",
    "raw_trial.filter(l_freq=5, h_freq=30, fir_design=\"firwin\", verbose=False)\n",
    "raw_trial.notch_filter(freqs=50, fir_design=\"firwin\", verbose=False)\n",
    "\n",
    "# Re-reference\n",
    "raw_trial.set_eeg_reference(ref_channels=\"average\", projection=True, verbose=False)\n",
    "raw_trial.apply_proj(verbose=False)"
   ]
  },
  {
   "cell_type": "code",
   "execution_count": null,
   "id": "77da0b84",
   "metadata": {},
   "outputs": [],
   "source": [
    "raw_trial.plot()"
   ]
  },
  {
   "cell_type": "code",
   "execution_count": null,
   "id": "c852741d",
   "metadata": {},
   "outputs": [],
   "source": [
    "# Plot the first 7 seconds of data for 8 channels\n",
    "raw_trial.plot(duration=1, n_channels=8)\n",
    "print()"
   ]
  },
  {
   "cell_type": "code",
   "execution_count": null,
   "id": "7db36e3a",
   "metadata": {},
   "outputs": [],
   "source": [
    "raw_trial.compute_psd(fmax=50, exclude=[\"PZ\", \"CZ\", \"FZ\"]).plot()\n",
    "print()"
   ]
  },
  {
   "cell_type": "code",
   "execution_count": null,
   "id": "afc866f4",
   "metadata": {},
   "outputs": [],
   "source": []
  },
  {
   "cell_type": "code",
   "execution_count": null,
   "id": "c09a0562",
   "metadata": {},
   "outputs": [],
   "source": [
    "trial_data = raw_trial.get_data()\n",
    "trial_data"
   ]
  },
  {
   "cell_type": "code",
   "execution_count": null,
   "id": "dbbf85e6",
   "metadata": {},
   "outputs": [],
   "source": []
  },
  {
   "cell_type": "code",
   "execution_count": null,
   "id": "a1ba4fdb",
   "metadata": {},
   "outputs": [],
   "source": []
  },
  {
   "cell_type": "code",
   "execution_count": null,
   "id": "92b31ff8",
   "metadata": {},
   "outputs": [],
   "source": [
    "# Plot the sensor locations in 2D and 3D\n",
    "raw_trial.plot_sensors(ch_type=\"eeg\", show_names=True, block=True)\n",
    "print()"
   ]
  },
  {
   "cell_type": "code",
   "execution_count": null,
   "id": "3dfcd660",
   "metadata": {},
   "outputs": [],
   "source": []
  }
 ],
 "metadata": {
  "kernelspec": {
   "display_name": ".venv",
   "language": "python",
   "name": "python3"
  },
  "language_info": {
   "codemirror_mode": {
    "name": "ipython",
    "version": 3
   },
   "file_extension": ".py",
   "mimetype": "text/x-python",
   "name": "python",
   "nbconvert_exporter": "python",
   "pygments_lexer": "ipython3",
   "version": "3.11.9"
  }
 },
 "nbformat": 4,
 "nbformat_minor": 5
}
