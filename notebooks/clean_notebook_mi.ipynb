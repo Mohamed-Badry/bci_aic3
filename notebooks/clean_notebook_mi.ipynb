{
 "cells": [
  {
   "cell_type": "markdown",
   "id": "b7a30738",
   "metadata": {},
   "source": [
    "# Clean Notebook for once hopefully"
   ]
  },
  {
   "cell_type": "code",
   "execution_count": null,
   "id": "a1e5311b",
   "metadata": {},
   "outputs": [],
   "source": [
    "import os\n",
    "\n",
    "import torch\n",
    "from pytorch_lightning import seed_everything\n",
    "\n",
    "from bci_aic3.preprocess import preprocess_and_save\n",
    "from bci_aic3.data import load_raw_data\n",
    "from bci_aic3.config import load_model_config, load_processing_config\n",
    "from bci_aic3.paths import (\n",
    "    LABEL_MAPPING_PATH,\n",
    "    MI_CONFIG_PATH,\n",
    "    MI_RUNS_DIR,\n",
    "    RAW_DATA_DIR,\n",
    "    SSVEP_CONFIG_PATH,\n",
    "    SSVEP_RUNS_DIR,\n",
    ")\n",
    "from bci_aic3.util import read_json_to_dict\n",
    "from bci_aic3.train import train_and_save"
   ]
  },
  {
   "cell_type": "code",
   "execution_count": null,
   "id": "060dbbc3",
   "metadata": {},
   "outputs": [],
   "source": [
    "# To utilize cuda cores \n",
    "torch.set_float32_matmul_precision(\"medium\")\n",
    "\n",
    "# Code necessary to create reproducible runs\n",
    "os.environ[\"CUBLAS_WORKSPACE_CONFIG\"] = \":4096:8\"\n",
    "seed_everything(42, workers=True)\n",
    "torch.use_deterministic_algorithms(True, warn_only=True)"
   ]
  },
  {
   "cell_type": "code",
   "execution_count": null,
   "id": "ed8d14c2",
   "metadata": {},
   "outputs": [],
   "source": [
    "task_type = \"MI\""
   ]
  },
  {
   "cell_type": "code",
   "execution_count": null,
   "id": "0d7344bf",
   "metadata": {},
   "outputs": [],
   "source": [
    "config_path = None\n",
    "save_path = None\n",
    "if task_type.upper() == \"MI\":\n",
    "    config_path = MI_CONFIG_PATH\n",
    "    save_path = MI_RUNS_DIR\n",
    "elif task_type.upper() == \"SSVEP\":\n",
    "    config_path = SSVEP_CONFIG_PATH\n",
    "    save_path = SSVEP_RUNS_DIR\n",
    "else:\n",
    "    raise (\n",
    "        ValueError(f\"Invalid task_type: {task_type}.\\nValid task_type (MI) or (SSVEP)\")\n",
    "    )\n",
    "\n",
    "\n",
    "processing_config = load_processing_config(config_path)\n",
    "label_mapping = read_json_to_dict(LABEL_MAPPING_PATH)\n",
    "\n",
    "train, val, _ = load_raw_data(\n",
    "    base_path=RAW_DATA_DIR,\n",
    "    task_type=task_type,\n",
    "    label_mapping=label_mapping,\n",
    ")"
   ]
  },
  {
   "cell_type": "code",
   "execution_count": null,
   "id": "1185208c",
   "metadata": {},
   "outputs": [],
   "source": [
    "preprocess_and_save(train_dataset=train,\n",
    "                    val_dataset=val,\n",
    "                    task_type=task_type,\n",
    "                    processing_config=processing_config)"
   ]
  },
  {
   "cell_type": "code",
   "execution_count": null,
   "id": "be71d9ae",
   "metadata": {},
   "outputs": [],
   "source": [
    "train_and_save(task_type=task_type)"
   ]
  },
  {
   "cell_type": "code",
   "execution_count": null,
   "id": "2b39e6a1",
   "metadata": {},
   "outputs": [],
   "source": []
  }
 ],
 "metadata": {
  "kernelspec": {
   "display_name": ".venv",
   "language": "python",
   "name": "python3"
  },
  "language_info": {
   "codemirror_mode": {
    "name": "ipython",
    "version": 3
   },
   "file_extension": ".py",
   "mimetype": "text/x-python",
   "name": "python",
   "nbconvert_exporter": "python",
   "pygments_lexer": "ipython3",
   "version": "3.11.13"
  }
 },
 "nbformat": 4,
 "nbformat_minor": 5
}
