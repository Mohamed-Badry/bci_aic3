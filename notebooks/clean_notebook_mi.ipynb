{
 "cells": [
  {
   "cell_type": "markdown",
   "id": "b7a30738",
   "metadata": {},
   "source": [
    "# Clean Notebook for once hopefully"
   ]
  },
  {
   "cell_type": "code",
   "execution_count": 1,
   "id": "a1e5311b",
   "metadata": {},
   "outputs": [],
   "source": [
    "import os\n",
    "\n",
    "import torch\n",
    "from pytorch_lightning import seed_everything\n",
    "\n",
    "from bci_aic3.preprocess import preprocess_and_save\n",
    "from bci_aic3.data import load_raw_data\n",
    "from bci_aic3.config import load_model_config, load_processing_config\n",
    "from bci_aic3.paths import (\n",
    "    LABEL_MAPPING_PATH,\n",
    "    MI_CONFIG_PATH,\n",
    "    MI_RUNS_DIR,\n",
    "    RAW_DATA_DIR,\n",
    "    SSVEP_CONFIG_PATH,\n",
    "    SSVEP_RUNS_DIR,\n",
    ")\n",
    "from bci_aic3.util import read_json_to_dict\n",
    "from bci_aic3.train import train_and_save"
   ]
  },
  {
   "cell_type": "code",
   "execution_count": null,
   "id": "060dbbc3",
   "metadata": {},
   "outputs": [
    {
     "name": "stderr",
     "output_type": "stream",
     "text": [
      "Seed set to 42\n"
     ]
    }
   ],
   "source": [
    "# To utilize cuda cores \n",
    "torch.set_float32_matmul_precision(\"medium\")\n",
    "\n",
    "# Code necessary to create reproducible runs\n",
    "os.environ[\"CUBLAS_WORKSPACE_CONFIG\"] = \":4096:8\"\n",
    "seed_everything(42, workers=True)\n",
    "torch.use_deterministic_algorithms(True, warn_only=True)"
   ]
  },
  {
   "cell_type": "code",
   "execution_count": 3,
   "id": "ed8d14c2",
   "metadata": {},
   "outputs": [],
   "source": [
    "task_type = \"MI\""
   ]
  },
  {
   "cell_type": "code",
   "execution_count": 4,
   "id": "0d7344bf",
   "metadata": {},
   "outputs": [
    {
     "name": "stderr",
     "output_type": "stream",
     "text": [
      "  0%|          | 0/2400 [00:00<?, ?it/s]"
     ]
    },
    {
     "name": "stderr",
     "output_type": "stream",
     "text": [
      "100%|██████████| 2400/2400 [01:50<00:00, 21.70it/s]\n",
      "100%|██████████| 50/50 [00:02<00:00, 21.57it/s]\n",
      "100%|██████████| 50/50 [00:02<00:00, 21.35it/s]\n"
     ]
    }
   ],
   "source": [
    "config_path = None\n",
    "save_path = None\n",
    "if task_type.upper() == \"MI\":\n",
    "    config_path = MI_CONFIG_PATH\n",
    "    save_path = MI_RUNS_DIR\n",
    "elif task_type.upper() == \"SSVEP\":\n",
    "    config_path = SSVEP_CONFIG_PATH\n",
    "    save_path = SSVEP_RUNS_DIR\n",
    "else:\n",
    "    raise (\n",
    "        ValueError(f\"Invalid task_type: {task_type}.\\nValid task_type (MI) or (SSVEP)\")\n",
    "    )\n",
    "\n",
    "\n",
    "processing_config = load_processing_config(config_path)\n",
    "label_mapping = read_json_to_dict(LABEL_MAPPING_PATH)\n",
    "\n",
    "train, val, _ = load_raw_data(\n",
    "    base_path=RAW_DATA_DIR,\n",
    "    task_type=task_type,\n",
    "    label_mapping=label_mapping,\n",
    ")"
   ]
  },
  {
   "cell_type": "code",
   "execution_count": 5,
   "id": "1185208c",
   "metadata": {},
   "outputs": [
    {
     "name": "stdout",
     "output_type": "stream",
     "text": [
      "\n",
      "Training Pipeline steps:\n",
      "1. notch_filter: MNENotchFilter\n",
      "2. bandpass_filter: BandPassFilter\n",
      "3. temporal_crop: TemporalCrop\n",
      "4. artifact_removal: StatisticalArtifactRemoval\n",
      "5. channel_normalizer: ChannelWiseNormalizer\n",
      "6. reshaper: EEGReshaper\n",
      "7. unsqueeze: FunctionTransformer\n",
      "\n",
      "Testing Pipeline steps:\n",
      "1. notch_filter: MNENotchFilter\n",
      "2. bandpass_filter: BandPassFilter\n",
      "3. temporal_crop: TemporalCrop\n",
      "4. channel_normalizer: ChannelWiseNormalizer\n",
      "5. reshaper: EEGReshaper\n",
      "6. unsqueeze: FunctionTransformer\n",
      "\n",
      "Original train data shape: (2400, 8, 2250)\n",
      "Original validation data shape: (50, 8, 2250)\n",
      "\n",
      "Transformed train data shape: (1826, 1, 8, 2250)\n",
      "Transformed train labels shape: (1826,)\n",
      "\n",
      "Transformed validation data shape: (20, 1, 8, 2250)\n",
      "Transformed validation labels shape: (20,)\n",
      "\n",
      "Train Channel Means (should be zero mean):\n",
      " [ 7.2979239e-10 -6.8336792e-10  6.6108419e-10  9.4241637e-10\n",
      " -1.0844752e-09  1.0287659e-09 -1.4312659e-09 -5.7937716e-10]\n",
      "\n",
      "Train Channel Standard Deviations (should be unit std):\n",
      " [0.99999946 0.99999976 0.9999999  1.0000005  0.99999964 0.9999999\n",
      " 0.99999964 0.9999999 ]\n",
      "\n",
      "Validation Channel Means (should be zero mean):\n",
      " [-4.0668976e-03  8.8109038e-05  1.3678492e-05 -2.8425092e-03\n",
      " -1.4922329e-03  1.0849485e-03 -8.3103776e-04 -4.3325487e-04]\n",
      "\n",
      "Validation Channel Standard Deviations (should be unit std or close to it):\n",
      " [0.4922288  0.15789858 0.12812032 0.19289695 0.23503616 0.44993117\n",
      " 0.391772   0.29501328]\n",
      "\n",
      "✅ Processed data successfully saved to '/home/Crim/AIC3/bci_aic3/data/processed/MI'\n",
      "\n",
      "✅ Preprocessing pipelines successfully saved to '/home/Crim/AIC3/bci_aic3/training_stats/MI'\n"
     ]
    }
   ],
   "source": [
    "preprocess_and_save(train_dataset=train,\n",
    "                    val_dataset=val,\n",
    "                    task_type=task_type,\n",
    "                    processing_config=processing_config)"
   ]
  },
  {
   "cell_type": "code",
   "execution_count": null,
   "id": "be71d9ae",
   "metadata": {},
   "outputs": [
    {
     "name": "stdout",
     "output_type": "stream",
     "text": [
      "Created temporary run directory: /home/Crim/AIC3/bci_aic3/run/MI/ATCNet-20250628_214307-inprogress\n"
     ]
    },
    {
     "name": "stderr",
     "output_type": "stream",
     "text": [
      "/home/Crim/AIC3/bci_aic3/.venv/lib/python3.11/site-packages/torch/nn/modules/conv.py:549: UserWarning: Using padding='same' with even kernel lengths and odd dilation may require a zero-padded copy of the input be created (Triggered internally at /pytorch/aten/src/ATen/native/Convolution.cpp:1036.)\n",
      "  return F.conv2d(\n",
      "/home/Crim/AIC3/bci_aic3/.venv/lib/python3.11/site-packages/pytorch_lightning/utilities/parsing.py:209: Attribute 'model' is an instance of `nn.Module` and is already saved during checkpointing. It is recommended to ignore them using `self.save_hyperparameters(ignore=['model'])`.\n",
      "GPU available: True (cuda), used: True\n",
      "TPU available: False, using: 0 TPU cores\n",
      "HPU available: False, using: 0 HPUs\n",
      "/home/Crim/AIC3/bci_aic3/.venv/lib/python3.11/site-packages/pytorch_lightning/trainer/connectors/logger_connector/logger_connector.py:76: Starting from v1.9.0, `tensorboardX` has been removed as a dependency of the `pytorch_lightning` package, due to potential conflicts with other packages in the ML ecosystem. For this reason, `logger=True` will use `CSVLogger` as the default logger, unless the `tensorboard` or `tensorboardX` packages are found. Please `pip install lightning[extra]` or one of them to enable TensorBoard support by default\n",
      "You are using a CUDA device ('NVIDIA GeForce RTX 3050 Laptop GPU') that has Tensor Cores. To properly utilize them, you should set `torch.set_float32_matmul_precision('medium' | 'high')` which will trade-off precision for performance. For more details, read https://pytorch.org/docs/stable/generated/torch.set_float32_matmul_precision.html#torch.set_float32_matmul_precision\n",
      "LOCAL_RANK: 0 - CUDA_VISIBLE_DEVICES: [0]\n",
      "\n",
      "  | Name           | Type               | Params | Mode \n",
      "--------------------------------------------------------------\n",
      "0 | model          | ATCNet             | 93.6 K | train\n",
      "1 | criterion      | CrossEntropyLoss   | 0      | train\n",
      "2 | train_accuracy | MulticlassAccuracy | 0      | train\n",
      "3 | val_accuracy   | MulticlassAccuracy | 0      | train\n",
      "4 | train_f1       | MulticlassF1Score  | 0      | train\n",
      "5 | val_f1         | MulticlassF1Score  | 0      | train\n",
      "--------------------------------------------------------------\n",
      "93.6 K    Trainable params\n",
      "0         Non-trainable params\n",
      "93.6 K    Total params\n",
      "0.374     Total estimated model params size (MB)\n",
      "112       Modules in train mode\n",
      "0         Modules in eval mode\n"
     ]
    },
    {
     "data": {
      "application/vnd.jupyter.widget-view+json": {
       "model_id": "ffafa005c97c4f2baafb00a85b34dc20",
       "version_major": 2,
       "version_minor": 0
      },
      "text/plain": [
       "Sanity Checking: |          | 0/? [00:00<?, ?it/s]"
      ]
     },
     "metadata": {},
     "output_type": "display_data"
    },
    {
     "data": {
      "application/vnd.jupyter.widget-view+json": {
       "model_id": "d0508fc77ab44af380adb694cd964559",
       "version_major": 2,
       "version_minor": 0
      },
      "text/plain": [
       "Training: |          | 0/? [00:00<?, ?it/s]"
      ]
     },
     "metadata": {},
     "output_type": "display_data"
    },
    {
     "data": {
      "application/vnd.jupyter.widget-view+json": {
       "model_id": "3e83f8e2030f4c70960f51de64fcab26",
       "version_major": 2,
       "version_minor": 0
      },
      "text/plain": [
       "Validation: |          | 0/? [00:00<?, ?it/s]"
      ]
     },
     "metadata": {},
     "output_type": "display_data"
    },
    {
     "name": "stderr",
     "output_type": "stream",
     "text": [
      "Metric val_loss improved. New best score: 0.678\n",
      "Epoch 0, global step 58: 'val_f1' reached 0.46667 (best 0.46667), saving model to '/home/Crim/AIC3/bci_aic3/run/MI/ATCNet-20250628_214307-inprogress/checkpoints/atcnet-mi-best-f1-val_f1=0.4667-epoch=00.ckpt' as top 3\n"
     ]
    },
    {
     "data": {
      "application/vnd.jupyter.widget-view+json": {
       "model_id": "6efecacbe67c4b2b8bbe142eac8da33a",
       "version_major": 2,
       "version_minor": 0
      },
      "text/plain": [
       "Validation: |          | 0/? [00:00<?, ?it/s]"
      ]
     },
     "metadata": {},
     "output_type": "display_data"
    },
    {
     "name": "stderr",
     "output_type": "stream",
     "text": [
      "Metric val_loss improved by 0.007 >= min_delta = 0.0. New best score: 0.672\n",
      "Epoch 1, global step 116: 'val_f1' reached 0.37500 (best 0.46667), saving model to '/home/Crim/AIC3/bci_aic3/run/MI/ATCNet-20250628_214307-inprogress/checkpoints/atcnet-mi-best-f1-val_f1=0.3750-epoch=01.ckpt' as top 3\n"
     ]
    },
    {
     "data": {
      "application/vnd.jupyter.widget-view+json": {
       "model_id": "a127bdab93fd4fc7b5ad66291b1c4a97",
       "version_major": 2,
       "version_minor": 0
      },
      "text/plain": [
       "Validation: |          | 0/? [00:00<?, ?it/s]"
      ]
     },
     "metadata": {},
     "output_type": "display_data"
    },
    {
     "name": "stderr",
     "output_type": "stream",
     "text": [
      "Epoch 2, global step 174: 'val_f1' reached 0.47917 (best 0.47917), saving model to '/home/Crim/AIC3/bci_aic3/run/MI/ATCNet-20250628_214307-inprogress/checkpoints/atcnet-mi-best-f1-val_f1=0.4792-epoch=02.ckpt' as top 3\n"
     ]
    },
    {
     "data": {
      "application/vnd.jupyter.widget-view+json": {
       "model_id": "0d2f32cd509f4106a6fa29baeb79ed80",
       "version_major": 2,
       "version_minor": 0
      },
      "text/plain": [
       "Validation: |          | 0/? [00:00<?, ?it/s]"
      ]
     },
     "metadata": {},
     "output_type": "display_data"
    },
    {
     "name": "stderr",
     "output_type": "stream",
     "text": [
      "Metric val_loss improved by 0.002 >= min_delta = 0.0. New best score: 0.670\n",
      "Epoch 3, global step 232: 'val_f1' was not in top 3\n"
     ]
    },
    {
     "data": {
      "application/vnd.jupyter.widget-view+json": {
       "model_id": "1955967d961f40ccbb0976ed2ac20080",
       "version_major": 2,
       "version_minor": 0
      },
      "text/plain": [
       "Validation: |          | 0/? [00:00<?, ?it/s]"
      ]
     },
     "metadata": {},
     "output_type": "display_data"
    },
    {
     "name": "stderr",
     "output_type": "stream",
     "text": [
      "Epoch 4, global step 290: 'val_f1' reached 0.43574 (best 0.47917), saving model to '/home/Crim/AIC3/bci_aic3/run/MI/ATCNet-20250628_214307-inprogress/checkpoints/atcnet-mi-best-f1-val_f1=0.4357-epoch=04.ckpt' as top 3\n"
     ]
    },
    {
     "data": {
      "application/vnd.jupyter.widget-view+json": {
       "model_id": "04467dc071d24ceead15fc1a3c6939dd",
       "version_major": 2,
       "version_minor": 0
      },
      "text/plain": [
       "Validation: |          | 0/? [00:00<?, ?it/s]"
      ]
     },
     "metadata": {},
     "output_type": "display_data"
    },
    {
     "name": "stderr",
     "output_type": "stream",
     "text": [
      "Epoch 5, global step 348: 'val_f1' reached 0.53964 (best 0.53964), saving model to '/home/Crim/AIC3/bci_aic3/run/MI/ATCNet-20250628_214307-inprogress/checkpoints/atcnet-mi-best-f1-val_f1=0.5396-epoch=05.ckpt' as top 3\n"
     ]
    },
    {
     "data": {
      "application/vnd.jupyter.widget-view+json": {
       "model_id": "f09351e2ac5f483ca89d6d2abe514524",
       "version_major": 2,
       "version_minor": 0
      },
      "text/plain": [
       "Validation: |          | 0/? [00:00<?, ?it/s]"
      ]
     },
     "metadata": {},
     "output_type": "display_data"
    },
    {
     "name": "stderr",
     "output_type": "stream",
     "text": [
      "Epoch 6, global step 406: 'val_f1' reached 0.56044 (best 0.56044), saving model to '/home/Crim/AIC3/bci_aic3/run/MI/ATCNet-20250628_214307-inprogress/checkpoints/atcnet-mi-best-f1-val_f1=0.5604-epoch=06.ckpt' as top 3\n"
     ]
    },
    {
     "data": {
      "application/vnd.jupyter.widget-view+json": {
       "model_id": "22b86a3e216e40d8b4ba9fab3ecc225a",
       "version_major": 2,
       "version_minor": 0
      },
      "text/plain": [
       "Validation: |          | 0/? [00:00<?, ?it/s]"
      ]
     },
     "metadata": {},
     "output_type": "display_data"
    },
    {
     "name": "stderr",
     "output_type": "stream",
     "text": [
      "Epoch 7, global step 464: 'val_f1' reached 0.56044 (best 0.56044), saving model to '/home/Crim/AIC3/bci_aic3/run/MI/ATCNet-20250628_214307-inprogress/checkpoints/atcnet-mi-best-f1-val_f1=0.5604-epoch=07.ckpt' as top 3\n"
     ]
    },
    {
     "data": {
      "application/vnd.jupyter.widget-view+json": {
       "model_id": "36eddf4054ff4719b90dd038a7f739c5",
       "version_major": 2,
       "version_minor": 0
      },
      "text/plain": [
       "Validation: |          | 0/? [00:00<?, ?it/s]"
      ]
     },
     "metadata": {},
     "output_type": "display_data"
    },
    {
     "name": "stderr",
     "output_type": "stream",
     "text": [
      "Epoch 8, global step 522: 'val_f1' was not in top 3\n"
     ]
    },
    {
     "data": {
      "application/vnd.jupyter.widget-view+json": {
       "model_id": "b21e9d313aa6432e987b92c2a9ec6784",
       "version_major": 2,
       "version_minor": 0
      },
      "text/plain": [
       "Validation: |          | 0/? [00:00<?, ?it/s]"
      ]
     },
     "metadata": {},
     "output_type": "display_data"
    },
    {
     "name": "stderr",
     "output_type": "stream",
     "text": [
      "Epoch 9, global step 580: 'val_f1' was not in top 3\n"
     ]
    }
   ],
   "source": [
    "train_and_save(task_type=task_type)"
   ]
  },
  {
   "cell_type": "code",
   "execution_count": null,
   "id": "2b39e6a1",
   "metadata": {},
   "outputs": [],
   "source": []
  }
 ],
 "metadata": {
  "kernelspec": {
   "display_name": ".venv",
   "language": "python",
   "name": "python3"
  },
  "language_info": {
   "codemirror_mode": {
    "name": "ipython",
    "version": 3
   },
   "file_extension": ".py",
   "mimetype": "text/x-python",
   "name": "python",
   "nbconvert_exporter": "python",
   "pygments_lexer": "ipython3",
   "version": "3.11.13"
  }
 },
 "nbformat": 4,
 "nbformat_minor": 5
}
