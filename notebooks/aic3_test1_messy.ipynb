{
 "cells": [
  {
   "cell_type": "markdown",
   "metadata": {},
   "source": [
    "### Just trying to understand the data structure and the scoring function."
   ]
  },
  {
   "cell_type": "code",
   "execution_count": 21,
   "metadata": {
    "_cell_guid": "b1076dfc-b9ad-4769-8c92-a6c4dae69d19",
    "_uuid": "8f2839f25d086af736a60e9eeb907d3b93b6e0e5",
    "execution": {
     "iopub.execute_input": "2025-06-15T18:19:00.026285Z",
     "iopub.status.busy": "2025-06-15T18:19:00.025787Z",
     "iopub.status.idle": "2025-06-15T18:19:00.031257Z",
     "shell.execute_reply": "2025-06-15T18:19:00.030417Z",
     "shell.execute_reply.started": "2025-06-15T18:19:00.026257Z"
    },
    "trusted": true
   },
   "outputs": [],
   "source": [
    "import pandas as pd\n",
    "import numpy as np\n",
    "import os\n",
    "import torch\n",
    "from torchinfo import summary"
   ]
  },
  {
   "cell_type": "code",
   "execution_count": 20,
   "metadata": {},
   "outputs": [],
   "source": [
    "from pytorch_lightning import seed_everything\n",
    "seed_everything(0, workers=True)\n",
    "torch.use_deterministic_algorithms(True, warn_only=True)"
   ]
  },
  {
   "cell_type": "code",
   "execution_count": 114,
   "metadata": {
    "execution": {
     "iopub.execute_input": "2025-06-15T18:19:05.961900Z",
     "iopub.status.busy": "2025-06-15T18:19:05.961340Z",
     "iopub.status.idle": "2025-06-15T18:19:05.998723Z",
     "shell.execute_reply": "2025-06-15T18:19:05.997840Z",
     "shell.execute_reply.started": "2025-06-15T18:19:05.961866Z"
    },
    "trusted": true
   },
   "outputs": [],
   "source": [
    "# Load index files\n",
    "base_path = '/kaggle/input/mtcaic3'  # Replace with the path to the dataset directory if needed\n",
    "train_df = pd.read_csv(os.path.join(base_path, 'train.csv'))\n",
    "validation_df = pd.read_csv(os.path.join(base_path, 'validation.csv'))\n",
    "test_df = pd.read_csv(os.path.join(base_path, 'test.csv'))"
   ]
  },
  {
   "cell_type": "code",
   "execution_count": 3,
   "metadata": {
    "execution": {
     "iopub.execute_input": "2025-06-15T18:27:03.464296Z",
     "iopub.status.busy": "2025-06-15T18:27:03.463930Z",
     "iopub.status.idle": "2025-06-15T18:27:03.481684Z",
     "shell.execute_reply": "2025-06-15T18:27:03.480812Z",
     "shell.execute_reply.started": "2025-06-15T18:27:03.464271Z"
    },
    "trusted": true
   },
   "outputs": [
    {
     "data": {
      "text/plain": [
       "label\n",
       "Left     28\n",
       "Right    22\n",
       "Name: count, dtype: int64"
      ]
     },
     "execution_count": 3,
     "metadata": {},
     "output_type": "execute_result"
    }
   ],
   "source": [
    "validation_df[validation_df[\"task\"] == \"MI\"][\"label\"].value_counts()"
   ]
  },
  {
   "cell_type": "code",
   "execution_count": 4,
   "metadata": {
    "execution": {
     "iopub.execute_input": "2025-06-15T18:27:04.361982Z",
     "iopub.status.busy": "2025-06-15T18:27:04.361424Z",
     "iopub.status.idle": "2025-06-15T18:27:04.369544Z",
     "shell.execute_reply": "2025-06-15T18:27:04.368775Z",
     "shell.execute_reply.started": "2025-06-15T18:27:04.361958Z"
    },
    "trusted": true
   },
   "outputs": [
    {
     "data": {
      "text/plain": [
       "label\n",
       "Backward    14\n",
       "Left        14\n",
       "Forward     12\n",
       "Right       10\n",
       "Name: count, dtype: int64"
      ]
     },
     "execution_count": 4,
     "metadata": {},
     "output_type": "execute_result"
    }
   ],
   "source": [
    "validation_df[validation_df[\"task\"] == \"SSVEP\"][\"label\"].value_counts()"
   ]
  },
  {
   "cell_type": "code",
   "execution_count": 5,
   "metadata": {
    "execution": {
     "iopub.execute_input": "2025-06-15T18:27:06.065732Z",
     "iopub.status.busy": "2025-06-15T18:27:06.065159Z",
     "iopub.status.idle": "2025-06-15T18:27:06.074438Z",
     "shell.execute_reply": "2025-06-15T18:27:06.073567Z",
     "shell.execute_reply.started": "2025-06-15T18:27:06.065707Z"
    },
    "trusted": true
   },
   "outputs": [
    {
     "data": {
      "text/plain": [
       "label\n",
       "Right    1213\n",
       "Left     1187\n",
       "Name: count, dtype: int64"
      ]
     },
     "execution_count": 5,
     "metadata": {},
     "output_type": "execute_result"
    }
   ],
   "source": [
    "train_df[train_df[\"task\"] == \"MI\"][\"label\"].value_counts()"
   ]
  },
  {
   "cell_type": "code",
   "execution_count": 6,
   "metadata": {
    "execution": {
     "iopub.execute_input": "2025-06-15T18:27:12.120986Z",
     "iopub.status.busy": "2025-06-15T18:27:12.120209Z",
     "iopub.status.idle": "2025-06-15T18:27:12.129631Z",
     "shell.execute_reply": "2025-06-15T18:27:12.128835Z",
     "shell.execute_reply.started": "2025-06-15T18:27:12.120958Z"
    },
    "trusted": true
   },
   "outputs": [
    {
     "data": {
      "text/plain": [
       "label\n",
       "Backward    636\n",
       "Right       599\n",
       "Left        585\n",
       "Forward     580\n",
       "Name: count, dtype: int64"
      ]
     },
     "execution_count": 6,
     "metadata": {},
     "output_type": "execute_result"
    }
   ],
   "source": [
    "train_df[train_df[\"task\"] == \"SSVEP\"][\"label\"].value_counts()"
   ]
  },
  {
   "cell_type": "markdown",
   "metadata": {},
   "source": [
    "## Create Label Mapping"
   ]
  },
  {
   "cell_type": "code",
   "execution_count": 69,
   "metadata": {},
   "outputs": [
    {
     "data": {
      "text/plain": [
       "{'Left': 0, 'Right': 1, 'Forward': 2, 'Backward': 3}"
      ]
     },
     "execution_count": 69,
     "metadata": {},
     "output_type": "execute_result"
    }
   ],
   "source": [
    "label_mapping = {label: i for i, label in enumerate(train_df[\"label\"].unique())}\n",
    "label_mapping"
   ]
  },
  {
   "cell_type": "markdown",
   "metadata": {},
   "source": [
    "## Torch Dataset Definition"
   ]
  },
  {
   "cell_type": "code",
   "execution_count": 8,
   "metadata": {},
   "outputs": [],
   "source": [
    "from torch.utils.data import Dataset, DataLoader\n",
    "\n",
    "\n",
    "class BCIDataset(Dataset):\n",
    "    def __init__(self, csv_file, base_path, task_type='MI', label_mapping=None):\n",
    "        # Filter the main dataframe for the specific task (MI or SSVEP)\n",
    "        self.metadata = pd.read_csv(os.path.join(base_path, csv_file))\n",
    "        self.metadata = self.metadata[self.metadata['task'] == task_type]\n",
    "        self.base_path = base_path\n",
    "        self.task_type = task_type\n",
    "        self.label_mapping = label_mapping\n",
    "\n",
    "    def __len__(self):\n",
    "        return len(self.metadata)\n",
    "\n",
    "    def __getitem__(self, idx):\n",
    "        row = self.metadata.iloc[idx]\n",
    "        \n",
    "        # Determine dataset split (train/validation/test)\n",
    "        id_num = row['id']\n",
    "        if id_num <= 4800: \n",
    "            dataset_split = 'train'\n",
    "        elif id_num <= 4900: \n",
    "            dataset_split = 'validation'\n",
    "        else: \n",
    "            dataset_split = 'test'\n",
    "            \n",
    "        # Path to the EEG data file\n",
    "        eeg_path = os.path.join(self.base_path, row['task'], dataset_split, \n",
    "                                row['subject_id'], str(row['trial_session']), 'EEGdata.csv')\n",
    "        \n",
    "        eeg_data = pd.read_csv(eeg_path)\n",
    "        \n",
    "        # Extract the correct trial segment\n",
    "        trial_num = int(row['trial'])\n",
    "        \n",
    "        # 9 seconds * 250 Hz = 2250 for MI\n",
    "        # 7 seconds * 250 Hz = 1750 for SSVEP\n",
    "        samples_per_trial = 2250 if self.task_type == 'MI' else 1750\n",
    "        start_idx = (trial_num - 1) * samples_per_trial\n",
    "        end_idx = start_idx + samples_per_trial\n",
    "        \n",
    "        # Select only the 8 EEG channels\n",
    "        eeg_channels = ['FZ', 'C3', 'CZ', 'C4', 'PZ', 'PO7', 'OZ', 'PO8']\n",
    "        trial_data = eeg_data.loc[start_idx:end_idx-1, eeg_channels].values\n",
    "        \n",
    "        # uncomment the line below and comment the one above to include all 18 columns\n",
    "        # trial_data = eeg_data.loc[start_idx:end_idx-1].values\n",
    "        \n",
    "        # Preprocess the data (see next section)\n",
    "        processed_data = self.preprocess(trial_data)\n",
    "        \n",
    "        # Convert to tensor\n",
    "        tensor_data = torch.tensor(processed_data, dtype=torch.float32)\n",
    "        \n",
    "        # Get label if it exists\n",
    "        if 'label' in row and self.label_mapping:\n",
    "            label_str = row['label']\n",
    "            \n",
    "            label_int = self.label_mapping[label_str]\n",
    "            label = torch.tensor(label_int, dtype=torch.long) # Use torch.long for labels in classification\n",
    "            return tensor_data, label\n",
    "        else:\n",
    "            return tensor_data\n",
    "\n",
    "    def preprocess(self, eeg_data):\n",
    "        # Apply preprocessing steps here (filtering, normalization, etc.)\n",
    "        # This will be different for MI and SSVEP\n",
    "        # ...\n",
    "        return eeg_data"
   ]
  },
  {
   "cell_type": "markdown",
   "metadata": {},
   "source": [
    "## MI Model Training"
   ]
  },
  {
   "cell_type": "code",
   "execution_count": 15,
   "metadata": {},
   "outputs": [],
   "source": [
    "train_mi = BCIDataset('train.csv', base_path, task_type='MI', label_mapping=label_mapping)\n",
    "val_mi = BCIDataset('validation.csv', base_path, task_type='MI', label_mapping=label_mapping)\n",
    "test_mi = BCIDataset('test.csv', base_path, task_type='MI', label_mapping=label_mapping)"
   ]
  },
  {
   "cell_type": "code",
   "execution_count": 47,
   "metadata": {},
   "outputs": [],
   "source": [
    "batch_size = 32\n",
    "\n",
    "train_loader = DataLoader(train_mi, batch_size=batch_size, shuffle=True, num_workers=4)\n",
    "val_loader = DataLoader(val_mi, batch_size=batch_size, shuffle=False, num_workers=4)\n",
    "test_loader = DataLoader(test_mi, batch_size=batch_size, shuffle=False, num_workers=4)"
   ]
  },
  {
   "cell_type": "code",
   "execution_count": null,
   "metadata": {},
   "outputs": [],
   "source": [
    "import torch\n",
    "from torch import nn, optim\n",
    "\n",
    "\n",
    "# Simple CNN model\n",
    "class BCIModel(nn.Module):\n",
    "    def __init__(self, input_size, num_classes):\n",
    "        super(BCIModel, self).__init__()\n",
    "        self.conv1 = nn.Conv1d(input_size, 16, kernel_size=3)  # 8 channels\n",
    "        self.pool = nn.MaxPool1d(2)\n",
    "        self.fc1 = nn.Linear(16 * 1124, num_classes)\n",
    "\n",
    "    def forward(self, x):\n",
    "        x = self.pool(torch.relu(self.conv1(x)))\n",
    "        x = x.view(x.size(0), -1)\n",
    "        x = self.fc1(x)\n",
    "        return x\n"
   ]
  },
  {
   "cell_type": "code",
   "execution_count": null,
   "metadata": {},
   "outputs": [],
   "source": [
    "model = BCIModel(8, 2)\n",
    "criterion = nn.CrossEntropyLoss()\n",
    "optimizer = optim.Adam(model.parameters(), lr=0.001)\n",
    "\n",
    "# Training loop\n",
    "num_epochs = 10\n",
    "for epoch in range(num_epochs):\n",
    "    model.train()\n",
    "    for data, labels in train_loader:\n",
    "        optimizer.zero_grad()\n",
    "        outputs = model(data.transpose(1, 2))\n",
    "        \n",
    "        loss = criterion(outputs, labels)\n",
    "\n",
    "        loss.backward()\n",
    "        optimizer.step()\n",
    "    \n",
    "    # Validation\n",
    "    model.eval()\n",
    "    val_loss = 0\n",
    "    with torch.no_grad():\n",
    "        for data, labels in val_loader:\n",
    "            outputs = model(data.transpose(1, 2))\n",
    "            \n",
    "            val_loss += criterion(outputs, labels).item()\n",
    "\n",
    "    print(f'Epoch {epoch+1}, Val Loss: {val_loss / len(val_loader)}')"
   ]
  },
  {
   "cell_type": "code",
   "execution_count": 67,
   "metadata": {},
   "outputs": [
    {
     "data": {
      "text/plain": [
       "===================================================================================================================\n",
       "Layer (type:depth-idx)                   Input Shape               Output Shape              Param #\n",
       "===================================================================================================================\n",
       "BCIModel                                 [1, 8, 2250]              [1, 2]                    --\n",
       "├─Conv1d: 1-1                            [1, 8, 2250]              [1, 16, 2248]             400\n",
       "├─MaxPool1d: 1-2                         [1, 16, 2248]             [1, 16, 1124]             --\n",
       "├─Linear: 1-3                            [1, 17984]                [1, 2]                    35,970\n",
       "===================================================================================================================\n",
       "Total params: 36,370\n",
       "Trainable params: 36,370\n",
       "Non-trainable params: 0\n",
       "Total mult-adds (Units.MEGABYTES): 0.94\n",
       "===================================================================================================================\n",
       "Input size (MB): 0.07\n",
       "Forward/backward pass size (MB): 0.29\n",
       "Params size (MB): 0.15\n",
       "Estimated Total Size (MB): 0.51\n",
       "==================================================================================================================="
      ]
     },
     "execution_count": 67,
     "metadata": {},
     "output_type": "execute_result"
    }
   ],
   "source": [
    "summary(model, \n",
    "        input_size=(1, 8, 2250),\n",
    "        col_names=['input_size',\n",
    "                   'output_size',\n",
    "                   'num_params'])\n"
   ]
  },
  {
   "cell_type": "code",
   "execution_count": 57,
   "metadata": {},
   "outputs": [],
   "source": [
    "from torcheval.metrics.functional import multiclass_f1_score, binary_accuracy, binary_f1_score"
   ]
  },
  {
   "cell_type": "code",
   "execution_count": 68,
   "metadata": {},
   "outputs": [
    {
     "name": "stdout",
     "output_type": "stream",
     "text": [
      "F1 Score: 0.6111\n",
      "Multiclass F1 Score (micro): 0.6111\n",
      "Multiclass F1 Score (macro): 0.6111\n",
      "Accuracy: 0.4400\n"
     ]
    }
   ],
   "source": [
    "all_preds = []\n",
    "all_labels = []\n",
    "\n",
    "model.eval()\n",
    "with torch.no_grad():\n",
    "    for x_batch, y_batch in val_loader:\n",
    "        logits = model(x_batch.transpose(1, 2))\n",
    "        preds = torch.argmax(logits, dim=1)\n",
    "        all_preds.append(preds)\n",
    "        all_labels.append(y_batch)\n",
    "\n",
    "# Concatenate all predictions and labels\n",
    "all_preds = torch.cat(all_preds)\n",
    "all_labels = torch.cat(all_labels)\n",
    "\n",
    "f1 = binary_f1_score(all_preds, all_labels)\n",
    "print(f\"F1 Score: {f1.item():.4f}\")\n",
    "\n",
    "multi_f1_micro = multiclass_f1_score(all_preds, all_labels, num_classes=2, average='micro')\n",
    "print(f\"Multiclass F1 Score (micro): {f1.item():.4f}\")\n",
    "\n",
    "multi_f1_macro = multiclass_f1_score(all_preds, all_labels, num_classes=2, average='macro')\n",
    "print(f\"Multiclass F1 Score (macro): {f1.item():.4f}\")\n",
    "\n",
    "acc = binary_accuracy(all_preds, all_labels)\n",
    "print(f\"Accuracy: {acc.item():.4f}\")"
   ]
  },
  {
   "cell_type": "code",
   "execution_count": null,
   "metadata": {},
   "outputs": [],
   "source": []
  },
  {
   "cell_type": "code",
   "execution_count": null,
   "metadata": {},
   "outputs": [],
   "source": [
    "class EEGNet(nn.Module):\n",
    "    \"\"\"\n",
    "    Placeholder for the EEGNet model or any other architecture you choose.\n",
    "    The following is a common structure for EEGNet, but you'll need to fill in the details.\n",
    "    Reference Paper: https://arxiv.org/abs/1611.08024\n",
    "    \"\"\"\n",
    "    def __init__(self, num_classes, num_channels, num_samples):\n",
    "        super(EEGNet, self).__init__()\n",
    "        ### _ADAPT_ ###\n",
    "        # This is where you will define the layers of your neural network.\n",
    "        # You need to adapt the layer dimensions based on your specific EEG data.\n",
    "        # - num_classes: The number of target classes (e.g., 2 for left/right hand MI,\n",
    "        #                or N for N different SSVEP frequencies).\n",
    "        # - num_channels: The number of EEG channels in your data (e.g., 8, 16, 64).\n",
    "        # - num_samples: The number of time points in each EEG trial/epoch.\n",
    "\n",
    "        # Example structure:\n",
    "        # 1. Temporal Convolution Block\n",
    "        # 2. Depthwise Convolution Block\n",
    "        # 3. Separable Convolution Block\n",
    "        # 4. Fully Connected / Classification Block\n",
    "        \n",
    "        # A simplified example of what the layers might look like:\n",
    "        self.conv1 = nn.Conv2d(1, 16, kernel_size=(1, 64), padding=(0, 32))\n",
    "        self.bn1 = nn.BatchNorm2d(16)\n",
    "        # ... more layers here ...\n",
    "        self.fc1 = nn.Linear(128, num_classes) # Example dimension\n",
    "\n",
    "        print(\"EEGNet model initialized.\")\n",
    "        print(f\"  - Number of classes: {num_classes}\")\n",
    "        print(f\"  - EEG Channels: {num_channels}\")\n",
    "        print(f\"  - EEG Samples per trial: {num_samples}\")\n",
    "\n",
    "\n",
    "    def forward(self, x):\n",
    "        ### _ADAPT_ ###\n",
    "        # Implement the forward pass of your network.\n",
    "        # The input 'x' will typically have a shape like:\n",
    "        # (batch_size, 1, num_channels, num_samples)\n",
    "        # You need to ensure your data loader formats the data into this shape.\n",
    "        \n",
    "        # Example forward pass:\n",
    "        # x = torch.relu(self.bn1(self.conv1(x)))\n",
    "        # ... pass through more layers ...\n",
    "        # x = x.view(x.size(0), -1) # Flatten\n",
    "        # output = self.fc1(x)\n",
    "        # return output\n",
    "        \n",
    "        # For now, returning a dummy tensor of the correct shape.\n",
    "        # Replace this with your actual forward pass logic.\n",
    "        batch_size = x.shape[0]\n",
    "        dummy_output = torch.randn(batch_size, self.fc1.out_features)\n",
    "        return dummy_output"
   ]
  },
  {
   "cell_type": "code",
   "execution_count": null,
   "metadata": {
    "trusted": true
   },
   "outputs": [
    {
     "ename": "ModuleNotFoundError",
     "evalue": "No module named 'torcheval'",
     "output_type": "error",
     "traceback": [
      "\u001b[0;31m---------------------------------------------------------------------------\u001b[0m",
      "\u001b[0;31mModuleNotFoundError\u001b[0m                       Traceback (most recent call last)",
      "\u001b[0;32m/tmp/ipykernel_35/1002409518.py\u001b[0m in \u001b[0;36m<cell line: 0>\u001b[0;34m()\u001b[0m\n\u001b[0;32m----> 1\u001b[0;31m \u001b[0;32mfrom\u001b[0m \u001b[0mtorcheval\u001b[0m\u001b[0;34m.\u001b[0m\u001b[0mmetrics\u001b[0m\u001b[0;34m.\u001b[0m\u001b[0mfunctional\u001b[0m \u001b[0;32mimport\u001b[0m \u001b[0mmulticlass_f1_score\u001b[0m\u001b[0;34m\u001b[0m\u001b[0;34m\u001b[0m\u001b[0m\n\u001b[0m",
      "\u001b[0;31mModuleNotFoundError\u001b[0m: No module named 'torcheval'"
     ]
    }
   ],
   "source": [
    "# --- Configuration ---\n",
    "### _ADAPT_ ###\n",
    "LEARNING_RATE = 0.001\n",
    "BATCH_SIZE = 16\n",
    "EPOCHS = 50\n",
    "VAL_SPLIT = 0.2\n",
    "NUM_CLASSES = 4\n",
    "NUM_CHANNELS = 22\n",
    "NUM_SAMPLES = 1000\n",
    "\n",
    "class BCILightningModule(pl.LightningModule):\n",
    "    def __init__(self, num_classes, num_channels, num_samples, learning_rate):\n",
    "        super().__init__()\n",
    "        self.save_hyperparameters() # Saves args to self.hparams\n",
    "        \n",
    "        self.model = EEGNet(num_classes, num_channels, num_samples)\n",
    "        self.criterion = nn.CrossEntropyLoss()\n",
    "        self.accuracy = Accuracy(task=\"multiclass\", num_classes=num_classes)\n",
    "\n",
    "    def forward(self, x):\n",
    "        return self.model(x)\n",
    "\n",
    "    def training_step(self, batch, batch_idx):\n",
    "        x, y = batch\n",
    "        logits = self(x)\n",
    "        loss = self.criterion(logits, y)\n",
    "        acc = self.accuracy(logits, y)\n",
    "        \n",
    "        # Log metrics for viewing in TensorBoard or other loggers\n",
    "        self.log('train_loss', loss, on_step=True, on_epoch=True, prog_bar=True, logger=True)\n",
    "        self.log('train_acc', acc, on_step=False, on_epoch=True, prog_bar=True, logger=True)\n",
    "        return loss\n",
    "\n",
    "    def validation_step(self, batch, batch_idx):\n",
    "        x, y = batch\n",
    "        logits = self(x)\n",
    "        loss = self.criterion(logits, y)\n",
    "        acc = self.accuracy(logits, y)\n",
    "\n",
    "        self.log('val_loss', loss, prog_bar=True, logger=True)\n",
    "        self.log('val_acc', acc, prog_bar=True, logger=True)\n",
    "        return loss\n",
    "        \n",
    "    def test_step(self, batch, batch_idx):\n",
    "        # Optional: Define what happens during testing\n",
    "        x, y = batch\n",
    "        logits = self(x)\n",
    "        loss = self.criterion(logits, y)\n",
    "        acc = self.accuracy(logits, y)\n",
    "\n",
    "        self.log('test_loss', loss)\n",
    "        self.log('test_acc', acc)\n",
    "        return loss\n",
    "\n",
    "    def configure_optimizers(self):\n",
    "        optimizer = optim.Adam(self.parameters(), lr=self.hparams.learning_rate)\n",
    "        return optimizer"
   ]
  },
  {
   "cell_type": "code",
   "execution_count": null,
   "metadata": {},
   "outputs": [],
   "source": [
    "# --- 1. Load and Prepare Data ---\n",
    "### _ADAPT_ ###\n",
    "# This part is the same as the standard PyTorch version.\n",
    "print(\"Loading data...\")\n",
    "dummy_data = torch.randn(200, NUM_CHANNELS, NUM_SAMPLES)\n",
    "dummy_labels = torch.randint(0, NUM_CLASSES, (200,))\n",
    "\n",
    "full_dataset = BCIDataset(data=dummy_data, labels=dummy_labels)\n",
    "\n",
    "num_data = len(full_dataset)\n",
    "num_val = int(num_data * VAL_SPLIT)\n",
    "num_train = num_data - num_val\n",
    "train_dataset, val_dataset = random_split(full_dataset, [num_train, num_val])\n",
    "\n",
    "train_loader = DataLoader(train_dataset, batch_size=BATCH_SIZE, shuffle=True, num_workers=4)\n",
    "val_loader = DataLoader(val_dataset, batch_size=BATCH_SIZE, shuffle=False, num_workers=4)\n",
    "print(f\"Data loaded. Train size: {len(train_dataset)}, Validation size: {len(val_dataset)}\")\n",
    "\n",
    "# --- 2. Initialize Lightning Module ---\n",
    "model = BCILightningModule(\n",
    "    num_classes=NUM_CLASSES,\n",
    "    num_channels=NUM_CHANNELS,\n",
    "    num_samples=NUM_SAMPLES,\n",
    "    learning_rate=LEARNING_RATE\n",
    ")\n",
    "\n",
    "# --- 3. Initialize Trainer ---\n",
    "# Lightning's Trainer handles the training loop, validation, logging, checkpointing, etc.\n",
    "trainer = pl.Trainer(\n",
    "    max_epochs=EPOCHS,\n",
    "    accelerator=\"auto\", # Automatically selects GPU/CPU\n",
    "    log_every_n_steps=10,\n",
    "    callbacks=[pl.callbacks.ModelCheckpoint(monitor='val_acc', mode='max', filename='best_model')]\n",
    ")\n",
    "\n",
    "# --- 4. Train the model ---\n",
    "print(\"Starting training with PyTorch Lightning...\")\n",
    "trainer.fit(model, train_dataloaders=train_loader, val_dataloaders=val_loader)\n",
    "\n",
    "print(\"Training finished. Best model checkpoint saved.\")"
   ]
  }
 ],
 "metadata": {
  "kaggle": {
   "accelerator": "none",
   "dataSources": [
    {
     "databundleVersionId": 12673416,
     "sourceId": 98188,
     "sourceType": "competition"
    }
   ],
   "dockerImageVersionId": 31040,
   "isGpuEnabled": false,
   "isInternetEnabled": true,
   "language": "python",
   "sourceType": "notebook"
  },
  "kernelspec": {
   "display_name": "Python 3 (ipykernel)",
   "language": "python",
   "name": "python3"
  },
  "language_info": {
   "codemirror_mode": {
    "name": "ipython",
    "version": 3
   },
   "file_extension": ".py",
   "mimetype": "text/x-python",
   "name": "python",
   "nbconvert_exporter": "python",
   "pygments_lexer": "ipython3",
   "version": "3.11.11"
  }
 },
 "nbformat": 4,
 "nbformat_minor": 4
}
