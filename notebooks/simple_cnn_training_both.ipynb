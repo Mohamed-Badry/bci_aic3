{
 "cells": [
  {
   "cell_type": "markdown",
   "id": "d7b8a2d8",
   "metadata": {},
   "source": [
    "# Training the MI and SSVEP models using a simple CNN "
   ]
  },
  {
   "cell_type": "code",
   "execution_count": 1,
   "id": "382472d6",
   "metadata": {},
   "outputs": [],
   "source": [
    "import torch\n",
    "\n",
    "import os\n",
    "import pandas as pd\n",
    "from typing import Tuple\n",
    "\n",
    "from torch import nn, optim\n",
    "from torcheval.metrics.functional import (multiclass_f1_score,\n",
    "                                          binary_accuracy,\n",
    "                                          binary_f1_score)\n",
    "\n",
    "from pytorch_lightning import seed_everything\n",
    "\n",
    "# Code necessary to create reproducible runs\n",
    "os.environ[\"CUBLAS_WORKSPACE_CONFIG\"] = \":4096:8\"\n",
    "seed_everything(42, workers=True)\n",
    "torch.use_deterministic_algorithms(True, warn_only=True)\n",
    "\n",
    "device = torch.device(\"cuda\" if torch.cuda.is_available() else \"cpu\")"
   ]
  },
  {
   "cell_type": "markdown",
   "id": "43528c88",
   "metadata": {},
   "source": [
    "### Dataset Abstraction"
   ]
  },
  {
   "cell_type": "code",
   "execution_count": 2,
   "id": "de9522ff",
   "metadata": {},
   "outputs": [],
   "source": [
    "# data.py\n",
    "from torch.utils.data import DataLoader, Dataset\n",
    "\n",
    "class BCIDataset(Dataset):\n",
    "    def __init__(self, csv_file, base_path, task_type=\"MI\", label_mapping=None):\n",
    "        # Filter the main dataframe for the specific task (MI or SSVEP)\n",
    "        self.metadata = pd.read_csv(os.path.join(base_path, csv_file))\n",
    "        self.metadata = self.metadata[self.metadata[\"task\"] == task_type]\n",
    "        self.base_path = base_path\n",
    "        self.task_type = task_type\n",
    "        self.label_mapping = label_mapping\n",
    "\n",
    "        # 9 seconds * 250 Hz = 2250 for MI\n",
    "        # 7 seconds * 250 Hz = 1750 for SSVEP\n",
    "        self.sequence_length = 2250 if task_type == \"MI\" else 1750\n",
    "\n",
    "\n",
    "        num_trials = len(self.metadata)\n",
    "\n",
    "        self.tensor_data = torch.empty(\n",
    "            num_trials, self.sequence_length, 8, dtype=torch.float32\n",
    "        )\n",
    "        self.labels = torch.empty(num_trials, dtype=torch.long)\n",
    "\n",
    "        for i, (idx, row) in enumerate(self.metadata.iterrows()):\n",
    "            # Determine dataset split (train/validation/test)\n",
    "            id_num = row[\"id\"]\n",
    "            if id_num <= 4800:\n",
    "                dataset_split = \"train\"\n",
    "            elif id_num <= 4900:\n",
    "                dataset_split = \"validation\"\n",
    "            else:\n",
    "                dataset_split = \"test\"\n",
    "\n",
    "            # Path to the EEG data file\n",
    "            eeg_path = os.path.join(\n",
    "                self.base_path,\n",
    "                row[\"task\"],\n",
    "                dataset_split,\n",
    "                row[\"subject_id\"],\n",
    "                str(row[\"trial_session\"]),\n",
    "                \"EEGdata.csv\",\n",
    "            )\n",
    "\n",
    "            eeg_data = pd.read_csv(eeg_path)\n",
    "\n",
    "            # Extract the correct trial segment\n",
    "            trial_num = int(row[\"trial\"])\n",
    "\n",
    "            samples_per_trial = self.sequence_length\n",
    "            start_idx = (trial_num - 1) * samples_per_trial\n",
    "            end_idx = start_idx + samples_per_trial - 1\n",
    "\n",
    "            # Select only the 8 EEG channels\n",
    "            eeg_channels = [\"FZ\", \"C3\", \"CZ\", \"C4\", \"PZ\", \"PO7\", \"OZ\", \"PO8\"]\n",
    "            trial_data = eeg_data.loc[start_idx : end_idx, eeg_channels].values\n",
    "\n",
    "            # uncomment the line below and comment the one above to include all 18 columns\n",
    "            # trial_data = eeg_data.loc[start_idx:end_idx-1].values\n",
    "\n",
    "            # Preprocess the data (see next section)\n",
    "            processed_data = self.preprocess(trial_data)\n",
    "\n",
    "            # Convert to tensor\n",
    "            tensor_data = torch.tensor(processed_data, dtype=torch.float32)\n",
    "            self.tensor_data[i] = tensor_data\n",
    "\n",
    "            # Get label if it exists\n",
    "            if \"label\" in row and self.label_mapping:\n",
    "                label_str = row[\"label\"]\n",
    "                label_int = self.label_mapping[label_str]\n",
    "                self.labels[i] = label_int\n",
    "\n",
    "    def __len__(self):\n",
    "        return len(self.tensor_data)\n",
    "\n",
    "    def __getitem__(self, idx):\n",
    "        if self.labels[idx] is not None:\n",
    "            return self.tensor_data[idx], self.labels[idx]\n",
    "        else:\n",
    "            return self.tensor_data[idx]\n",
    "\n",
    "    def preprocess(self, eeg_data):\n",
    "        # Apply preprocessing steps here (filtering, normalization, etc.)\n",
    "        # This will be different for MI and SSVEP\n",
    "        # ...\n",
    "        return eeg_data\n",
    "\n",
    "\n",
    "def load_data(base_path, task_type, label_mapping) -> Tuple[BCIDataset, BCIDataset, BCIDataset]:\n",
    "    \"\"\"\n",
    "    Loads the train, val, test data for the given {task_type} inside the given {base_path}\n",
    "\n",
    "    Returns:\n",
    "        a tuple of BCIDataset in the order (train, val, test)\n",
    "    \"\"\"\n",
    "\n",
    "    train = BCIDataset(csv_file=\"train.csv\", base_path=base_path, task_type=task_type, label_mapping=label_mapping)\n",
    "    val = BCIDataset(\n",
    "        csv_file=\"validation.csv\", base_path=base_path, task_type=task_type, label_mapping=label_mapping\n",
    "    )\n",
    "    test = BCIDataset(csv_file=\"test.csv\", base_path=base_path, task_type=task_type, label_mapping=label_mapping)\n",
    "\n",
    "    return train, val, test"
   ]
  },
  {
   "cell_type": "markdown",
   "id": "d493a796",
   "metadata": {},
   "source": [
    "### Simple CNN Model Architecture"
   ]
  },
  {
   "cell_type": "code",
   "execution_count": 3,
   "id": "1cc9de4c",
   "metadata": {},
   "outputs": [],
   "source": [
    "# models/simple_cnn.py\n",
    "\n",
    "# Simple CNN model\n",
    "class BCIModel(nn.Module):\n",
    "    def __init__(self, input_channels, num_classes, sequence_length):\n",
    "        super(BCIModel, self).__init__()\n",
    "        self.conv1 = nn.Conv1d(input_channels, 16, kernel_size=3)  # 8 channels\n",
    "        self.pool = nn.MaxPool1d(2)\n",
    "        \n",
    "        # Helper to calculate the flattened size\n",
    "        self._get_conv_output_size(input_channels, sequence_length)\n",
    "        \n",
    "        self.fc1 = nn.Linear(self._to_linear, num_classes)\n",
    "        \n",
    "    def _get_conv_output_size(self, input_channels, sequence_length):\n",
    "        # Create a dummy input tensor\n",
    "        dummy_input = torch.randn(1, input_channels, sequence_length)\n",
    "        \n",
    "        # Pass it through the convolutional and pooling layers\n",
    "        output = self.pool(torch.relu(self.conv1(dummy_input)))\n",
    "        \n",
    "        # Calculate the flattened size\n",
    "        self._to_linear = output.numel()\n",
    "\n",
    "    def forward(self, x):\n",
    "        x = self.pool(torch.relu(self.conv1(x)))\n",
    "        x = x.view(x.size(0), -1)\n",
    "        x = self.fc1(x)\n",
    "        return x"
   ]
  },
  {
   "cell_type": "markdown",
   "id": "2cd3991b",
   "metadata": {},
   "source": [
    "### Helper Functions"
   ]
  },
  {
   "cell_type": "code",
   "execution_count": 4,
   "id": "7758bfda",
   "metadata": {},
   "outputs": [],
   "source": [
    "# util.py\n",
    "def rec_cpu_count() -> int:\n",
    "    \"\"\"Returns recommended cpu count based on machine and a simple heuristic\"\"\"\n",
    "    cpu_count = os.cpu_count()\n",
    "\n",
    "    if cpu_count is None:\n",
    "        return 4\n",
    "\n",
    "    return min(cpu_count // 2, 8)"
   ]
  },
  {
   "cell_type": "code",
   "execution_count": 5,
   "id": "324de3e5",
   "metadata": {},
   "outputs": [],
   "source": [
    "base_path = \"/kaggle/input/mtcaic3\"\n",
    "# base_path = \"/data/raw/mtcaic3\"\n",
    "label_mapping = {'Left': 0, 'Right': 1, 'Forward': 2, 'Backward': 3}\n",
    "task_type = \"MI\"  # MI or SSVEP\n",
    "sequence_length = None\n",
    "\n",
    "if task_type == \"MI\":\n",
    "    num_classes = 2\n",
    "    sequence_length = 2250\n",
    "elif task_type == \"SSVEP\":\n",
    "    num_classes = 4\n",
    "    sequence_length = 1750\n",
    "\n",
    "batch_size = 128\n",
    "max_num_workers = rec_cpu_count()\n",
    "\n",
    "# Loading the data\n",
    "train_mi, val_mi, test_ssvep = load_data(\n",
    "    base_path=base_path, task_type=task_type, label_mapping=label_mapping\n",
    ")\n",
    "\n",
    "train_loader_mi = DataLoader(\n",
    "    train_mi, \n",
    "    batch_size=batch_size,\n",
    "    shuffle=True,\n",
    "    num_workers=max_num_workers,\n",
    ")\n",
    "val_loader_mi = DataLoader(\n",
    "    val_mi, \n",
    "    batch_size=batch_size,\n",
    "    shuffle=False,\n",
    "    num_workers=max_num_workers, \n",
    ")"
   ]
  },
  {
   "cell_type": "markdown",
   "id": "2225be85",
   "metadata": {},
   "source": [
    "## MI"
   ]
  },
  {
   "cell_type": "code",
   "execution_count": 7,
   "id": "f37a7c93",
   "metadata": {},
   "outputs": [],
   "source": [
    "# Defining the mi_model, loss, and optimizer\n",
    "mi_model = BCIModel(train_mi[0][0].shape[1], num_classes=num_classes, sequence_length=sequence_length).to(device)\n",
    "criterion = nn.CrossEntropyLoss()\n",
    "optimizer = optim.Adam(mi_model.parameters(), lr=0.001)"
   ]
  },
  {
   "cell_type": "code",
   "execution_count": 8,
   "id": "3ba623b1",
   "metadata": {},
   "outputs": [
    {
     "name": "stdout",
     "output_type": "stream",
     "text": [
      "Epoch 5, Val Loss: 807.3358764648438\n",
      "Epoch 10, Val Loss: 1075.530029296875\n",
      "Epoch 15, Val Loss: 830.7078247070312\n",
      "Epoch 20, Val Loss: 893.7257080078125\n",
      "Epoch 25, Val Loss: 801.54736328125\n",
      "Epoch 30, Val Loss: 818.6141357421875\n",
      "Epoch 35, Val Loss: 859.888427734375\n",
      "Epoch 40, Val Loss: 862.5120239257812\n",
      "Epoch 45, Val Loss: 863.661376953125\n",
      "Epoch 50, Val Loss: 863.2930297851562\n",
      "Epoch 55, Val Loss: 862.216064453125\n",
      "Epoch 60, Val Loss: 862.005126953125\n",
      "Epoch 65, Val Loss: 861.9745483398438\n",
      "Epoch 70, Val Loss: 862.0718994140625\n",
      "Epoch 75, Val Loss: 862.033935546875\n",
      "Epoch 80, Val Loss: 862.0060424804688\n",
      "Epoch 85, Val Loss: 862.01220703125\n",
      "Epoch 90, Val Loss: 862.0165405273438\n",
      "Epoch 95, Val Loss: 862.0192260742188\n",
      "Epoch 100, Val Loss: 862.021240234375\n"
     ]
    }
   ],
   "source": [
    "from tqdm import tqdm\n",
    "\n",
    "# Training loop\n",
    "num_epochs = 100\n",
    "with torch.profiler.profile() as prof:\n",
    "    for epoch in range(num_epochs):\n",
    "        mi_model.train()\n",
    "        \n",
    "        for data, labels in train_loader_mi:\n",
    "            data = data.to(device)\n",
    "            labels = labels.to(device)\n",
    "            \n",
    "            optimizer.zero_grad()\n",
    "            outputs = mi_model(data.transpose(1, 2))\n",
    "\n",
    "            loss = criterion(outputs, labels)\n",
    "\n",
    "            loss.backward()\n",
    "            optimizer.step()\n",
    "\n",
    "        # Validation\n",
    "        mi_model.eval()\n",
    "        val_loss = 0\n",
    "        with torch.no_grad():\n",
    "            for data, labels in val_loader_mi:\n",
    "                data = data.to(device)\n",
    "                labels = labels.to(device)\n",
    "                \n",
    "                outputs = mi_model(data.transpose(1, 2))\n",
    "\n",
    "                val_loss += criterion(outputs, labels).item()\n",
    "\n",
    "        if (epoch + 1) % 5 == 0:\n",
    "            print(f\"Epoch {epoch + 1}, Val Loss: {val_loss / len(val_loader_mi)}\")"
   ]
  },
  {
   "cell_type": "code",
   "execution_count": 9,
   "id": "06ef3b47",
   "metadata": {},
   "outputs": [
    {
     "name": "stdout",
     "output_type": "stream",
     "text": [
      "-------------------------------------------------------  ------------  ------------  ------------  ------------  ------------  ------------  ------------  ------------  ------------  ------------  \n",
      "                                                   Name    Self CPU %      Self CPU   CPU total %     CPU total  CPU time avg     Self CUDA   Self CUDA %    CUDA total  CUDA time avg    # of Calls  \n",
      "-------------------------------------------------------  ------------  ------------  ------------  ------------  ------------  ------------  ------------  ------------  ------------  ------------  \n",
      "enumerate(DataLoader)#_MultiProcessingDataLoaderIter...        53.34%       16.902s        53.75%       17.032s       7.742ms       0.000us         0.00%       0.000us       0.000us          2200  \n",
      "                                        cudaMemcpyAsync        19.57%        6.201s        19.57%        6.201s       1.512ms       0.000us         0.00%       0.000us       0.000us          4100  \n",
      "                                       cudaLaunchKernel         3.83%        1.213s         4.45%        1.409s      17.369us       0.000us         0.00%       4.933ms       0.061us         81116  \n",
      "                                               aten::mm         3.12%     987.169ms         3.46%        1.095s     288.144us     255.203ms         1.89%     255.203ms      67.159us          3800  \n",
      "                               Optimizer.step#Adam.step         2.74%     867.296ms         5.70%        1.805s     950.195us       0.000us         0.00%     411.889ms     216.784us          1900  \n",
      "                                            aten::addmm         2.20%     696.972ms         2.76%     873.211ms     436.606us     237.834ms         1.76%     250.016ms     125.008us          2000  \n",
      "                                            aten::fill_         1.21%     382.363ms         2.63%     831.810ms      24.742us     422.230ms         3.13%     422.239ms      12.559us         33620  \n",
      "                                            aten::empty         0.88%     278.939ms         1.69%     536.661ms      37.782us       0.000us         0.00%     165.614ms      11.660us         14204  \n",
      "                                aten::cudnn_convolution         0.85%     268.394ms         1.35%     427.334ms     213.667us     590.764ms         4.38%     593.578ms     296.789us          2000  \n",
      "                                    aten::empty_strided         0.81%     257.352ms         2.10%     666.644ms      49.352us       0.000us         0.00%     102.399ms       7.581us         13508  \n",
      "                                           Unrecognized         0.73%     231.057ms         0.73%     231.057ms       3.165ms       5.999ms         0.04%       5.999ms      82.180us            73  \n",
      "                             aten::convolution_backward         0.62%     197.586ms         2.17%     687.394ms     361.787us        2.740s        20.33%        3.248s       1.710ms          1900  \n",
      "                     Optimizer.zero_grad#Adam.zero_grad         0.53%     167.616ms         0.53%     167.616ms      88.219us       0.000us         0.00%       0.000us       0.000us          1900  \n",
      "                                  cudaStreamSynchronize         0.50%     158.623ms         0.50%     158.623ms      38.689us       0.000us         0.00%       0.000us       0.000us          4100  \n",
      "                                            aten::copy_         0.44%     140.453ms        20.69%        6.556s     829.853us        5.952s        44.17%        5.953s     753.524us          7900  \n",
      "                                              aten::sum         0.42%     131.683ms         0.65%     205.027ms      53.954us     215.567ms         1.60%     215.567ms      56.728us          3800  \n",
      "                                        cudaMemsetAsync         0.41%     129.266ms         0.41%     129.266ms      17.004us       0.000us         0.00%       0.000us       0.000us          7602  \n",
      "                          aten::max_pool2d_with_indices         0.30%      94.584ms         0.40%     125.699ms      62.850us     527.892ms         3.92%     528.932ms     264.466us          2000  \n",
      "                                     aten::_convolution         0.29%      92.532ms         2.93%     927.434ms     463.717us       0.000us         0.00%        1.267s     633.517us          2000  \n",
      "                                             aten::add_         0.24%      74.925ms         0.38%     120.637ms      12.566us     341.033ms         2.53%     341.742ms      35.598us          9600  \n",
      "                                     aten::_log_softmax         0.22%      70.034ms         0.37%     116.081ms      58.041us       7.482ms         0.06%       7.493ms       3.747us          2000  \n",
      "                               aten::threshold_backward         0.22%      68.211ms         0.34%     106.283ms      55.939us     413.275ms         3.07%     413.275ms     217.513us          1900  \n",
      "                                               aten::to         0.22%      68.204ms        21.63%        6.854s     699.132us       0.000us         0.00%        5.517s     562.760us          9804  \n",
      "                                aten::nll_loss_backward         0.21%      66.820ms         0.58%     184.594ms      97.155us      10.477ms         0.08%      15.109ms       7.952us          1900  \n",
      "                                 aten::nll_loss_forward         0.21%      66.155ms         0.32%     100.789ms      50.394us      14.931ms         0.11%      14.954ms       7.477us          2000  \n",
      "                                       aten::as_strided         0.19%      61.537ms         0.19%      61.537ms       1.668us       0.000us         0.00%       0.000us       0.000us         36900  \n",
      "autograd::engine::evaluate_function: torch::autograd...         0.19%      60.911ms         0.40%     127.728ms      16.806us       0.000us         0.00%       0.000us       0.000us          7600  \n",
      "    autograd::engine::evaluate_function: AddmmBackward0         0.19%      60.636ms         4.31%        1.367s     719.353us       0.000us         0.00%     298.734ms     157.228us          1900  \n",
      "                                    aten::_foreach_add_         0.19%      59.833ms         0.36%     113.791ms      29.945us      28.762ms         0.21%      28.778ms       7.573us          3800  \n",
      "                 aten::max_pool2d_with_indices_backward         0.18%      57.081ms         0.48%     151.417ms      79.693us        1.088s         8.07%        1.233s     648.977us          1900  \n",
      "                                        aten::unsqueeze         0.17%      52.588ms         0.22%      70.301ms       5.169us       0.000us         0.00%       0.000us       0.000us         13600  \n",
      "                                         aten::_to_copy         0.16%      52.246ms        21.42%        6.786s       1.697ms       0.000us         0.00%        5.517s       1.379ms          4000  \n",
      "                                                aten::t         0.16%      52.204ms         0.33%     103.363ms      10.767us       0.000us         0.00%       0.000us       0.000us          9600  \n",
      "                                          aten::squeeze         0.16%      51.586ms         0.20%      63.302ms       6.459us       0.000us         0.00%       0.000us       0.000us          9800  \n",
      "                                        aten::clamp_min         0.16%      51.549ms         0.31%      98.576ms      49.288us     292.381ms         2.17%     293.299ms     146.649us          2000  \n",
      "                                        aten::transpose         0.15%      46.820ms         0.24%      76.719ms       6.614us       0.000us         0.00%       0.000us       0.000us         11600  \n",
      "                                         AddmmBackward0         0.15%      46.466ms         3.79%        1.200s     631.454us       0.000us         0.00%     255.203ms     134.317us          1900  \n",
      "                                    aten::_foreach_sqrt         0.15%      46.293ms         1.17%     371.942ms     195.759us      48.813ms         0.36%      67.894ms      35.734us          1900  \n",
      "                                   aten::_foreach_lerp_         0.14%      43.642ms         0.29%      93.400ms      49.158us      43.665ms         0.32%      43.729ms      23.015us          1900  \n",
      "                                aten::_foreach_addcdiv_         0.14%      43.203ms         0.21%      67.277ms      35.409us     103.607ms         0.77%     103.649ms      54.552us          1900  \n",
      "                                aten::_foreach_addcmul_         0.13%      41.963ms         0.23%      71.689ms      37.731us      39.448ms         0.29%      39.510ms      20.795us          1900  \n",
      "                       aten::_log_softmax_backward_data         0.13%      41.220ms         0.20%      64.462ms      33.927us       6.043ms         0.04%       6.043ms       3.180us          1900  \n",
      "autograd::engine::evaluate_function: NllLossBackward...         0.13%      40.820ms         0.77%     243.300ms     128.053us       0.000us         0.00%      15.109ms       7.952us          1900  \n",
      "                                    aten::_foreach_mul_         0.13%      40.273ms         0.24%      76.513ms      40.270us      34.476ms         0.26%      34.522ms      18.169us          1900  \n",
      "                                             aten::relu         0.12%      39.244ms         0.43%     137.820ms      68.910us       0.000us         0.00%     293.299ms     146.649us          2000  \n",
      "autograd::engine::evaluate_function: ConvolutionBack...         0.12%      39.135ms         2.33%     738.976ms     388.935us       0.000us         0.00%        3.248s       1.710ms          1900  \n",
      "                                      aten::convolution         0.12%      38.650ms         3.05%     966.084ms     483.042us       0.000us         0.00%        1.267s     633.517us          2000  \n",
      "                                    aten::_foreach_div_         0.12%      37.097ms         0.22%      70.720ms      37.221us      61.639ms         0.46%      61.743ms      32.496us          1900  \n",
      "                                            aten::zero_         0.11%      35.874ms         0.54%     171.194ms      44.956us       0.000us         0.00%     149.730ms      39.320us          3808  \n",
      "autograd::engine::evaluate_function: MaxPool2DWithIn...         0.11%      33.782ms         0.62%     195.495ms     102.892us       0.000us         0.00%        1.233s     648.977us          1900  \n",
      "                                             aten::view         0.10%      32.448ms         0.10%      32.448ms       4.160us       0.000us         0.00%       0.000us       0.000us          7800  \n",
      "                        torch::autograd::AccumulateGrad         0.10%      30.327ms         0.21%      66.817ms       8.792us       0.000us         0.00%       0.000us       0.000us          7600  \n",
      "                                            aten::clone         0.09%      28.611ms         1.33%     420.178ms     107.738us       0.000us         0.00%     662.495ms     169.871us          3900  \n",
      "                                             aten::item         0.09%      28.098ms         0.14%      44.993ms       2.884us       0.000us         0.00%     209.984us       0.013us         15600  \n",
      "     autograd::engine::evaluate_function: ReluBackward0         0.08%      26.223ms         0.45%     144.113ms      75.849us       0.000us         0.00%     413.275ms     217.513us          1900  \n",
      "                          aten::max_pool1d_with_indices         0.08%      24.962ms         0.63%     199.576ms      99.788us       0.000us         0.00%     528.932ms     264.466us          2000  \n",
      "                                       aten::empty_like         0.08%      24.672ms         1.11%     350.339ms      60.320us       0.000us         0.00%     153.226ms      26.382us          5808  \n",
      "autograd::engine::evaluate_function: LogSoftmaxBackw...         0.08%      24.389ms         0.32%     102.178ms      53.778us       0.000us         0.00%       6.043ms       3.180us          1900  \n",
      "                                             aten::set_         0.07%      22.262ms         0.07%      22.262ms       5.565us       0.000us         0.00%       0.000us       0.000us          4000  \n",
      "                                                 detach         0.06%      19.730ms         0.06%      19.730ms       2.596us       0.000us         0.00%       0.000us       0.000us          7600  \n",
      "autograd::engine::evaluate_function: UnsqueezeBackwa...         0.06%      19.629ms         0.12%      39.110ms      20.584us       0.000us         0.00%       0.000us       0.000us          1900  \n",
      "                                       NllLossBackward0         0.06%      17.885ms         0.64%     202.479ms     106.568us       0.000us         0.00%      15.109ms       7.952us          1900  \n",
      "                               aten::cross_entropy_loss         0.05%      17.073ms         0.84%     267.525ms     133.763us       0.000us         0.00%      22.447ms      11.224us          2000  \n",
      "        autograd::engine::evaluate_function: TBackward0         0.05%      17.057ms         0.13%      42.522ms      22.380us       0.000us         0.00%       0.000us       0.000us          1900  \n",
      "                                           aten::detach         0.05%      16.760ms         0.12%      36.490ms       4.801us       0.000us         0.00%       0.000us       0.000us          7600  \n",
      "autograd::engine::evaluate_function: SqueezeBackward...         0.05%      15.994ms         0.11%      34.100ms      17.948us       0.000us         0.00%       0.000us       0.000us          1900  \n",
      "                                      aten::log_softmax         0.05%      15.851ms         0.42%     133.145ms      66.573us       0.000us         0.00%       7.493ms       3.747us          2000  \n",
      "                                         aten::randperm         0.05%      15.596ms         0.14%      44.028ms     110.070us       0.000us         0.00%       0.000us       0.000us           400  \n",
      "                                           aten::linear         0.05%      15.452ms         2.88%     913.593ms     456.797us       0.000us         0.00%     250.016ms     125.008us          2000  \n",
      "                                        cudaEventRecord         0.05%      15.381ms         0.05%      15.381ms       3.944us       0.000us         0.00%       0.000us       0.000us          3900  \n",
      "     autograd::engine::evaluate_function: ViewBackward0         0.05%      15.033ms         0.09%      29.696ms      15.630us       0.000us         0.00%       0.000us       0.000us          1900  \n",
      "                                       aten::contiguous         0.05%      14.685ms         1.37%     434.863ms     111.503us       0.000us         0.00%     662.495ms     169.871us          3900  \n",
      "                                   cudaGetSymbolAddress         0.04%      14.056ms         0.05%      14.345ms      14.345ms       0.000us         0.00%     626.046us     626.046us             1  \n",
      "                                    LogSoftmaxBackward0         0.04%      13.327ms         0.25%      77.789ms      40.941us       0.000us         0.00%       6.043ms       3.180us          1900  \n",
      "                                       aten::max_pool1d         0.04%      13.056ms         0.67%     212.632ms     106.316us       0.000us         0.00%     528.932ms     264.466us          2000  \n",
      "                                   ConvolutionBackward0         0.04%      12.447ms         2.21%     699.841ms     368.338us       0.000us         0.00%        3.248s       1.710ms          1900  \n",
      "                              aten::_local_scalar_dense         0.04%      11.743ms         0.05%      16.895ms       1.083us     209.984us         0.00%     209.984us       0.013us         15600  \n",
      "                                          ReluBackward0         0.04%      11.606ms         0.37%     117.890ms      62.047us       0.000us         0.00%     413.275ms     217.513us          1900  \n",
      "                                      aten::result_type         0.03%      10.936ms         0.03%      10.936ms       0.288us       0.000us         0.00%       0.000us       0.000us         38000  \n",
      "                                           aten::conv1d         0.03%      10.934ms         3.08%     977.019ms     488.509us       0.000us         0.00%        1.267s     633.517us          2000  \n",
      "                                  cudaStreamIsCapturing         0.03%      10.910ms         0.03%      10.910ms       1.879us      31.998ms         0.24%      31.998ms       5.510us          5807  \n",
      "                          MaxPool2DWithIndicesBackward0         0.03%      10.297ms         0.51%     161.714ms      85.112us       0.000us         0.00%        1.233s     648.977us          1900  \n",
      "                                        aten::ones_like         0.03%       9.504ms         0.41%     131.437ms      69.177us       0.000us         0.00%       9.311ms       4.900us          1900  \n",
      "                                          aten::reshape         0.03%       8.657ms         0.06%      20.153ms       5.167us       0.000us         0.00%       0.000us       0.000us          3900  \n",
      "                                         aten::nll_loss         0.03%       8.535ms         0.35%     109.323ms      54.662us       0.000us         0.00%      14.954ms       7.477us          2000  \n",
      "                                      aten::nll_loss_nd         0.03%       7.984ms         0.37%     117.307ms      58.653us       0.000us         0.00%      14.954ms       7.477us          2000  \n",
      "                                          aten::random_         0.02%       7.871ms         0.02%       7.871ms      26.237us       0.000us         0.00%       0.000us       0.000us           300  \n",
      "          cudaOccupancyMaxActiveBlocksPerMultiprocessor         0.02%       7.592ms         0.05%      15.856ms       8.780us       0.000us         0.00%     440.448us       0.244us          1806  \n",
      "                                           Buffer Flush         0.02%       7.432ms         0.02%       7.435ms     354.065us       1.377ms         0.01%       1.377ms      65.565us            21  \n",
      "                                       SqueezeBackward1         0.02%       6.835ms         0.06%      18.107ms       9.530us       0.000us         0.00%       0.000us       0.000us          1900  \n",
      "                                    cudaPeekAtLastError         0.02%       5.829ms         0.02%       5.829ms       1.428us       0.000us         0.00%       0.000us       0.000us          4081  \n",
      "                                          ViewBackward0         0.02%       5.793ms         0.05%      14.663ms       7.717us       0.000us         0.00%       0.000us       0.000us          1900  \n",
      "                                             TBackward0         0.02%       5.382ms         0.08%      25.465ms      13.402us       0.000us         0.00%       0.000us       0.000us          1900  \n",
      "                                          aten::detach_         0.02%       5.289ms         0.02%       7.876ms       4.137us       0.000us         0.00%       0.000us       0.000us          1904  \n",
      "                                     UnsqueezeBackward0         0.02%       5.254ms         0.06%      19.481ms      10.253us       0.000us         0.00%       0.000us       0.000us          1900  \n",
      "                                  cudaStreamGetPriority         0.01%       4.206ms         0.01%       4.206ms       1.078us       0.000us         0.00%       0.000us       0.000us          3900  \n",
      "                       cudaDeviceGetStreamPriorityRange         0.01%       3.541ms         0.01%       3.541ms       0.908us       0.000us         0.00%       0.000us       0.000us          3900  \n",
      "                                             cudaMalloc         0.01%       3.389ms         0.01%       3.389ms     260.688us       0.000us         0.00%       0.000us       0.000us            13  \n",
      "                                    aten::scalar_tensor         0.01%       3.215ms         0.01%       3.361ms      16.807us       0.000us         0.00%       0.000us       0.000us           200  \n",
      "                                               cudaFree         0.01%       2.878ms         0.01%       2.878ms     719.524us       0.000us         0.00%       0.000us       0.000us             4  \n",
      "-------------------------------------------------------  ------------  ------------  ------------  ------------  ------------  ------------  ------------  ------------  ------------  ------------  \n",
      "Self CPU time total: 31.686s\n",
      "Self CUDA time total: 13.476s\n",
      "\n"
     ]
    }
   ],
   "source": [
    "print(prof.key_averages().table(sort_by=\"self_cpu_time_total\"))"
   ]
  },
  {
   "cell_type": "markdown",
   "id": "222d0588",
   "metadata": {},
   "source": [
    "#### MI Model Summary"
   ]
  },
  {
   "cell_type": "code",
   "execution_count": 11,
   "id": "403836c3",
   "metadata": {},
   "outputs": [
    {
     "data": {
      "text/plain": [
       "===================================================================================================================\n",
       "Layer (type:depth-idx)                   Input Shape               Output Shape              Param #\n",
       "===================================================================================================================\n",
       "BCIModel                                 [1, 8, 2250]              [1, 2]                    --\n",
       "├─Conv1d: 1-1                            [1, 8, 2250]              [1, 16, 2248]             400\n",
       "├─MaxPool1d: 1-2                         [1, 16, 2248]             [1, 16, 1124]             --\n",
       "├─Linear: 1-3                            [1, 17984]                [1, 2]                    35,970\n",
       "===================================================================================================================\n",
       "Total params: 36,370\n",
       "Trainable params: 36,370\n",
       "Non-trainable params: 0\n",
       "Total mult-adds (Units.MEGABYTES): 0.94\n",
       "===================================================================================================================\n",
       "Input size (MB): 0.07\n",
       "Forward/backward pass size (MB): 0.29\n",
       "Params size (MB): 0.15\n",
       "Estimated Total Size (MB): 0.51\n",
       "==================================================================================================================="
      ]
     },
     "execution_count": 11,
     "metadata": {},
     "output_type": "execute_result"
    }
   ],
   "source": [
    "from torchinfo import summary\n",
    "\n",
    "summary(mi_model, \n",
    "        input_size=(1, 8, 2250),\n",
    "        col_names=['input_size',\n",
    "                   'output_size',\n",
    "                   'num_params'])"
   ]
  },
  {
   "cell_type": "markdown",
   "id": "2f4ecc23",
   "metadata": {},
   "source": [
    "### MI Validation Metrics"
   ]
  },
  {
   "cell_type": "code",
   "execution_count": 12,
   "id": "a7699049",
   "metadata": {},
   "outputs": [
    {
     "name": "stdout",
     "output_type": "stream",
     "text": [
      "F1 Score: 0.6111\n",
      "Multiclass F1 Score (micro): 0.4400\n",
      "Multiclass F1 Score (macro): 0.3056\n",
      "Accuracy: 0.4400\n"
     ]
    }
   ],
   "source": [
    "all_preds = []\n",
    "all_labels = []\n",
    "\n",
    "mi_model.eval()\n",
    "with torch.no_grad():\n",
    "    for x_batch, y_batch in val_loader_mi:\n",
    "        x_batch = x_batch.to(device)\n",
    "        y_batch = y_batch.to(device)\n",
    "        \n",
    "        logits = mi_model(x_batch.transpose(1, 2))\n",
    "        preds = torch.argmax(logits, dim=1)\n",
    "        all_preds.append(preds)\n",
    "        all_labels.append(y_batch)\n",
    "\n",
    "# Concatenate all predictions and labels\n",
    "all_preds = torch.cat(all_preds)\n",
    "all_labels = torch.cat(all_labels)\n",
    "\n",
    "f1 = binary_f1_score(all_preds, all_labels)\n",
    "print(f\"F1 Score: {f1.item():.4f}\")\n",
    "\n",
    "multi_f1_micro = multiclass_f1_score(all_preds, all_labels, num_classes=2, average='micro')\n",
    "print(f\"Multiclass F1 Score (micro): {multi_f1_micro.item():.4f}\")\n",
    "\n",
    "multi_f1_macro = multiclass_f1_score(all_preds, all_labels, num_classes=2, average='macro')\n",
    "print(f\"Multiclass F1 Score (macro): {multi_f1_macro.item():.4f}\")\n",
    "\n",
    "acc = binary_accuracy(all_preds, all_labels)\n",
    "print(f\"Accuracy: {acc.item():.4f}\")"
   ]
  },
  {
   "cell_type": "markdown",
   "id": "b5223256",
   "metadata": {},
   "source": [
    "### Save MI model"
   ]
  },
  {
   "cell_type": "code",
   "execution_count": 13,
   "id": "9e24bcfa",
   "metadata": {},
   "outputs": [],
   "source": [
    "mi_save_path = \"mi_model_simple_cnn_cuda.pth\"\n",
    "torch.save({\n",
    "    \"epoch\": epoch,                     \n",
    "    \"model_state_dict\": mi_model.state_dict(),\n",
    "    \"optimizer_state_dict\": optimizer.state_dict(),\n",
    "    \"loss\": loss,\n",
    "    \"f1_score\": multi_f1_macro,\n",
    "}, mi_save_path)"
   ]
  },
  {
   "cell_type": "markdown",
   "id": "1800c2bb",
   "metadata": {},
   "source": [
    "### Load Model"
   ]
  },
  {
   "cell_type": "code",
   "execution_count": 14,
   "id": "565f6026",
   "metadata": {},
   "outputs": [],
   "source": [
    "def load_model(model_path, input_size, num_classes, sequence_length):\n",
    "    model = BCIModel(input_size, num_classes, sequence_length).to(device)\n",
    "    optimizer = torch.optim.Adam(model.parameters(), lr=0.001)\n",
    "    \n",
    "    checkpoint = torch.load(model_path, map_location=\"cpu\")\n",
    "    model.load_state_dict(checkpoint[\"model_state_dict\"])\n",
    "    optimizer.load_state_dict(checkpoint[\"optimizer_state_dict\"])\n",
    "    \n",
    "    return model, optimizer\n",
    "\n",
    "mi_model_loaded, optimizer_loaded = load_model(\"mi_model_simple_cnn.pth\", 8, 2, 2250)"
   ]
  },
  {
   "cell_type": "markdown",
   "id": "b1098a6c",
   "metadata": {},
   "source": [
    "### Loaded Model Evaluation"
   ]
  },
  {
   "cell_type": "code",
   "execution_count": 15,
   "id": "25a7b74e",
   "metadata": {},
   "outputs": [
    {
     "name": "stdout",
     "output_type": "stream",
     "text": [
      "Multiclass F1 Score (macro): 0.3056\n",
      "Accuracy: 0.4400\n"
     ]
    }
   ],
   "source": [
    "all_preds = []\n",
    "all_labels = []\n",
    "\n",
    "mi_model_loaded.eval()\n",
    "with torch.no_grad():\n",
    "    for x_batch, y_batch in val_loader_mi:\n",
    "        x_batch = x_batch.to(device)\n",
    "        y_batch = y_batch.to(device)\n",
    "        \n",
    "        logits = mi_model_loaded(x_batch.transpose(1, 2))\n",
    "        preds = torch.argmax(logits, dim=1)\n",
    "        all_preds.append(preds)\n",
    "        all_labels.append(y_batch)\n",
    "\n",
    "# Concatenate all predictions and labels\n",
    "all_preds = torch.cat(all_preds)\n",
    "all_labels = torch.cat(all_labels)\n",
    "\n",
    "multi_f1_macro = multiclass_f1_score(all_preds, all_labels, num_classes=2, average='macro')\n",
    "print(f\"Multiclass F1 Score (macro): {multi_f1_macro.item():.4f}\")\n",
    "\n",
    "acc = binary_accuracy(all_preds, all_labels)\n",
    "print(f\"Accuracy: {acc.item():.4f}\")"
   ]
  },
  {
   "cell_type": "markdown",
   "id": "31b333f7",
   "metadata": {},
   "source": [
    "## SSVEP"
   ]
  },
  {
   "cell_type": "code",
   "execution_count": 18,
   "id": "f2db7bb4",
   "metadata": {},
   "outputs": [],
   "source": [
    "base_path = \"/kaggle/input/mtcaic3\"\n",
    "# base_path = \"/data/raw/mtcaic3\"\n",
    "label_mapping = {'Left': 0, 'Right': 1, 'Forward': 2, 'Backward': 3}\n",
    "task_type = \"SSVEP\"  # MI or SSVEP\n",
    "sequence_length = None\n",
    "\n",
    "if task_type == \"MI\":\n",
    "    num_classes = 2\n",
    "    sequence_length = 2250\n",
    "elif task_type == \"SSVEP\":\n",
    "    num_classes = 4\n",
    "    sequence_length = 1750\n",
    "\n",
    "batch_size = 128\n",
    "max_num_workers = rec_cpu_count()\n"
   ]
  },
  {
   "cell_type": "code",
   "execution_count": 19,
   "id": "2e7f50cb",
   "metadata": {},
   "outputs": [],
   "source": [
    "\n",
    "# Loading the data\n",
    "train_ssvep, val_ssvep, test_ssvep = load_data(\n",
    "    base_path=base_path, task_type=task_type, label_mapping=label_mapping\n",
    ")\n",
    "\n",
    "train_loader_ssvep = DataLoader(\n",
    "    train_ssvep, batch_size=batch_size, shuffle=True, num_workers=max_num_workers\n",
    ")\n",
    "val_loader_ssvep = DataLoader(\n",
    "    val_ssvep, batch_size=batch_size, shuffle=False, num_workers=max_num_workers\n",
    ")"
   ]
  },
  {
   "cell_type": "code",
   "execution_count": 20,
   "id": "53785a71",
   "metadata": {},
   "outputs": [],
   "source": [
    "# Defining the model, loss, and optimizer\n",
    "ssvep_model = BCIModel(train_ssvep[0][0].shape[1], num_classes=num_classes, sequence_length=sequence_length).to(device)\n",
    "criterion = nn.CrossEntropyLoss()\n",
    "optimizer = optim.Adam(ssvep_model.parameters(), lr=0.001)"
   ]
  },
  {
   "cell_type": "code",
   "execution_count": 21,
   "id": "34c35a65",
   "metadata": {},
   "outputs": [
    {
     "name": "stdout",
     "output_type": "stream",
     "text": [
      "Epoch 5, Val Loss: 552.5588989257812\n",
      "Epoch 10, Val Loss: 550.42529296875\n",
      "Epoch 15, Val Loss: 550.424560546875\n",
      "Epoch 20, Val Loss: 550.423583984375\n",
      "Epoch 25, Val Loss: 550.4229125976562\n",
      "Epoch 30, Val Loss: 550.422607421875\n",
      "Epoch 35, Val Loss: 550.421875\n",
      "Epoch 40, Val Loss: 550.421630859375\n",
      "Epoch 45, Val Loss: 550.4212646484375\n",
      "Epoch 50, Val Loss: 550.4213256835938\n",
      "Epoch 55, Val Loss: 550.421142578125\n",
      "Epoch 60, Val Loss: 550.4210205078125\n",
      "Epoch 65, Val Loss: 550.4210205078125\n",
      "Epoch 70, Val Loss: 550.4209594726562\n",
      "Epoch 75, Val Loss: 550.4208374023438\n",
      "Epoch 80, Val Loss: 550.4209594726562\n",
      "Epoch 85, Val Loss: 550.4205932617188\n",
      "Epoch 90, Val Loss: 550.420654296875\n",
      "Epoch 95, Val Loss: 550.4210815429688\n",
      "Epoch 100, Val Loss: 550.4209594726562\n"
     ]
    }
   ],
   "source": [
    "# Training loop\n",
    "num_epochs = 100\n",
    "for epoch in range(num_epochs):\n",
    "    ssvep_model.train()\n",
    "    for data, labels in train_loader_ssvep:\n",
    "        data = data.to(device)\n",
    "        labels = labels.to(device)\n",
    "        \n",
    "        optimizer.zero_grad()\n",
    "        outputs = ssvep_model(data.transpose(1, 2))\n",
    "\n",
    "        loss = criterion(outputs, labels)\n",
    "\n",
    "        loss.backward()\n",
    "        optimizer.step()\n",
    "\n",
    "    # Validation\n",
    "    ssvep_model.eval()\n",
    "    val_loss = 0\n",
    "    with torch.no_grad():\n",
    "        for data, labels in val_loader_ssvep:\n",
    "            data = data.to(device)\n",
    "            labels = labels.to(device)\n",
    "            \n",
    "            outputs = ssvep_model(data.transpose(1, 2))\n",
    "\n",
    "            val_loss += criterion(outputs, labels).item()\n",
    "\n",
    "    if (epoch + 1) % 5 == 0:\n",
    "        print(f\"Epoch {epoch + 1}, Val Loss: {val_loss / len(val_loader_ssvep)}\")"
   ]
  },
  {
   "cell_type": "markdown",
   "id": "94db572d",
   "metadata": {},
   "source": [
    "#### SSVEP Model Summary"
   ]
  },
  {
   "cell_type": "code",
   "execution_count": 22,
   "id": "043e3c93",
   "metadata": {},
   "outputs": [
    {
     "data": {
      "text/plain": [
       "===================================================================================================================\n",
       "Layer (type:depth-idx)                   Input Shape               Output Shape              Param #\n",
       "===================================================================================================================\n",
       "BCIModel                                 [1, 8, 1750]              [1, 4]                    --\n",
       "├─Conv1d: 1-1                            [1, 8, 1750]              [1, 16, 1748]             400\n",
       "├─MaxPool1d: 1-2                         [1, 16, 1748]             [1, 16, 874]              --\n",
       "├─Linear: 1-3                            [1, 13984]                [1, 4]                    55,940\n",
       "===================================================================================================================\n",
       "Total params: 56,340\n",
       "Trainable params: 56,340\n",
       "Non-trainable params: 0\n",
       "Total mult-adds (Units.MEGABYTES): 0.76\n",
       "===================================================================================================================\n",
       "Input size (MB): 0.06\n",
       "Forward/backward pass size (MB): 0.22\n",
       "Params size (MB): 0.23\n",
       "Estimated Total Size (MB): 0.51\n",
       "==================================================================================================================="
      ]
     },
     "execution_count": 22,
     "metadata": {},
     "output_type": "execute_result"
    }
   ],
   "source": [
    "from torchinfo import summary\n",
    "\n",
    "summary(ssvep_model, \n",
    "        input_size=(1, 8, 1750),\n",
    "        col_names=['input_size',\n",
    "                   'output_size',\n",
    "                   'num_params'])"
   ]
  },
  {
   "cell_type": "markdown",
   "id": "f40aa849",
   "metadata": {},
   "source": [
    "### SSVEP Validation Metrics"
   ]
  },
  {
   "cell_type": "code",
   "execution_count": 23,
   "id": "e1e934ea",
   "metadata": {},
   "outputs": [],
   "source": [
    "from torcheval.metrics.functional import multiclass_accuracy"
   ]
  },
  {
   "cell_type": "code",
   "execution_count": 25,
   "id": "c1ad3d23",
   "metadata": {},
   "outputs": [
    {
     "name": "stdout",
     "output_type": "stream",
     "text": [
      "Multiclass F1 Score (micro): 0.3000\n",
      "Multiclass F1 Score (macro): 0.1736\n",
      "Multiclass Accuracy: 0.3000\n"
     ]
    }
   ],
   "source": [
    "all_preds = []\n",
    "all_labels = []\n",
    "\n",
    "ssvep_model.eval()\n",
    "with torch.no_grad():\n",
    "    for x_batch, y_batch in val_loader_ssvep:\n",
    "        x_batch = x_batch.to(device)\n",
    "        y_batch = y_batch.to(device)\n",
    "        \n",
    "        logits = ssvep_model(x_batch.transpose(1, 2))\n",
    "        preds = torch.argmax(logits, dim=1)\n",
    "        all_preds.append(preds)\n",
    "        all_labels.append(y_batch)\n",
    "\n",
    "# Concatenate all predictions and labels\n",
    "all_preds = torch.cat(all_preds)\n",
    "all_labels = torch.cat(all_labels)\n",
    "\n",
    "multi_f1_micro = multiclass_f1_score(all_preds, all_labels, num_classes=num_classes, average='micro')\n",
    "print(f\"Multiclass F1 Score (micro): {multi_f1_micro.item():.4f}\")\n",
    "\n",
    "multi_f1_macro = multiclass_f1_score(all_preds, all_labels, num_classes=num_classes, average='macro')\n",
    "print(f\"Multiclass F1 Score (macro): {multi_f1_macro.item():.4f}\")\n",
    "\n",
    "acc = multiclass_accuracy(all_preds, all_labels, num_classes=num_classes)\n",
    "print(f\"Multiclass Accuracy: {acc.item():.4f}\")"
   ]
  },
  {
   "cell_type": "code",
   "execution_count": 26,
   "id": "c7355d83",
   "metadata": {},
   "outputs": [
    {
     "data": {
      "text/plain": [
       "tensor([3, 0, 2, 2, 2, 0, 1, 3, 0, 2, 3, 1, 1, 0, 2, 0, 1, 2, 0, 3, 2, 0, 3, 1,\n",
       "        0, 2, 2, 3, 0, 1, 1, 3, 3, 3, 0, 3, 1, 1, 2, 3, 0, 0, 2, 0, 3, 1, 0, 2,\n",
       "        3, 3], device='cuda:0')"
      ]
     },
     "execution_count": 26,
     "metadata": {},
     "output_type": "execute_result"
    }
   ],
   "source": [
    "all_labels"
   ]
  },
  {
   "cell_type": "code",
   "execution_count": 27,
   "id": "66e0c7fb",
   "metadata": {},
   "outputs": [
    {
     "data": {
      "text/plain": [
       "tensor([3, 3, 3, 3, 3, 3, 3, 3, 3, 3, 0, 0, 0, 0, 0, 0, 0, 0, 0, 0, 3, 3, 3, 3,\n",
       "        3, 3, 3, 3, 3, 3, 3, 3, 3, 3, 3, 3, 3, 3, 3, 3, 3, 3, 3, 3, 3, 3, 3, 3,\n",
       "        3, 3], device='cuda:0')"
      ]
     },
     "execution_count": 27,
     "metadata": {},
     "output_type": "execute_result"
    }
   ],
   "source": [
    "all_preds"
   ]
  },
  {
   "cell_type": "markdown",
   "id": "25d65d76",
   "metadata": {},
   "source": [
    "### SSVEP Save Model"
   ]
  },
  {
   "cell_type": "code",
   "execution_count": 28,
   "id": "48c48b93",
   "metadata": {},
   "outputs": [],
   "source": [
    "ssvep_save_path = \"ssvep_model_simple_cnn.pth\"\n",
    "torch.save({\n",
    "    \"epoch\": epoch,                     \n",
    "    \"model_state_dict\": ssvep_model.state_dict(),\n",
    "    \"optimizer_state_dict\": optimizer.state_dict(),\n",
    "    \"loss\": loss,\n",
    "    \"f1_score\": multi_f1_macro,\n",
    "}, ssvep_save_path)"
   ]
  },
  {
   "cell_type": "code",
   "execution_count": null,
   "id": "29271e7b",
   "metadata": {},
   "outputs": [],
   "source": [
    "def make_labels():\n",
    "    \n",
    "    _, _, mi_test = \n",
    "    _, _, ssvep_test = "
   ]
  }
 ],
 "metadata": {
  "kernelspec": {
   "display_name": "Python 3 (ipykernel)",
   "language": "python",
   "name": "python3"
  },
  "language_info": {
   "codemirror_mode": {
    "name": "ipython",
    "version": 3
   },
   "file_extension": ".py",
   "mimetype": "text/x-python",
   "name": "python",
   "nbconvert_exporter": "python",
   "pygments_lexer": "ipython3",
   "version": "3.11.11"
  }
 },
 "nbformat": 4,
 "nbformat_minor": 5
}
