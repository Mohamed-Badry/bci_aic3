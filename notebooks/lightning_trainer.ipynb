{
 "cells": [
  {
   "cell_type": "code",
   "execution_count": null,
   "id": "8bc0e5b0",
   "metadata": {},
   "outputs": [],
   "source": [
    "import os\n",
    "import torch\n",
    "\n",
    "from pytorch_lightning import Trainer, seed_everything\n",
    "\n",
    "from bci_aic3.config import load_model_config, load_training_config\n",
    "from bci_aic3.paths import (\n",
    "    PROCESSED_DATA_DIR,\n",
    "    MI_CONFIG_PATH,\n",
    "    SSVEP_CONFIG_PATH,\n",
    ")\n",
    "from bci_aic3.train import BCILightningModule, setup_callbacks, create_processed_data_loaders\n",
    "from bci_aic3.util import rec_cpu_count\n"
   ]
  },
  {
   "cell_type": "code",
   "execution_count": 2,
   "id": "ad54306c",
   "metadata": {},
   "outputs": [
    {
     "name": "stderr",
     "output_type": "stream",
     "text": [
      "Seed set to 42\n"
     ]
    }
   ],
   "source": [
    "# Code necessary to create reproducible runs\n",
    "os.environ[\"CUBLAS_WORKSPACE_CONFIG\"] = \":4096:8\"\n",
    "seed_everything(42, workers=True)\n",
    "torch.use_deterministic_algorithms(True, warn_only=True)\n"
   ]
  },
  {
   "cell_type": "code",
   "execution_count": 8,
   "id": "a65b06c7",
   "metadata": {},
   "outputs": [],
   "source": [
    "from typing import Tuple\n",
    "\n",
    "\n",
    "def train_model(config_path) -> Tuple[Trainer, BCILightningModule]:\n",
    "    model_config = load_model_config(config_path)\n",
    "    training_config = load_training_config(config_path)\n",
    "\n",
    "    max_num_workers = rec_cpu_count()\n",
    "\n",
    "    # Create data loaders\n",
    "    train_loader, val_loader = create_processed_data_loaders(\n",
    "        processed_data_dir=PROCESSED_DATA_DIR,\n",
    "        task_type=model_config.task_type,\n",
    "        batch_size=training_config.batch_size,\n",
    "        num_workers=max_num_workers,\n",
    "    )\n",
    "    \n",
    "    # Create Lightning module\n",
    "    model = BCILightningModule(\n",
    "        num_classes=model_config.num_classes,\n",
    "        num_channels=model_config.num_channels,\n",
    "        sequence_length=model_config.new_sequence_length,\n",
    "        lr=training_config.learning_rate,\n",
    "    )\n",
    "\n",
    "    # Setup callbacks\n",
    "    callbacks = setup_callbacks(model_config)\n",
    "    \n",
    "    # Create trainer\n",
    "    trainer = Trainer(\n",
    "        max_epochs=training_config.epochs,\n",
    "        callbacks=callbacks,\n",
    "        accelerator=\"auto\",  # Automatically uses GPU if available\n",
    "        devices=\"auto\",  # Uses all available devices\n",
    "        deterministic=True,  # For reproducibility\n",
    "        log_every_n_steps=10,\n",
    "    )\n",
    "    \n",
    "    trainer.fit(model, train_loader, val_loader)\n",
    "    \n",
    "    return trainer, model"
   ]
  },
  {
   "cell_type": "code",
   "execution_count": null,
   "id": "593fed59",
   "metadata": {},
   "outputs": [],
   "source": [
    "trainer, model = train_model(config_path=MI_CONFIG_PATH)"
   ]
  },
  {
   "cell_type": "code",
   "execution_count": 6,
   "id": "1323b237",
   "metadata": {},
   "outputs": [
    {
     "name": "stderr",
     "output_type": "stream",
     "text": [
      "p:\\Programming\\AIC3\\repo\\bci_aic3\\.venv\\Lib\\site-packages\\pytorch_lightning\\callbacks\\model_checkpoint.py:654: Checkpoint directory P:\\Programming\\AIC3\\repo\\bci_aic3\\checkpoints\\MI exists and is not empty.\n",
      "\n",
      "  | Name           | Type               | Params | Mode \n",
      "--------------------------------------------------------------\n",
      "0 | model          | EEGNet             | 36.2 K | train\n",
      "1 | criterion      | CrossEntropyLoss   | 0      | train\n",
      "2 | train_accuracy | MulticlassAccuracy | 0      | train\n",
      "3 | val_accuracy   | MulticlassAccuracy | 0      | train\n",
      "4 | train_f1       | MulticlassF1Score  | 0      | train\n",
      "5 | val_f1         | MulticlassF1Score  | 0      | train\n",
      "--------------------------------------------------------------\n",
      "36.2 K    Trainable params\n",
      "0         Non-trainable params\n",
      "36.2 K    Total params\n",
      "0.145     Total estimated model params size (MB)\n",
      "20        Modules in train mode\n",
      "0         Modules in eval mode\n"
     ]
    },
    {
     "data": {
      "application/vnd.jupyter.widget-view+json": {
       "model_id": "68178f6ae4fe4c67b34f8d8fecbda40c",
       "version_major": 2,
       "version_minor": 0
      },
      "text/plain": [
       "Sanity Checking: |          | 0/? [00:00<?, ?it/s]"
      ]
     },
     "metadata": {},
     "output_type": "display_data"
    },
    {
     "name": "stderr",
     "output_type": "stream",
     "text": [
      "p:\\Programming\\AIC3\\repo\\bci_aic3\\.venv\\Lib\\site-packages\\torch\\nn\\modules\\conv.py:549: UserWarning: Using padding='same' with even kernel lengths and odd dilation may require a zero-padded copy of the input be created (Triggered internally at C:\\actions-runner\\_work\\pytorch\\pytorch\\pytorch\\aten\\src\\ATen\\native\\Convolution.cpp:1037.)\n",
      "  return F.conv2d(\n"
     ]
    },
    {
     "data": {
      "application/vnd.jupyter.widget-view+json": {
       "model_id": "faadc9d76e5e4f61b43931bef9ac5fc6",
       "version_major": 2,
       "version_minor": 0
      },
      "text/plain": [
       "Training: |          | 0/? [00:00<?, ?it/s]"
      ]
     },
     "metadata": {},
     "output_type": "display_data"
    },
    {
     "data": {
      "application/vnd.jupyter.widget-view+json": {
       "model_id": "eb43454deffd470b800a0825fe83a84e",
       "version_major": 2,
       "version_minor": 0
      },
      "text/plain": [
       "Validation: |          | 0/? [00:00<?, ?it/s]"
      ]
     },
     "metadata": {},
     "output_type": "display_data"
    },
    {
     "name": "stderr",
     "output_type": "stream",
     "text": [
      "Metric val_loss improved. New best score: 0.862\n",
      "Epoch 0, global step 19: 'val_f1' reached 0.41667 (best 0.41667), saving model to 'P:\\\\Programming\\\\AIC3\\\\repo\\\\bci_aic3\\\\checkpoints\\\\MI\\\\eegnet-mi-best-f1-val_f1=0.4167-epoch=00.ckpt' as top 3\n"
     ]
    },
    {
     "data": {
      "application/vnd.jupyter.widget-view+json": {
       "model_id": "7ba7a7dcc54a49168f0c7c9a93eb0295",
       "version_major": 2,
       "version_minor": 0
      },
      "text/plain": [
       "Validation: |          | 0/? [00:00<?, ?it/s]"
      ]
     },
     "metadata": {},
     "output_type": "display_data"
    },
    {
     "name": "stderr",
     "output_type": "stream",
     "text": [
      "Metric val_loss improved by 0.029 >= min_delta = 0.0. New best score: 0.832\n",
      "Epoch 1, global step 38: 'val_f1' reached 0.47240 (best 0.47240), saving model to 'P:\\\\Programming\\\\AIC3\\\\repo\\\\bci_aic3\\\\checkpoints\\\\MI\\\\eegnet-mi-best-f1-val_f1=0.4724-epoch=01.ckpt' as top 3\n"
     ]
    },
    {
     "data": {
      "application/vnd.jupyter.widget-view+json": {
       "model_id": "1d08546c3385486b8fe4c31d87ee3280",
       "version_major": 2,
       "version_minor": 0
      },
      "text/plain": [
       "Validation: |          | 0/? [00:00<?, ?it/s]"
      ]
     },
     "metadata": {},
     "output_type": "display_data"
    },
    {
     "name": "stderr",
     "output_type": "stream",
     "text": [
      "Epoch 2, global step 57: 'val_f1' reached 0.45455 (best 0.47240), saving model to 'P:\\\\Programming\\\\AIC3\\\\repo\\\\bci_aic3\\\\checkpoints\\\\MI\\\\eegnet-mi-best-f1-val_f1=0.4545-epoch=02.ckpt' as top 3\n"
     ]
    },
    {
     "data": {
      "application/vnd.jupyter.widget-view+json": {
       "model_id": "f15ce10619264f25ae5dc4481042edb4",
       "version_major": 2,
       "version_minor": 0
      },
      "text/plain": [
       "Validation: |          | 0/? [00:00<?, ?it/s]"
      ]
     },
     "metadata": {},
     "output_type": "display_data"
    },
    {
     "name": "stderr",
     "output_type": "stream",
     "text": [
      "Epoch 3, global step 76: 'val_f1' reached 0.45455 (best 0.47240), saving model to 'P:\\\\Programming\\\\AIC3\\\\repo\\\\bci_aic3\\\\checkpoints\\\\MI\\\\eegnet-mi-best-f1-val_f1=0.4545-epoch=03.ckpt' as top 3\n"
     ]
    },
    {
     "data": {
      "application/vnd.jupyter.widget-view+json": {
       "model_id": "455286b0e2ab4c31b56ee5dd9c06f45d",
       "version_major": 2,
       "version_minor": 0
      },
      "text/plain": [
       "Validation: |          | 0/? [00:00<?, ?it/s]"
      ]
     },
     "metadata": {},
     "output_type": "display_data"
    },
    {
     "name": "stderr",
     "output_type": "stream",
     "text": [
      "Epoch 4, global step 95: 'val_f1' reached 0.46634 (best 0.47240), saving model to 'P:\\\\Programming\\\\AIC3\\\\repo\\\\bci_aic3\\\\checkpoints\\\\MI\\\\eegnet-mi-best-f1-val_f1=0.4663-epoch=04.ckpt' as top 3\n"
     ]
    },
    {
     "data": {
      "application/vnd.jupyter.widget-view+json": {
       "model_id": "4acc838d7aa641bc80970f065e6409ec",
       "version_major": 2,
       "version_minor": 0
      },
      "text/plain": [
       "Validation: |          | 0/? [00:00<?, ?it/s]"
      ]
     },
     "metadata": {},
     "output_type": "display_data"
    },
    {
     "name": "stderr",
     "output_type": "stream",
     "text": [
      "Epoch 5, global step 114: 'val_f1' was not in top 3\n"
     ]
    },
    {
     "data": {
      "application/vnd.jupyter.widget-view+json": {
       "model_id": "e8609db4fd814ea3a55e430f7c21de0b",
       "version_major": 2,
       "version_minor": 0
      },
      "text/plain": [
       "Validation: |          | 0/? [00:00<?, ?it/s]"
      ]
     },
     "metadata": {},
     "output_type": "display_data"
    },
    {
     "name": "stderr",
     "output_type": "stream",
     "text": [
      "Metric val_loss improved by 0.019 >= min_delta = 0.0. New best score: 0.813\n",
      "Epoch 6, global step 133: 'val_f1' reached 0.47457 (best 0.47457), saving model to 'P:\\\\Programming\\\\AIC3\\\\repo\\\\bci_aic3\\\\checkpoints\\\\MI\\\\eegnet-mi-best-f1-val_f1=0.4746-epoch=06.ckpt' as top 3\n"
     ]
    },
    {
     "data": {
      "application/vnd.jupyter.widget-view+json": {
       "model_id": "ed3629c84bef49c492cde544a8404d87",
       "version_major": 2,
       "version_minor": 0
      },
      "text/plain": [
       "Validation: |          | 0/? [00:00<?, ?it/s]"
      ]
     },
     "metadata": {},
     "output_type": "display_data"
    },
    {
     "name": "stderr",
     "output_type": "stream",
     "text": [
      "Metric val_loss improved by 0.000 >= min_delta = 0.0. New best score: 0.813\n",
      "Epoch 7, global step 152: 'val_f1' reached 0.47457 (best 0.47457), saving model to 'P:\\\\Programming\\\\AIC3\\\\repo\\\\bci_aic3\\\\checkpoints\\\\MI\\\\eegnet-mi-best-f1-val_f1=0.4746-epoch=07.ckpt' as top 3\n"
     ]
    },
    {
     "data": {
      "application/vnd.jupyter.widget-view+json": {
       "model_id": "0f96cf8e8dc1407eb8afe4a370387cda",
       "version_major": 2,
       "version_minor": 0
      },
      "text/plain": [
       "Validation: |          | 0/? [00:00<?, ?it/s]"
      ]
     },
     "metadata": {},
     "output_type": "display_data"
    },
    {
     "name": "stderr",
     "output_type": "stream",
     "text": [
      "Epoch 8, global step 171: 'val_f1' was not in top 3\n"
     ]
    },
    {
     "data": {
      "application/vnd.jupyter.widget-view+json": {
       "model_id": "386830a83c05499e940337b69c25c8de",
       "version_major": 2,
       "version_minor": 0
      },
      "text/plain": [
       "Validation: |          | 0/? [00:00<?, ?it/s]"
      ]
     },
     "metadata": {},
     "output_type": "display_data"
    },
    {
     "name": "stderr",
     "output_type": "stream",
     "text": [
      "Epoch 9, global step 190: 'val_f1' was not in top 3\n"
     ]
    },
    {
     "data": {
      "application/vnd.jupyter.widget-view+json": {
       "model_id": "4cb26d2ab894461288579ec4d6372120",
       "version_major": 2,
       "version_minor": 0
      },
      "text/plain": [
       "Validation: |          | 0/? [00:00<?, ?it/s]"
      ]
     },
     "metadata": {},
     "output_type": "display_data"
    },
    {
     "name": "stderr",
     "output_type": "stream",
     "text": [
      "Epoch 10, global step 209: 'val_f1' was not in top 3\n"
     ]
    },
    {
     "data": {
      "application/vnd.jupyter.widget-view+json": {
       "model_id": "1cd3dc39b9824c16ba34931fa9e28f4f",
       "version_major": 2,
       "version_minor": 0
      },
      "text/plain": [
       "Validation: |          | 0/? [00:00<?, ?it/s]"
      ]
     },
     "metadata": {},
     "output_type": "display_data"
    },
    {
     "name": "stderr",
     "output_type": "stream",
     "text": [
      "Epoch 11, global step 228: 'val_f1' was not in top 3\n"
     ]
    },
    {
     "data": {
      "application/vnd.jupyter.widget-view+json": {
       "model_id": "8bf3f80222f14eb793f4960242323ff0",
       "version_major": 2,
       "version_minor": 0
      },
      "text/plain": [
       "Validation: |          | 0/? [00:00<?, ?it/s]"
      ]
     },
     "metadata": {},
     "output_type": "display_data"
    },
    {
     "name": "stderr",
     "output_type": "stream",
     "text": [
      "Epoch 12, global step 247: 'val_f1' reached 0.47457 (best 0.47457), saving model to 'P:\\\\Programming\\\\AIC3\\\\repo\\\\bci_aic3\\\\checkpoints\\\\MI\\\\eegnet-mi-best-f1-val_f1=0.4746-epoch=12-v1.ckpt' as top 3\n"
     ]
    },
    {
     "data": {
      "application/vnd.jupyter.widget-view+json": {
       "model_id": "7572588732ff40ecb6f24dc858979bf8",
       "version_major": 2,
       "version_minor": 0
      },
      "text/plain": [
       "Validation: |          | 0/? [00:00<?, ?it/s]"
      ]
     },
     "metadata": {},
     "output_type": "display_data"
    },
    {
     "name": "stderr",
     "output_type": "stream",
     "text": [
      "Epoch 13, global step 266: 'val_f1' was not in top 3\n"
     ]
    },
    {
     "data": {
      "application/vnd.jupyter.widget-view+json": {
       "model_id": "e7cc88fc5e83446d8fe4ceac7aa71f6a",
       "version_major": 2,
       "version_minor": 0
      },
      "text/plain": [
       "Validation: |          | 0/? [00:00<?, ?it/s]"
      ]
     },
     "metadata": {},
     "output_type": "display_data"
    },
    {
     "name": "stderr",
     "output_type": "stream",
     "text": [
      "Epoch 14, global step 285: 'val_f1' was not in top 3\n"
     ]
    },
    {
     "data": {
      "application/vnd.jupyter.widget-view+json": {
       "model_id": "482d22a181f74c0881c3c26a126e6c12",
       "version_major": 2,
       "version_minor": 0
      },
      "text/plain": [
       "Validation: |          | 0/? [00:00<?, ?it/s]"
      ]
     },
     "metadata": {},
     "output_type": "display_data"
    },
    {
     "name": "stderr",
     "output_type": "stream",
     "text": [
      "Epoch 15, global step 304: 'val_f1' was not in top 3\n"
     ]
    },
    {
     "data": {
      "application/vnd.jupyter.widget-view+json": {
       "model_id": "e7f8c25dbbd44821adc1cfe7316f841c",
       "version_major": 2,
       "version_minor": 0
      },
      "text/plain": [
       "Validation: |          | 0/? [00:00<?, ?it/s]"
      ]
     },
     "metadata": {},
     "output_type": "display_data"
    },
    {
     "name": "stderr",
     "output_type": "stream",
     "text": [
      "Epoch 16, global step 323: 'val_f1' reached 0.48326 (best 0.48326), saving model to 'P:\\\\Programming\\\\AIC3\\\\repo\\\\bci_aic3\\\\checkpoints\\\\MI\\\\eegnet-mi-best-f1-val_f1=0.4833-epoch=16-v1.ckpt' as top 3\n"
     ]
    },
    {
     "data": {
      "application/vnd.jupyter.widget-view+json": {
       "model_id": "610e6a66d4a54bf6aaaf36540c5c65e8",
       "version_major": 2,
       "version_minor": 0
      },
      "text/plain": [
       "Validation: |          | 0/? [00:00<?, ?it/s]"
      ]
     },
     "metadata": {},
     "output_type": "display_data"
    },
    {
     "name": "stderr",
     "output_type": "stream",
     "text": [
      "Metric val_loss improved by 0.003 >= min_delta = 0.0. New best score: 0.810\n",
      "Epoch 17, global step 342: 'val_f1' reached 0.48326 (best 0.48326), saving model to 'P:\\\\Programming\\\\AIC3\\\\repo\\\\bci_aic3\\\\checkpoints\\\\MI\\\\eegnet-mi-best-f1-val_f1=0.4833-epoch=17-v1.ckpt' as top 3\n"
     ]
    },
    {
     "data": {
      "application/vnd.jupyter.widget-view+json": {
       "model_id": "d5c19e56360c43e797f46d481ffc8fda",
       "version_major": 2,
       "version_minor": 0
      },
      "text/plain": [
       "Validation: |          | 0/? [00:00<?, ?it/s]"
      ]
     },
     "metadata": {},
     "output_type": "display_data"
    },
    {
     "name": "stderr",
     "output_type": "stream",
     "text": [
      "Metric val_loss improved by 0.004 >= min_delta = 0.0. New best score: 0.806\n",
      "Epoch 18, global step 361: 'val_f1' reached 0.49495 (best 0.49495), saving model to 'P:\\\\Programming\\\\AIC3\\\\repo\\\\bci_aic3\\\\checkpoints\\\\MI\\\\eegnet-mi-best-f1-val_f1=0.4949-epoch=18-v1.ckpt' as top 3\n"
     ]
    },
    {
     "data": {
      "application/vnd.jupyter.widget-view+json": {
       "model_id": "cffa0aa157fb4b42b0e0e6a97dcef9af",
       "version_major": 2,
       "version_minor": 0
      },
      "text/plain": [
       "Validation: |          | 0/? [00:00<?, ?it/s]"
      ]
     },
     "metadata": {},
     "output_type": "display_data"
    },
    {
     "name": "stderr",
     "output_type": "stream",
     "text": [
      "Metric val_loss improved by 0.058 >= min_delta = 0.0. New best score: 0.748\n",
      "Epoch 19, global step 380: 'val_f1' reached 0.55929 (best 0.55929), saving model to 'P:\\\\Programming\\\\AIC3\\\\repo\\\\bci_aic3\\\\checkpoints\\\\MI\\\\eegnet-mi-best-f1-val_f1=0.5593-epoch=19-v1.ckpt' as top 3\n"
     ]
    },
    {
     "data": {
      "application/vnd.jupyter.widget-view+json": {
       "model_id": "0eab1460207f4914b8dd0fc01bcdc9f5",
       "version_major": 2,
       "version_minor": 0
      },
      "text/plain": [
       "Validation: |          | 0/? [00:00<?, ?it/s]"
      ]
     },
     "metadata": {},
     "output_type": "display_data"
    },
    {
     "name": "stderr",
     "output_type": "stream",
     "text": [
      "Epoch 20, global step 399: 'val_f1' reached 0.52000 (best 0.55929), saving model to 'P:\\\\Programming\\\\AIC3\\\\repo\\\\bci_aic3\\\\checkpoints\\\\MI\\\\eegnet-mi-best-f1-val_f1=0.5200-epoch=20-v1.ckpt' as top 3\n"
     ]
    },
    {
     "data": {
      "application/vnd.jupyter.widget-view+json": {
       "model_id": "5a386a616f7c490882cf7fd8fbaf32fd",
       "version_major": 2,
       "version_minor": 0
      },
      "text/plain": [
       "Validation: |          | 0/? [00:00<?, ?it/s]"
      ]
     },
     "metadata": {},
     "output_type": "display_data"
    },
    {
     "name": "stderr",
     "output_type": "stream",
     "text": [
      "Epoch 21, global step 418: 'val_f1' was not in top 3\n"
     ]
    },
    {
     "data": {
      "application/vnd.jupyter.widget-view+json": {
       "model_id": "ef6b885d876b4912866367b389618793",
       "version_major": 2,
       "version_minor": 0
      },
      "text/plain": [
       "Validation: |          | 0/? [00:00<?, ?it/s]"
      ]
     },
     "metadata": {},
     "output_type": "display_data"
    },
    {
     "name": "stderr",
     "output_type": "stream",
     "text": [
      "Epoch 22, global step 437: 'val_f1' was not in top 3\n"
     ]
    },
    {
     "data": {
      "application/vnd.jupyter.widget-view+json": {
       "model_id": "303fd406a41b41ff8dbc9eb1674c91d7",
       "version_major": 2,
       "version_minor": 0
      },
      "text/plain": [
       "Validation: |          | 0/? [00:00<?, ?it/s]"
      ]
     },
     "metadata": {},
     "output_type": "display_data"
    },
    {
     "name": "stderr",
     "output_type": "stream",
     "text": [
      "Epoch 23, global step 456: 'val_f1' was not in top 3\n"
     ]
    },
    {
     "data": {
      "application/vnd.jupyter.widget-view+json": {
       "model_id": "be7b21e914e5472ba3ea5aa55470e5fb",
       "version_major": 2,
       "version_minor": 0
      },
      "text/plain": [
       "Validation: |          | 0/? [00:00<?, ?it/s]"
      ]
     },
     "metadata": {},
     "output_type": "display_data"
    },
    {
     "name": "stderr",
     "output_type": "stream",
     "text": [
      "Epoch 24, global step 475: 'val_f1' was not in top 3\n"
     ]
    },
    {
     "data": {
      "application/vnd.jupyter.widget-view+json": {
       "model_id": "2ed79e04f4e04027add5b795c2292ed6",
       "version_major": 2,
       "version_minor": 0
      },
      "text/plain": [
       "Validation: |          | 0/? [00:00<?, ?it/s]"
      ]
     },
     "metadata": {},
     "output_type": "display_data"
    },
    {
     "name": "stderr",
     "output_type": "stream",
     "text": [
      "Epoch 25, global step 494: 'val_f1' was not in top 3\n"
     ]
    },
    {
     "data": {
      "application/vnd.jupyter.widget-view+json": {
       "model_id": "6038e6fadb37447885aadd16770367e8",
       "version_major": 2,
       "version_minor": 0
      },
      "text/plain": [
       "Validation: |          | 0/? [00:00<?, ?it/s]"
      ]
     },
     "metadata": {},
     "output_type": "display_data"
    },
    {
     "name": "stderr",
     "output_type": "stream",
     "text": [
      "Epoch 26, global step 513: 'val_f1' was not in top 3\n"
     ]
    },
    {
     "data": {
      "application/vnd.jupyter.widget-view+json": {
       "model_id": "10dec81702754ab8a33dc7a8c14b74d7",
       "version_major": 2,
       "version_minor": 0
      },
      "text/plain": [
       "Validation: |          | 0/? [00:00<?, ?it/s]"
      ]
     },
     "metadata": {},
     "output_type": "display_data"
    },
    {
     "name": "stderr",
     "output_type": "stream",
     "text": [
      "Epoch 27, global step 532: 'val_f1' was not in top 3\n"
     ]
    },
    {
     "data": {
      "application/vnd.jupyter.widget-view+json": {
       "model_id": "8b1eea5893dc47dda797c76bbe53ab4b",
       "version_major": 2,
       "version_minor": 0
      },
      "text/plain": [
       "Validation: |          | 0/? [00:00<?, ?it/s]"
      ]
     },
     "metadata": {},
     "output_type": "display_data"
    },
    {
     "name": "stderr",
     "output_type": "stream",
     "text": [
      "Epoch 28, global step 551: 'val_f1' was not in top 3\n"
     ]
    },
    {
     "data": {
      "application/vnd.jupyter.widget-view+json": {
       "model_id": "b5f8ae2979ac4cc7be69e825c1a11ea6",
       "version_major": 2,
       "version_minor": 0
      },
      "text/plain": [
       "Validation: |          | 0/? [00:00<?, ?it/s]"
      ]
     },
     "metadata": {},
     "output_type": "display_data"
    },
    {
     "name": "stderr",
     "output_type": "stream",
     "text": [
      "Monitored metric val_loss did not improve in the last 10 records. Best score: 0.748. Signaling Trainer to stop.\n",
      "Epoch 29, global step 570: 'val_f1' was not in top 3\n"
     ]
    }
   ],
   "source": [
    "# Train the model\n",
    "trainer.fit(model, train_loader, val_loader)"
   ]
  },
  {
   "cell_type": "code",
   "execution_count": 23,
   "id": "6386999c",
   "metadata": {},
   "outputs": [
    {
     "name": "stderr",
     "output_type": "stream",
     "text": [
      "100%|██████████| 50/50 [00:02<00:00, 18.30it/s]\n"
     ]
    }
   ],
   "source": [
    "from bci_aic3.data import BCIDataset\n",
    "from bci_aic3.paths import LABEL_MAPPING_PATH, RAW_DATA_DIR\n",
    "from bci_aic3.util import read_json_to_dict\n",
    "\n",
    "\n",
    "test = BCIDataset(csv_file=\"test.csv\",\n",
    "                  base_path=RAW_DATA_DIR,\n",
    "                  task_type=\"MI\",\n",
    "                  split=\"test\",\n",
    "                  label_mapping=read_json_to_dict(LABEL_MAPPING_PATH),\n",
    "                  )"
   ]
  },
  {
   "cell_type": "code",
   "execution_count": 36,
   "id": "fb8728ab",
   "metadata": {},
   "outputs": [
    {
     "name": "stdout",
     "output_type": "stream",
     "text": [
      "Processed data successfully saved at: P:\\Programming\\AIC3\\repo\\bci_aic3\\data\\processed\\MI\\test_data.npy\n"
     ]
    }
   ],
   "source": [
    "import numpy as np\n",
    "from bci_aic3.config import load_processing_config\n",
    "from bci_aic3.preprocess import apply_all_preprocessing_steps, preprocessing_pipeline\n",
    "from torch.utils.data import DataLoader, TensorDataset\n",
    "\n",
    "processing_config = load_processing_config(MI_CONFIG_PATH)\n",
    "\n",
    "data_loader = DataLoader(test, batch_size=len(test), shuffle=False)\n",
    "data_batch = next(iter(data_loader))\n",
    "\n",
    "data = data_batch.numpy()\n",
    "\n",
    "processed_data = apply_all_preprocessing_steps(\n",
    "    data=data, settings=processing_config\n",
    ")\n",
    "\n",
    "processed_data_path = PROCESSED_DATA_DIR / \"MI\" / \"test_data.npy\"\n",
    "\n",
    "np.save(processed_data_path, processed_data)\n",
    "print(f\"Processed data successfully saved at: {processed_data_path}\")"
   ]
  },
  {
   "cell_type": "code",
   "execution_count": 37,
   "id": "10a6630e",
   "metadata": {},
   "outputs": [
    {
     "data": {
      "text/plain": [
       "(50, 8, 1500)"
      ]
     },
     "execution_count": 37,
     "metadata": {},
     "output_type": "execute_result"
    }
   ],
   "source": [
    "test_data = np.load(processed_data_path)\n",
    "test_data.shape"
   ]
  },
  {
   "cell_type": "code",
   "execution_count": 38,
   "id": "57fea79c",
   "metadata": {},
   "outputs": [
    {
     "data": {
      "text/plain": [
       "{'mean': array([0.9257175 , 1.1769003 , 1.1218044 , 0.9505266 , 0.90054685,\n",
       "        0.8140577 , 0.7452115 , 0.5988763 ], dtype=float32),\n",
       " 'std': array([199.4371  , 106.681366, 352.71765 , 100.56845 , 187.39577 ,\n",
       "         83.52705 ,  99.34637 ,  69.068184], dtype=float32)}"
      ]
     },
     "execution_count": 38,
     "metadata": {},
     "output_type": "execute_result"
    }
   ],
   "source": [
    "from pathlib import Path\n",
    "from typing import Dict\n",
    "from bci_aic3.paths import TRAINING_STATS_PATH\n",
    "# from bci_aic3.util import load_training_stats\n",
    "\n",
    "\n",
    "def load_training_stats(load_path: Path) -> Dict[str, torch.Tensor]:\n",
    "    \"\"\"Load training statistics from disk.\"\"\"\n",
    "    return torch.load(load_path, weights_only=False)\n",
    "\n",
    "training_stats = load_training_stats(TRAINING_STATS_PATH / \"mi_stats.pt\")\n",
    "training_stats"
   ]
  },
  {
   "cell_type": "code",
   "execution_count": 39,
   "id": "ce0996bd",
   "metadata": {},
   "outputs": [
    {
     "data": {
      "text/plain": [
       "(np.float32(-0.015454504), np.float32(1.8086668))"
      ]
     },
     "execution_count": 39,
     "metadata": {},
     "output_type": "execute_result"
    }
   ],
   "source": [
    "\n",
    "from bci_aic3.util import apply_normalization\n",
    "\n",
    "\n",
    "normalized_test_data = apply_normalization(test_data, training_stats[\"mean\"], training_stats[\"std\"])\n",
    "normalized_test_data.mean(), normalized_test_data.std()"
   ]
  },
  {
   "cell_type": "code",
   "execution_count": 51,
   "id": "c9e17e79",
   "metadata": {},
   "outputs": [],
   "source": [
    "test_tensor = torch.from_numpy(normalized_test_data).float()\n",
    "test_dataset = TensorDataset(test_tensor, torch.empty(len(normalized_test_data)))\n",
    "test_loader = DataLoader(test_dataset,\n",
    "                         batch_size=len(test_dataset),\n",
    "                         shuffle=False)\n",
    "\n",
    "model.eval()\n",
    "\n",
    "with torch.no_grad():\n",
    "    data_batch, labels = next(iter(test_loader))\n",
    "\n",
    "    preds = model(data_batch)\n",
    "    "
   ]
  },
  {
   "cell_type": "code",
   "execution_count": 53,
   "id": "1aa2ae9a",
   "metadata": {},
   "outputs": [
    {
     "data": {
      "text/plain": [
       "tensor([1, 1, 1, 0, 1, 1, 1, 1, 0, 0, 1, 1, 0, 0, 0, 0, 1, 1, 1, 1, 1, 0, 0, 0,\n",
       "        1, 1, 1, 1, 1, 1, 0, 0, 0, 0, 0, 0, 0, 0, 0, 0, 0, 0, 1, 0, 0, 1, 0, 0,\n",
       "        1, 1])"
      ]
     },
     "execution_count": 53,
     "metadata": {},
     "output_type": "execute_result"
    }
   ],
   "source": [
    "preds.argmax(dim=1)"
   ]
  },
  {
   "cell_type": "code",
   "execution_count": 62,
   "id": "38e4cdb5",
   "metadata": {},
   "outputs": [
    {
     "data": {
      "text/plain": [
       "['Right',\n",
       " 'Right',\n",
       " 'Right',\n",
       " 'Left',\n",
       " 'Right',\n",
       " 'Right',\n",
       " 'Right',\n",
       " 'Right',\n",
       " 'Left',\n",
       " 'Left',\n",
       " 'Right',\n",
       " 'Right',\n",
       " 'Left',\n",
       " 'Left',\n",
       " 'Left',\n",
       " 'Left',\n",
       " 'Right',\n",
       " 'Right',\n",
       " 'Right',\n",
       " 'Right',\n",
       " 'Right',\n",
       " 'Left',\n",
       " 'Left',\n",
       " 'Left',\n",
       " 'Right',\n",
       " 'Right',\n",
       " 'Right',\n",
       " 'Right',\n",
       " 'Right',\n",
       " 'Right',\n",
       " 'Left',\n",
       " 'Left',\n",
       " 'Left',\n",
       " 'Left',\n",
       " 'Left',\n",
       " 'Left',\n",
       " 'Left',\n",
       " 'Left',\n",
       " 'Left',\n",
       " 'Left',\n",
       " 'Left',\n",
       " 'Left',\n",
       " 'Right',\n",
       " 'Left',\n",
       " 'Left',\n",
       " 'Right',\n",
       " 'Left',\n",
       " 'Left',\n",
       " 'Right',\n",
       " 'Right']"
      ]
     },
     "execution_count": 62,
     "metadata": {},
     "output_type": "execute_result"
    }
   ],
   "source": [
    "# from bci_aic3.paths import REVERSE_LABEL_MAPPING_PATH\n",
    "from bci_aic3.paths import CONFIG_DIR\n",
    "\n",
    "\n",
    "REVERSE_LABEL_MAPPING_PATH = CONFIG_DIR / \"reverse_label_mapping.json\"\n",
    "\n",
    "\n",
    "reverse_label_mapping = read_json_to_dict(REVERSE_LABEL_MAPPING_PATH)\n",
    "preds_labels = [reverse_label_mapping[str(p.item())] for p in preds.argmax(dim=1)]\n",
    "preds_labels"
   ]
  },
  {
   "cell_type": "code",
   "execution_count": 58,
   "id": "0775fcdd",
   "metadata": {},
   "outputs": [
    {
     "data": {
      "text/plain": [
       "{'Left': 0, 'Right': 1, 'Forward': 2, 'Backward': 3}"
      ]
     },
     "execution_count": 58,
     "metadata": {},
     "output_type": "execute_result"
    }
   ],
   "source": [
    "reverse_label_mapping"
   ]
  },
  {
   "cell_type": "code",
   "execution_count": null,
   "id": "f6f295cf",
   "metadata": {},
   "outputs": [],
   "source": [
    "from bci_aic3.paths import RUNS_DIR\n",
    "\n",
    "\n",
    "scripted = model.to_torchscript()\n",
    "\n",
    "torch.jit.save(scripted, RUNS_DIR / \"mi_scripted.pt\")"
   ]
  },
  {
   "cell_type": "code",
   "execution_count": null,
   "id": "99916739",
   "metadata": {},
   "outputs": [],
   "source": []
  }
 ],
 "metadata": {
  "kernelspec": {
   "display_name": ".venv",
   "language": "python",
   "name": "python3"
  },
  "language_info": {
   "codemirror_mode": {
    "name": "ipython",
    "version": 3
   },
   "file_extension": ".py",
   "mimetype": "text/x-python",
   "name": "python",
   "nbconvert_exporter": "python",
   "pygments_lexer": "ipython3",
   "version": "3.11.9"
  }
 },
 "nbformat": 4,
 "nbformat_minor": 5
}
