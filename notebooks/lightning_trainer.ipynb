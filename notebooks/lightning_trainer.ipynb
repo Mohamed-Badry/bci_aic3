{
 "cells": [
  {
   "cell_type": "code",
   "execution_count": 10,
   "id": "8bc0e5b0",
   "metadata": {},
   "outputs": [],
   "source": [
    "import os\n",
    "import torch\n",
    "\n",
    "from pytorch_lightning import Trainer, seed_everything\n",
    "\n",
    "from bci_aic3.config import load_model_config, load_training_config\n",
    "from bci_aic3.paths import (\n",
    "    PROCESSED_DATA_DIR,\n",
    "    RAW_DATA_DIR,\n",
    "    MI_CONFIG_PATH,\n",
    "    SSVEP_CONFIG_PATH,\n",
    ")\n",
    "from bci_aic3.train import BCILightningModule, setup_callbacks, create_processed_data_loaders\n",
    "from bci_aic3.util import rec_cpu_count\n"
   ]
  },
  {
   "cell_type": "code",
   "execution_count": 11,
   "id": "ad54306c",
   "metadata": {},
   "outputs": [
    {
     "name": "stderr",
     "output_type": "stream",
     "text": [
      "Seed set to 42\n"
     ]
    }
   ],
   "source": [
    "# Code necessary to create reproducible runs\n",
    "os.environ[\"CUBLAS_WORKSPACE_CONFIG\"] = \":4096:8\"\n",
    "seed_everything(42, workers=True)\n",
    "torch.use_deterministic_algorithms(True, warn_only=True)\n"
   ]
  },
  {
   "cell_type": "code",
   "execution_count": null,
   "id": "a65b06c7",
   "metadata": {},
   "outputs": [],
   "source": [
    "from pathlib import Path\n",
    "from typing import Tuple\n",
    "\n",
    "\n",
    "def train_model(config_path: Path, verbose: bool = True) -> Tuple[Trainer, BCILightningModule]:\n",
    "    model_config = load_model_config(config_path)\n",
    "    training_config = load_training_config(config_path)\n",
    "\n",
    "    max_num_workers = rec_cpu_count()\n",
    "\n",
    "    # Create data loaders\n",
    "    train_loader, val_loader = create_processed_data_loaders(\n",
    "        processed_data_dir=PROCESSED_DATA_DIR,\n",
    "        task_type=model_config.task_type,\n",
    "        batch_size=training_config.batch_size,\n",
    "        num_workers=max_num_workers,\n",
    "    )\n",
    "    \n",
    "    # Create Lightning module\n",
    "    model = BCILightningModule(\n",
    "        num_classes=model_config.num_classes,\n",
    "        num_channels=model_config.num_channels,\n",
    "        sequence_length=model_config.new_sequence_length,\n",
    "        lr=training_config.learning_rate,\n",
    "    )\n",
    "\n",
    "    # Setup callbacks\n",
    "    callbacks = setup_callbacks(model_config, verbose=verbose)\n",
    "    \n",
    "    # Create trainer\n",
    "    trainer = Trainer(\n",
    "        max_epochs=training_config.epochs,\n",
    "        callbacks=callbacks,\n",
    "        accelerator=\"auto\",  # Automatically uses GPU if available\n",
    "        devices=\"auto\",  # Uses all available devices\n",
    "        deterministic=True,  # For reproducibility\n",
    "        log_every_n_steps=10,\n",
    "    )\n",
    "    \n",
    "    trainer.fit(model, train_loader, val_loader)\n",
    "    \n",
    "    return trainer, model"
   ]
  },
  {
   "cell_type": "code",
   "execution_count": null,
   "id": "593fed59",
   "metadata": {},
   "outputs": [
    {
     "name": "stderr",
     "output_type": "stream",
     "text": [
      "GPU available: False, used: False\n",
      "TPU available: False, using: 0 TPU cores\n",
      "HPU available: False, using: 0 HPUs\n",
      "p:\\Programming\\AIC3\\repo\\bci_aic3\\.venv\\Lib\\site-packages\\pytorch_lightning\\callbacks\\model_checkpoint.py:654: Checkpoint directory P:\\Programming\\AIC3\\repo\\bci_aic3\\checkpoints\\SSVEP exists and is not empty.\n",
      "\n",
      "  | Name           | Type               | Params | Mode \n",
      "--------------------------------------------------------------\n",
      "0 | model          | EEGNet             | 36.2 K | train\n",
      "1 | criterion      | CrossEntropyLoss   | 0      | train\n",
      "2 | train_accuracy | MulticlassAccuracy | 0      | train\n",
      "3 | val_accuracy   | MulticlassAccuracy | 0      | train\n",
      "4 | train_f1       | MulticlassF1Score  | 0      | train\n",
      "5 | val_f1         | MulticlassF1Score  | 0      | train\n",
      "--------------------------------------------------------------\n",
      "36.2 K    Trainable params\n",
      "0         Non-trainable params\n",
      "36.2 K    Total params\n",
      "0.145     Total estimated model params size (MB)\n",
      "20        Modules in train mode\n",
      "0         Modules in eval mode\n"
     ]
    },
    {
     "data": {
      "application/vnd.jupyter.widget-view+json": {
       "model_id": "dd1adac9d6c1434793bff3f848638b87",
       "version_major": 2,
       "version_minor": 0
      },
      "text/plain": [
       "Sanity Checking: |          | 0/? [00:00<?, ?it/s]"
      ]
     },
     "metadata": {},
     "output_type": "display_data"
    },
    {
     "name": "stderr",
     "output_type": "stream",
     "text": [
      "p:\\Programming\\AIC3\\repo\\bci_aic3\\.venv\\Lib\\site-packages\\torch\\nn\\modules\\conv.py:549: UserWarning: Using padding='same' with even kernel lengths and odd dilation may require a zero-padded copy of the input be created (Triggered internally at C:\\actions-runner\\_work\\pytorch\\pytorch\\pytorch\\aten\\src\\ATen\\native\\Convolution.cpp:1037.)\n",
      "  return F.conv2d(\n"
     ]
    },
    {
     "data": {
      "application/vnd.jupyter.widget-view+json": {
       "model_id": "d12879f7d6994493a5b418f654b2fffc",
       "version_major": 2,
       "version_minor": 0
      },
      "text/plain": [
       "Training: |          | 0/? [00:00<?, ?it/s]"
      ]
     },
     "metadata": {},
     "output_type": "display_data"
    },
    {
     "data": {
      "application/vnd.jupyter.widget-view+json": {
       "model_id": "934bfaa76d2141988380f49605e3c0bc",
       "version_major": 2,
       "version_minor": 0
      },
      "text/plain": [
       "Validation: |          | 0/? [00:00<?, ?it/s]"
      ]
     },
     "metadata": {},
     "output_type": "display_data"
    },
    {
     "data": {
      "application/vnd.jupyter.widget-view+json": {
       "model_id": "f28c48a5886241678b924f1c7802e3e8",
       "version_major": 2,
       "version_minor": 0
      },
      "text/plain": [
       "Validation: |          | 0/? [00:00<?, ?it/s]"
      ]
     },
     "metadata": {},
     "output_type": "display_data"
    },
    {
     "data": {
      "application/vnd.jupyter.widget-view+json": {
       "model_id": "8ce2c637c0344e40a59b965dd96c4b03",
       "version_major": 2,
       "version_minor": 0
      },
      "text/plain": [
       "Validation: |          | 0/? [00:00<?, ?it/s]"
      ]
     },
     "metadata": {},
     "output_type": "display_data"
    },
    {
     "data": {
      "application/vnd.jupyter.widget-view+json": {
       "model_id": "a43912557f3845549d5b2c6c4d0f9662",
       "version_major": 2,
       "version_minor": 0
      },
      "text/plain": [
       "Validation: |          | 0/? [00:00<?, ?it/s]"
      ]
     },
     "metadata": {},
     "output_type": "display_data"
    },
    {
     "data": {
      "application/vnd.jupyter.widget-view+json": {
       "model_id": "e38a50eec7b943f8bc4398e8da3f2396",
       "version_major": 2,
       "version_minor": 0
      },
      "text/plain": [
       "Validation: |          | 0/? [00:00<?, ?it/s]"
      ]
     },
     "metadata": {},
     "output_type": "display_data"
    },
    {
     "data": {
      "application/vnd.jupyter.widget-view+json": {
       "model_id": "55e67c6fafea45b698a0c7a676c7f6b0",
       "version_major": 2,
       "version_minor": 0
      },
      "text/plain": [
       "Validation: |          | 0/? [00:00<?, ?it/s]"
      ]
     },
     "metadata": {},
     "output_type": "display_data"
    },
    {
     "data": {
      "application/vnd.jupyter.widget-view+json": {
       "model_id": "9da49746569e4319a908a4b07942decd",
       "version_major": 2,
       "version_minor": 0
      },
      "text/plain": [
       "Validation: |          | 0/? [00:00<?, ?it/s]"
      ]
     },
     "metadata": {},
     "output_type": "display_data"
    },
    {
     "data": {
      "application/vnd.jupyter.widget-view+json": {
       "model_id": "a5925261c24e4cd5a982ef51cb4921fa",
       "version_major": 2,
       "version_minor": 0
      },
      "text/plain": [
       "Validation: |          | 0/? [00:00<?, ?it/s]"
      ]
     },
     "metadata": {},
     "output_type": "display_data"
    },
    {
     "data": {
      "application/vnd.jupyter.widget-view+json": {
       "model_id": "2b04dca7e51746de93db5b99ccff65c3",
       "version_major": 2,
       "version_minor": 0
      },
      "text/plain": [
       "Validation: |          | 0/? [00:00<?, ?it/s]"
      ]
     },
     "metadata": {},
     "output_type": "display_data"
    },
    {
     "data": {
      "application/vnd.jupyter.widget-view+json": {
       "model_id": "d92b020d23dc4f71ab667b835e034eec",
       "version_major": 2,
       "version_minor": 0
      },
      "text/plain": [
       "Validation: |          | 0/? [00:00<?, ?it/s]"
      ]
     },
     "metadata": {},
     "output_type": "display_data"
    },
    {
     "data": {
      "application/vnd.jupyter.widget-view+json": {
       "model_id": "95c83b73468547728df14e0e8bff9c35",
       "version_major": 2,
       "version_minor": 0
      },
      "text/plain": [
       "Validation: |          | 0/? [00:00<?, ?it/s]"
      ]
     },
     "metadata": {},
     "output_type": "display_data"
    },
    {
     "data": {
      "application/vnd.jupyter.widget-view+json": {
       "model_id": "bbb65b7d80e7457fbad97c6b668c46ce",
       "version_major": 2,
       "version_minor": 0
      },
      "text/plain": [
       "Validation: |          | 0/? [00:00<?, ?it/s]"
      ]
     },
     "metadata": {},
     "output_type": "display_data"
    },
    {
     "data": {
      "application/vnd.jupyter.widget-view+json": {
       "model_id": "3927a93c5ec14f1396a08d049c53bae3",
       "version_major": 2,
       "version_minor": 0
      },
      "text/plain": [
       "Validation: |          | 0/? [00:00<?, ?it/s]"
      ]
     },
     "metadata": {},
     "output_type": "display_data"
    },
    {
     "data": {
      "application/vnd.jupyter.widget-view+json": {
       "model_id": "5fc6383e0ff24fda8c233e476300c699",
       "version_major": 2,
       "version_minor": 0
      },
      "text/plain": [
       "Validation: |          | 0/? [00:00<?, ?it/s]"
      ]
     },
     "metadata": {},
     "output_type": "display_data"
    },
    {
     "data": {
      "application/vnd.jupyter.widget-view+json": {
       "model_id": "3d48d7aefba446d0a53d537fc3b3ab8a",
       "version_major": 2,
       "version_minor": 0
      },
      "text/plain": [
       "Validation: |          | 0/? [00:00<?, ?it/s]"
      ]
     },
     "metadata": {},
     "output_type": "display_data"
    },
    {
     "data": {
      "application/vnd.jupyter.widget-view+json": {
       "model_id": "59ffc9e9a8cb4281849318ddd5946480",
       "version_major": 2,
       "version_minor": 0
      },
      "text/plain": [
       "Validation: |          | 0/? [00:00<?, ?it/s]"
      ]
     },
     "metadata": {},
     "output_type": "display_data"
    },
    {
     "data": {
      "application/vnd.jupyter.widget-view+json": {
       "model_id": "a7e097e2d9694f049ff642f6a216dac0",
       "version_major": 2,
       "version_minor": 0
      },
      "text/plain": [
       "Validation: |          | 0/? [00:00<?, ?it/s]"
      ]
     },
     "metadata": {},
     "output_type": "display_data"
    },
    {
     "data": {
      "application/vnd.jupyter.widget-view+json": {
       "model_id": "8de67beeb0a943149c2aeef11707b93f",
       "version_major": 2,
       "version_minor": 0
      },
      "text/plain": [
       "Validation: |          | 0/? [00:00<?, ?it/s]"
      ]
     },
     "metadata": {},
     "output_type": "display_data"
    },
    {
     "data": {
      "application/vnd.jupyter.widget-view+json": {
       "model_id": "36c951a63cbc4799930718558df5a42a",
       "version_major": 2,
       "version_minor": 0
      },
      "text/plain": [
       "Validation: |          | 0/? [00:00<?, ?it/s]"
      ]
     },
     "metadata": {},
     "output_type": "display_data"
    },
    {
     "data": {
      "application/vnd.jupyter.widget-view+json": {
       "model_id": "11c28b93902a4b79a9f35ecfce9d0ad6",
       "version_major": 2,
       "version_minor": 0
      },
      "text/plain": [
       "Validation: |          | 0/? [00:00<?, ?it/s]"
      ]
     },
     "metadata": {},
     "output_type": "display_data"
    }
   ],
   "source": [
    "trainer, model = train_model(config_path=SSVEP_CONFIG_PATH)"
   ]
  },
  {
   "cell_type": "code",
   "execution_count": 9,
   "id": "081e00ce",
   "metadata": {},
   "outputs": [
    {
     "ename": "ImportError",
     "evalue": "cannot import name 'load_and_preprocess_for_inference' from 'bci_aic3.preprocess' (P:\\Programming\\AIC3\\repo\\bci_aic3\\src\\bci_aic3\\preprocess.py)",
     "output_type": "error",
     "traceback": [
      "\u001b[31m---------------------------------------------------------------------------\u001b[39m",
      "\u001b[31mImportError\u001b[39m                               Traceback (most recent call last)",
      "\u001b[36mCell\u001b[39m\u001b[36m \u001b[39m\u001b[32mIn[9]\u001b[39m\u001b[32m, line 1\u001b[39m\n\u001b[32m----> \u001b[39m\u001b[32m1\u001b[39m \u001b[38;5;28;01mfrom\u001b[39;00m\u001b[38;5;250m \u001b[39m\u001b[34;01mbci_aic3\u001b[39;00m\u001b[34;01m.\u001b[39;00m\u001b[34;01mpreprocess\u001b[39;00m\u001b[38;5;250m \u001b[39m\u001b[38;5;28;01mimport\u001b[39;00m load_and_preprocess_for_inference\n\u001b[32m      2\u001b[39m \u001b[38;5;28;01mfrom\u001b[39;00m\u001b[38;5;250m \u001b[39m\u001b[34;01mbci_aic3\u001b[39;00m\u001b[34;01m.\u001b[39;00m\u001b[34;01mpaths\u001b[39;00m\u001b[38;5;250m \u001b[39m\u001b[38;5;28;01mimport\u001b[39;00m RAW_DATA_DIR\n\u001b[32m      3\u001b[39m \u001b[38;5;28;01mfrom\u001b[39;00m\u001b[38;5;250m \u001b[39m\u001b[34;01mbci_aic3\u001b[39;00m\u001b[34;01m.\u001b[39;00m\u001b[34;01minference\u001b[39;00m\u001b[38;5;250m \u001b[39m\u001b[38;5;28;01mimport\u001b[39;00m create_inference_data_loader\n",
      "\u001b[31mImportError\u001b[39m: cannot import name 'load_and_preprocess_for_inference' from 'bci_aic3.preprocess' (P:\\Programming\\AIC3\\repo\\bci_aic3\\src\\bci_aic3\\preprocess.py)"
     ]
    }
   ],
   "source": [
    "from bci_aic3.preprocess import load_and_preprocess_for_inference\n",
    "from bci_aic3.paths import RAW_DATA_DIR\n",
    "from bci_aic3.inference import create_inference_data_loader\n",
    "\n",
    "\n",
    "test_dataset = load_and_preprocess_for_inference(csv_file=\"test.csv\",\n",
    "                                        base_path=RAW_DATA_DIR,\n",
    "                                        task_type=\"SSVEP\")\n",
    "test_loader = create_inference_data_loader(test_dataset=test_dataset)\n",
    "\n",
    "# model.eval()\n",
    "\n",
    "# with torch.no_grad():\n",
    "#     data_batch = next(iter(test_loader))\n",
    "\n",
    "#     preds = model(data_batch[0])\n",
    "    \n",
    "def predict_batch(model, data_loader, device):\n",
    "    \"\"\"Make predictions on a batch of data.\"\"\"\n",
    "    model.eval()\n",
    "    predictions = []\n",
    "\n",
    "    with torch.no_grad():\n",
    "        for x_batch, _ in data_loader:\n",
    "            x_batch = x_batch.to(device)\n",
    "            outputs = model(x_batch)\n",
    "            preds = torch.argmax(outputs, dim=1).cpu().numpy()\n",
    "            predictions.extend(preds.tolist())\n",
    "\n",
    "    return predictions\n",
    "\n",
    "predict_batch(model=model,\n",
    "              data_loader=test_loader, \n",
    "              device=\"cuda\" if torch.cuda.is_available() else \"cpu\")"
   ]
  },
  {
   "cell_type": "code",
   "execution_count": 70,
   "id": "1aa2ae9a",
   "metadata": {},
   "outputs": [
    {
     "data": {
      "text/plain": [
       "tensor([1, 1, 1, 0, 1, 1, 1, 1, 0, 0, 1, 1, 0, 0, 0, 0, 1, 1, 1, 1, 1, 0, 0, 0,\n",
       "        1, 1, 1, 1, 1, 1, 0, 0, 0, 0, 0, 0, 0, 0, 0, 0, 0, 0, 1, 0, 0, 1, 0, 0,\n",
       "        1, 1])"
      ]
     },
     "execution_count": 70,
     "metadata": {},
     "output_type": "execute_result"
    }
   ],
   "source": [
    "preds.argmax(dim=1)"
   ]
  },
  {
   "cell_type": "code",
   "execution_count": 71,
   "id": "38e4cdb5",
   "metadata": {},
   "outputs": [
    {
     "data": {
      "text/plain": [
       "['Right',\n",
       " 'Right',\n",
       " 'Right',\n",
       " 'Left',\n",
       " 'Right',\n",
       " 'Right',\n",
       " 'Right',\n",
       " 'Right',\n",
       " 'Left',\n",
       " 'Left',\n",
       " 'Right',\n",
       " 'Right',\n",
       " 'Left',\n",
       " 'Left',\n",
       " 'Left',\n",
       " 'Left',\n",
       " 'Right',\n",
       " 'Right',\n",
       " 'Right',\n",
       " 'Right',\n",
       " 'Right',\n",
       " 'Left',\n",
       " 'Left',\n",
       " 'Left',\n",
       " 'Right',\n",
       " 'Right',\n",
       " 'Right',\n",
       " 'Right',\n",
       " 'Right',\n",
       " 'Right',\n",
       " 'Left',\n",
       " 'Left',\n",
       " 'Left',\n",
       " 'Left',\n",
       " 'Left',\n",
       " 'Left',\n",
       " 'Left',\n",
       " 'Left',\n",
       " 'Left',\n",
       " 'Left',\n",
       " 'Left',\n",
       " 'Left',\n",
       " 'Right',\n",
       " 'Left',\n",
       " 'Left',\n",
       " 'Right',\n",
       " 'Left',\n",
       " 'Left',\n",
       " 'Right',\n",
       " 'Right']"
      ]
     },
     "execution_count": 71,
     "metadata": {},
     "output_type": "execute_result"
    }
   ],
   "source": [
    "# from bci_aic3.paths import REVERSE_LABEL_MAPPING_PATH\n",
    "from bci_aic3.paths import CONFIG_DIR\n",
    "\n",
    "\n",
    "REVERSE_LABEL_MAPPING_PATH = CONFIG_DIR / \"reverse_label_mapping.json\"\n",
    "\n",
    "\n",
    "reverse_label_mapping = read_json_to_dict(REVERSE_LABEL_MAPPING_PATH)\n",
    "preds_labels = [reverse_label_mapping[str(p.item())] for p in preds.argmax(dim=1)]\n",
    "preds_labels"
   ]
  },
  {
   "cell_type": "code",
   "execution_count": 72,
   "id": "0775fcdd",
   "metadata": {},
   "outputs": [
    {
     "data": {
      "text/plain": [
       "{'0': 'Left', '1': 'Right', '2': 'Forward', '3': 'Backward'}"
      ]
     },
     "execution_count": 72,
     "metadata": {},
     "output_type": "execute_result"
    }
   ],
   "source": [
    "reverse_label_mapping"
   ]
  },
  {
   "cell_type": "code",
   "execution_count": 73,
   "id": "f6f295cf",
   "metadata": {},
   "outputs": [
    {
     "ename": "RuntimeError",
     "evalue": "\n'Tensor' object has no attribute or method '__init__'.:\n  File \"P:\\Programming\\AIC3\\repo\\bci_aic3\\src\\bci_aic3\\train.py\", line 43\n        # scheduler_name: str = None,\n    ):\n        super().__init__()\n        ~~~~~~~~~~~~~~ <--- HERE\n        self.save_hyperparameters()  # Automatically saves all __init__ params\n    \n",
     "output_type": "error",
     "traceback": [
      "\u001b[31m---------------------------------------------------------------------------\u001b[39m",
      "\u001b[31mRuntimeError\u001b[39m                              Traceback (most recent call last)",
      "\u001b[36mCell\u001b[39m\u001b[36m \u001b[39m\u001b[32mIn[73]\u001b[39m\u001b[32m, line 4\u001b[39m\n\u001b[32m      1\u001b[39m \u001b[38;5;28;01mfrom\u001b[39;00m\u001b[38;5;250m \u001b[39m\u001b[34;01mbci_aic3\u001b[39;00m\u001b[34;01m.\u001b[39;00m\u001b[34;01mpaths\u001b[39;00m\u001b[38;5;250m \u001b[39m\u001b[38;5;28;01mimport\u001b[39;00m RUNS_DIR\n\u001b[32m----> \u001b[39m\u001b[32m4\u001b[39m scripted = \u001b[43mmodel\u001b[49m\u001b[43m.\u001b[49m\u001b[43mto_torchscript\u001b[49m\u001b[43m(\u001b[49m\u001b[43m)\u001b[49m\n\u001b[32m      6\u001b[39m torch.jit.save(scripted, RUNS_DIR / \u001b[33m\"\u001b[39m\u001b[33mmi_scripted.pt\u001b[39m\u001b[33m\"\u001b[39m)\n",
      "\u001b[36mFile \u001b[39m\u001b[32mp:\\Programming\\AIC3\\repo\\bci_aic3\\.venv\\Lib\\site-packages\\torch\\utils\\_contextlib.py:116\u001b[39m, in \u001b[36mcontext_decorator.<locals>.decorate_context\u001b[39m\u001b[34m(*args, **kwargs)\u001b[39m\n\u001b[32m    113\u001b[39m \u001b[38;5;129m@functools\u001b[39m.wraps(func)\n\u001b[32m    114\u001b[39m \u001b[38;5;28;01mdef\u001b[39;00m\u001b[38;5;250m \u001b[39m\u001b[34mdecorate_context\u001b[39m(*args, **kwargs):\n\u001b[32m    115\u001b[39m     \u001b[38;5;28;01mwith\u001b[39;00m ctx_factory():\n\u001b[32m--> \u001b[39m\u001b[32m116\u001b[39m         \u001b[38;5;28;01mreturn\u001b[39;00m \u001b[43mfunc\u001b[49m\u001b[43m(\u001b[49m\u001b[43m*\u001b[49m\u001b[43margs\u001b[49m\u001b[43m,\u001b[49m\u001b[43m \u001b[49m\u001b[43m*\u001b[49m\u001b[43m*\u001b[49m\u001b[43mkwargs\u001b[49m\u001b[43m)\u001b[49m\n",
      "\u001b[36mFile \u001b[39m\u001b[32mp:\\Programming\\AIC3\\repo\\bci_aic3\\.venv\\Lib\\site-packages\\pytorch_lightning\\core\\module.py:1464\u001b[39m, in \u001b[36mLightningModule.to_torchscript\u001b[39m\u001b[34m(self, file_path, method, example_inputs, **kwargs)\u001b[39m\n\u001b[32m   1462\u001b[39m \u001b[38;5;28;01mif\u001b[39;00m method == \u001b[33m\"\u001b[39m\u001b[33mscript\u001b[39m\u001b[33m\"\u001b[39m:\n\u001b[32m   1463\u001b[39m     \u001b[38;5;28;01mwith\u001b[39;00m _jit_is_scripting():\n\u001b[32m-> \u001b[39m\u001b[32m1464\u001b[39m         torchscript_module = \u001b[43mtorch\u001b[49m\u001b[43m.\u001b[49m\u001b[43mjit\u001b[49m\u001b[43m.\u001b[49m\u001b[43mscript\u001b[49m\u001b[43m(\u001b[49m\u001b[38;5;28;43mself\u001b[39;49m\u001b[43m.\u001b[49m\u001b[43meval\u001b[49m\u001b[43m(\u001b[49m\u001b[43m)\u001b[49m\u001b[43m,\u001b[49m\u001b[43m \u001b[49m\u001b[43m*\u001b[49m\u001b[43m*\u001b[49m\u001b[43mkwargs\u001b[49m\u001b[43m)\u001b[49m\n\u001b[32m   1465\u001b[39m \u001b[38;5;28;01melif\u001b[39;00m method == \u001b[33m\"\u001b[39m\u001b[33mtrace\u001b[39m\u001b[33m\"\u001b[39m:\n\u001b[32m   1466\u001b[39m     \u001b[38;5;66;03m# if no example inputs are provided, try to see if model has example_input_array set\u001b[39;00m\n\u001b[32m   1467\u001b[39m     \u001b[38;5;28;01mif\u001b[39;00m example_inputs \u001b[38;5;129;01mis\u001b[39;00m \u001b[38;5;28;01mNone\u001b[39;00m:\n",
      "\u001b[36mFile \u001b[39m\u001b[32mp:\\Programming\\AIC3\\repo\\bci_aic3\\.venv\\Lib\\site-packages\\torch\\jit\\_script.py:1443\u001b[39m, in \u001b[36mscript\u001b[39m\u001b[34m(obj, optimize, _frames_up, _rcb, example_inputs)\u001b[39m\n\u001b[32m   1441\u001b[39m prev = _TOPLEVEL\n\u001b[32m   1442\u001b[39m _TOPLEVEL = \u001b[38;5;28;01mFalse\u001b[39;00m\n\u001b[32m-> \u001b[39m\u001b[32m1443\u001b[39m ret = \u001b[43m_script_impl\u001b[49m\u001b[43m(\u001b[49m\n\u001b[32m   1444\u001b[39m \u001b[43m    \u001b[49m\u001b[43mobj\u001b[49m\u001b[43m=\u001b[49m\u001b[43mobj\u001b[49m\u001b[43m,\u001b[49m\n\u001b[32m   1445\u001b[39m \u001b[43m    \u001b[49m\u001b[43moptimize\u001b[49m\u001b[43m=\u001b[49m\u001b[43moptimize\u001b[49m\u001b[43m,\u001b[49m\n\u001b[32m   1446\u001b[39m \u001b[43m    \u001b[49m\u001b[43m_frames_up\u001b[49m\u001b[43m=\u001b[49m\u001b[43m_frames_up\u001b[49m\u001b[43m \u001b[49m\u001b[43m+\u001b[49m\u001b[43m \u001b[49m\u001b[32;43m1\u001b[39;49m\u001b[43m,\u001b[49m\n\u001b[32m   1447\u001b[39m \u001b[43m    \u001b[49m\u001b[43m_rcb\u001b[49m\u001b[43m=\u001b[49m\u001b[43m_rcb\u001b[49m\u001b[43m,\u001b[49m\n\u001b[32m   1448\u001b[39m \u001b[43m    \u001b[49m\u001b[43mexample_inputs\u001b[49m\u001b[43m=\u001b[49m\u001b[43mexample_inputs\u001b[49m\u001b[43m,\u001b[49m\n\u001b[32m   1449\u001b[39m \u001b[43m\u001b[49m\u001b[43m)\u001b[49m\n\u001b[32m   1451\u001b[39m \u001b[38;5;28;01mif\u001b[39;00m prev:\n\u001b[32m   1452\u001b[39m     log_torchscript_usage(\u001b[33m\"\u001b[39m\u001b[33mscript\u001b[39m\u001b[33m\"\u001b[39m, model_id=_get_model_id(ret))\n",
      "\u001b[36mFile \u001b[39m\u001b[32mp:\\Programming\\AIC3\\repo\\bci_aic3\\.venv\\Lib\\site-packages\\torch\\jit\\_script.py:1152\u001b[39m, in \u001b[36m_script_impl\u001b[39m\u001b[34m(obj, optimize, _frames_up, _rcb, example_inputs)\u001b[39m\n\u001b[32m   1150\u001b[39m \u001b[38;5;28;01mif\u001b[39;00m \u001b[38;5;28misinstance\u001b[39m(obj, torch.nn.Module):\n\u001b[32m   1151\u001b[39m     obj = call_prepare_scriptable_func(obj)\n\u001b[32m-> \u001b[39m\u001b[32m1152\u001b[39m     \u001b[38;5;28;01mreturn\u001b[39;00m \u001b[43mtorch\u001b[49m\u001b[43m.\u001b[49m\u001b[43mjit\u001b[49m\u001b[43m.\u001b[49m\u001b[43m_recursive\u001b[49m\u001b[43m.\u001b[49m\u001b[43mcreate_script_module\u001b[49m\u001b[43m(\u001b[49m\n\u001b[32m   1153\u001b[39m \u001b[43m        \u001b[49m\u001b[43mobj\u001b[49m\u001b[43m,\u001b[49m\u001b[43m \u001b[49m\u001b[43mtorch\u001b[49m\u001b[43m.\u001b[49m\u001b[43mjit\u001b[49m\u001b[43m.\u001b[49m\u001b[43m_recursive\u001b[49m\u001b[43m.\u001b[49m\u001b[43minfer_methods_to_compile\u001b[49m\n\u001b[32m   1154\u001b[39m \u001b[43m    \u001b[49m\u001b[43m)\u001b[49m\n\u001b[32m   1155\u001b[39m \u001b[38;5;28;01melse\u001b[39;00m:\n\u001b[32m   1156\u001b[39m     obj = (\n\u001b[32m   1157\u001b[39m         obj.__prepare_scriptable__()\n\u001b[32m   1158\u001b[39m         \u001b[38;5;28;01mif\u001b[39;00m \u001b[38;5;28mhasattr\u001b[39m(obj, \u001b[33m\"\u001b[39m\u001b[33m__prepare_scriptable__\u001b[39m\u001b[33m\"\u001b[39m)\n\u001b[32m   1159\u001b[39m         \u001b[38;5;28;01melse\u001b[39;00m obj\n\u001b[32m   1160\u001b[39m     )  \u001b[38;5;66;03m# type: ignore[operator]\u001b[39;00m\n",
      "\u001b[36mFile \u001b[39m\u001b[32mp:\\Programming\\AIC3\\repo\\bci_aic3\\.venv\\Lib\\site-packages\\torch\\jit\\_recursive.py:556\u001b[39m, in \u001b[36mcreate_script_module\u001b[39m\u001b[34m(nn_module, stubs_fn, share_types, is_tracing)\u001b[39m\n\u001b[32m    554\u001b[39m \u001b[38;5;28;01mif\u001b[39;00m \u001b[38;5;129;01mnot\u001b[39;00m is_tracing:\n\u001b[32m    555\u001b[39m     AttributeTypeIsSupportedChecker().check(nn_module)\n\u001b[32m--> \u001b[39m\u001b[32m556\u001b[39m \u001b[38;5;28;01mreturn\u001b[39;00m \u001b[43mcreate_script_module_impl\u001b[49m\u001b[43m(\u001b[49m\u001b[43mnn_module\u001b[49m\u001b[43m,\u001b[49m\u001b[43m \u001b[49m\u001b[43mconcrete_type\u001b[49m\u001b[43m,\u001b[49m\u001b[43m \u001b[49m\u001b[43mstubs_fn\u001b[49m\u001b[43m)\u001b[49m\n",
      "\u001b[36mFile \u001b[39m\u001b[32mp:\\Programming\\AIC3\\repo\\bci_aic3\\.venv\\Lib\\site-packages\\torch\\jit\\_recursive.py:629\u001b[39m, in \u001b[36mcreate_script_module_impl\u001b[39m\u001b[34m(nn_module, concrete_type, stubs_fn)\u001b[39m\n\u001b[32m    627\u001b[39m \u001b[38;5;66;03m# Compile methods if necessary\u001b[39;00m\n\u001b[32m    628\u001b[39m \u001b[38;5;28;01mif\u001b[39;00m concrete_type \u001b[38;5;129;01mnot\u001b[39;00m \u001b[38;5;129;01min\u001b[39;00m concrete_type_store.methods_compiled:\n\u001b[32m--> \u001b[39m\u001b[32m629\u001b[39m     \u001b[43mcreate_methods_and_properties_from_stubs\u001b[49m\u001b[43m(\u001b[49m\n\u001b[32m    630\u001b[39m \u001b[43m        \u001b[49m\u001b[43mconcrete_type\u001b[49m\u001b[43m,\u001b[49m\u001b[43m \u001b[49m\u001b[43mmethod_stubs\u001b[49m\u001b[43m,\u001b[49m\u001b[43m \u001b[49m\u001b[43mproperty_stubs\u001b[49m\n\u001b[32m    631\u001b[39m \u001b[43m    \u001b[49m\u001b[43m)\u001b[49m\n\u001b[32m    632\u001b[39m     \u001b[38;5;66;03m# Create hooks after methods to ensure no name collisions between hooks and methods.\u001b[39;00m\n\u001b[32m    633\u001b[39m     \u001b[38;5;66;03m# If done before, hooks can overshadow methods that aren't exported.\u001b[39;00m\n\u001b[32m    634\u001b[39m     create_hooks_from_stubs(concrete_type, hook_stubs, pre_hook_stubs)\n",
      "\u001b[36mFile \u001b[39m\u001b[32mp:\\Programming\\AIC3\\repo\\bci_aic3\\.venv\\Lib\\site-packages\\torch\\jit\\_recursive.py:465\u001b[39m, in \u001b[36mcreate_methods_and_properties_from_stubs\u001b[39m\u001b[34m(concrete_type, method_stubs, property_stubs)\u001b[39m\n\u001b[32m    462\u001b[39m property_defs = [p.def_ \u001b[38;5;28;01mfor\u001b[39;00m p \u001b[38;5;129;01min\u001b[39;00m property_stubs]\n\u001b[32m    463\u001b[39m property_rcbs = [p.resolution_callback \u001b[38;5;28;01mfor\u001b[39;00m p \u001b[38;5;129;01min\u001b[39;00m property_stubs]\n\u001b[32m--> \u001b[39m\u001b[32m465\u001b[39m \u001b[43mconcrete_type\u001b[49m\u001b[43m.\u001b[49m\u001b[43m_create_methods_and_properties\u001b[49m\u001b[43m(\u001b[49m\n\u001b[32m    466\u001b[39m \u001b[43m    \u001b[49m\u001b[43mproperty_defs\u001b[49m\u001b[43m,\u001b[49m\u001b[43m \u001b[49m\u001b[43mproperty_rcbs\u001b[49m\u001b[43m,\u001b[49m\u001b[43m \u001b[49m\u001b[43mmethod_defs\u001b[49m\u001b[43m,\u001b[49m\u001b[43m \u001b[49m\u001b[43mmethod_rcbs\u001b[49m\u001b[43m,\u001b[49m\u001b[43m \u001b[49m\u001b[43mmethod_defaults\u001b[49m\n\u001b[32m    467\u001b[39m \u001b[43m\u001b[49m\u001b[43m)\u001b[49m\n",
      "\u001b[31mRuntimeError\u001b[39m: \n'Tensor' object has no attribute or method '__init__'.:\n  File \"P:\\Programming\\AIC3\\repo\\bci_aic3\\src\\bci_aic3\\train.py\", line 43\n        # scheduler_name: str = None,\n    ):\n        super().__init__()\n        ~~~~~~~~~~~~~~ <--- HERE\n        self.save_hyperparameters()  # Automatically saves all __init__ params\n    \n"
     ]
    }
   ],
   "source": [
    "from bci_aic3.paths import RUNS_DIR\n",
    "\n",
    "\n",
    "scripted = model.to_torchscript()\n",
    "\n",
    "torch.jit.save(scripted, RUNS_DIR / \"mi_scripted.pt\")"
   ]
  },
  {
   "cell_type": "code",
   "execution_count": null,
   "id": "99916739",
   "metadata": {},
   "outputs": [],
   "source": []
  }
 ],
 "metadata": {
  "kernelspec": {
   "display_name": ".venv",
   "language": "python",
   "name": "python3"
  },
  "language_info": {
   "codemirror_mode": {
    "name": "ipython",
    "version": 3
   },
   "file_extension": ".py",
   "mimetype": "text/x-python",
   "name": "python",
   "nbconvert_exporter": "python",
   "pygments_lexer": "ipython3",
   "version": "3.11.9"
  }
 },
 "nbformat": 4,
 "nbformat_minor": 5
}
