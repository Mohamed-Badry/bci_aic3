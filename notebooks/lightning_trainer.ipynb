{
 "cells": [
  {
   "cell_type": "code",
   "execution_count": 1,
   "id": "8bc0e5b0",
   "metadata": {},
   "outputs": [],
   "source": [
    "import os\n",
    "import torch\n",
    "\n",
    "from pytorch_lightning import Trainer, seed_everything\n"
   ]
  },
  {
   "cell_type": "code",
   "execution_count": null,
   "id": "8e26e2f0",
   "metadata": {},
   "outputs": [],
   "source": [
    "\n",
    "from bci_aic3.paths import (\n",
    "    RAW_DATA_DIR,\n",
    "    MI_CONFIG_PATH,\n",
    "    SSVEP_CONFIG_PATH,\n",
    "    MI_RUNS_DIR,\n",
    ")\n",
    "from bci_aic3.models.eegnet import EEGNet\n",
    "from bci_aic3.util import rec_cpu_count"
   ]
  },
  {
   "cell_type": "code",
   "execution_count": 3,
   "id": "8519b5a6",
   "metadata": {},
   "outputs": [],
   "source": [
    "from bci_aic3.train import train_model"
   ]
  },
  {
   "cell_type": "code",
   "execution_count": 4,
   "id": "ad54306c",
   "metadata": {},
   "outputs": [
    {
     "name": "stderr",
     "output_type": "stream",
     "text": [
      "Seed set to 42\n"
     ]
    }
   ],
   "source": [
    "# Code necessary to create reproducible runs\n",
    "os.environ[\"CUBLAS_WORKSPACE_CONFIG\"] = \":4096:8\"\n",
    "seed_everything(42, workers=True)\n",
    "torch.use_deterministic_algorithms(True, warn_only=True)\n"
   ]
  },
  {
   "cell_type": "code",
   "execution_count": null,
   "id": "593fed59",
   "metadata": {},
   "outputs": [
    {
     "name": "stderr",
     "output_type": "stream",
     "text": [
      "GPU available: False, used: False\n",
      "TPU available: False, using: 0 TPU cores\n",
      "HPU available: False, using: 0 HPUs\n",
      "p:\\Programming\\AIC3\\repo\\bci_aic3\\.venv\\Lib\\site-packages\\pytorch_lightning\\callbacks\\model_checkpoint.py:654: Checkpoint directory P:\\Programming\\AIC3\\repo\\bci_aic3\\checkpoints\\MI exists and is not empty.\n",
      "\n",
      "  | Name           | Type               | Params | Mode \n",
      "--------------------------------------------------------------\n",
      "0 | model          | EEGNet             | 36.2 K | train\n",
      "1 | criterion      | CrossEntropyLoss   | 0      | train\n",
      "2 | train_accuracy | MulticlassAccuracy | 0      | train\n",
      "3 | val_accuracy   | MulticlassAccuracy | 0      | train\n",
      "4 | train_f1       | MulticlassF1Score  | 0      | train\n",
      "5 | val_f1         | MulticlassF1Score  | 0      | train\n",
      "--------------------------------------------------------------\n",
      "36.2 K    Trainable params\n",
      "0         Non-trainable params\n",
      "36.2 K    Total params\n",
      "0.145     Total estimated model params size (MB)\n",
      "20        Modules in train mode\n",
      "0         Modules in eval mode\n"
     ]
    },
    {
     "data": {
      "application/vnd.jupyter.widget-view+json": {
       "model_id": "87d1fd193dd04314b07641fe80178cad",
       "version_major": 2,
       "version_minor": 0
      },
      "text/plain": [
       "Sanity Checking: |          | 0/? [00:00<?, ?it/s]"
      ]
     },
     "metadata": {},
     "output_type": "display_data"
    },
    {
     "name": "stderr",
     "output_type": "stream",
     "text": [
      "p:\\Programming\\AIC3\\repo\\bci_aic3\\.venv\\Lib\\site-packages\\torch\\nn\\modules\\conv.py:549: UserWarning: Using padding='same' with even kernel lengths and odd dilation may require a zero-padded copy of the input be created (Triggered internally at C:\\actions-runner\\_work\\pytorch\\pytorch\\pytorch\\aten\\src\\ATen\\native\\Convolution.cpp:1037.)\n",
      "  return F.conv2d(\n"
     ]
    },
    {
     "data": {
      "application/vnd.jupyter.widget-view+json": {
       "model_id": "eaff8a370ca6417aaeeebb2a29d24707",
       "version_major": 2,
       "version_minor": 0
      },
      "text/plain": [
       "Training: |          | 0/? [00:00<?, ?it/s]"
      ]
     },
     "metadata": {},
     "output_type": "display_data"
    }
   ],
   "source": [
    "\n",
    "\n",
    "trainer, model = train_model(model=EEGNet,\n",
    "                             config_path=MI_CONFIG_PATH)"
   ]
  },
  {
   "cell_type": "code",
   "execution_count": null,
   "id": "f6f295cf",
   "metadata": {},
   "outputs": [],
   "source": []
  },
  {
   "cell_type": "code",
   "execution_count": null,
   "id": "92aa357c",
   "metadata": {},
   "outputs": [],
   "source": [
    "from torch.nn.utils import parametrize\n",
    "\n",
    "# Remove all parametrizations from the model\n",
    "def remove_parametrizations(model):\n",
    "    for name, module in model.named_modules():\n",
    "        if hasattr(module, 'parametrizations'):\n",
    "            # Remove all parametrizations for this module\n",
    "            for param_name in list(module.parametrizations.keys()):\n",
    "                parametrize.remove_parametrizations(module, param_name)\n",
    "    return model"
   ]
  },
  {
   "cell_type": "code",
   "execution_count": null,
   "id": "16cb3114",
   "metadata": {},
   "outputs": [],
   "source": [
    "unparamed_model = remove_parametrizations(model)"
   ]
  },
  {
   "cell_type": "code",
   "execution_count": null,
   "id": "b4766535",
   "metadata": {},
   "outputs": [],
   "source": [
    "scripted_model = torch.jit.script(unparamed_model)\n",
    "torch.save(scripted_model, MI_RUNS_DIR / \"model_scripted.pt\") # Export to TorchScript"
   ]
  },
  {
   "cell_type": "code",
   "execution_count": null,
   "id": "9bf6e25b",
   "metadata": {},
   "outputs": [],
   "source": [
    "\n",
    "torch.save(model_trace, MI_RUNS_DIR / 'model_trace.pt') # Save"
   ]
  },
  {
   "cell_type": "markdown",
   "id": "2048c9da",
   "metadata": {},
   "source": []
  },
  {
   "cell_type": "code",
   "execution_count": null,
   "id": "a68efde5",
   "metadata": {},
   "outputs": [],
   "source": [
    "loaded_model = torch.load(MI_RUNS_DIR / \"mi_scripted.pt\", weights_only=False)"
   ]
  },
  {
   "cell_type": "code",
   "execution_count": null,
   "id": "a9260acc",
   "metadata": {},
   "outputs": [],
   "source": [
    "loaded_model = torch.jit.load(MI_RUNS_DIR / \"model_scripted.pt\")"
   ]
  },
  {
   "cell_type": "code",
   "execution_count": null,
   "id": "867bd792",
   "metadata": {},
   "outputs": [],
   "source": [
    "from bci_aic3.inference import create_inference_data_loader, load_and_preprocess_for_inference\n",
    "from bci_aic3.inference import predict_batch\n"
   ]
  },
  {
   "cell_type": "code",
   "execution_count": null,
   "id": "9b31da1c",
   "metadata": {},
   "outputs": [],
   "source": [
    "test_dataset = load_and_preprocess_for_inference(\"test.csv\", \n",
    "                                                 base_path=RAW_DATA_DIR,\n",
    "                                                 task_type=\"MI\")\n",
    "\n",
    "test_loader = create_inference_data_loader(test_dataset)"
   ]
  },
  {
   "cell_type": "code",
   "execution_count": null,
   "id": "73e76b60",
   "metadata": {},
   "outputs": [],
   "source": [
    "unparamed_model = remove_parametrizations(loaded_model)"
   ]
  },
  {
   "cell_type": "code",
   "execution_count": null,
   "id": "91b20e72",
   "metadata": {},
   "outputs": [],
   "source": [
    "loaded_model.eval()\n",
    "predictions = []\n",
    "device = \"cpu\"\n",
    "\n",
    "with torch.no_grad():\n",
    "    for x_batch in test_loader:\n",
    "        x_batch = x_batch[0]\n",
    "        x_batch = x_batch.to(device)\n",
    "        outputs = loaded_model(x_batch)\n",
    "        preds = torch.argmax(outputs, dim=1).cpu().numpy()\n",
    "        predictions.extend(preds.tolist())"
   ]
  },
  {
   "cell_type": "code",
   "execution_count": null,
   "id": "6f5b4f26",
   "metadata": {},
   "outputs": [],
   "source": [
    "predictions"
   ]
  },
  {
   "cell_type": "code",
   "execution_count": null,
   "id": "b9d19bf1",
   "metadata": {},
   "outputs": [],
   "source": []
  }
 ],
 "metadata": {
  "kernelspec": {
   "display_name": ".venv",
   "language": "python",
   "name": "python3"
  },
  "language_info": {
   "codemirror_mode": {
    "name": "ipython",
    "version": 3
   },
   "file_extension": ".py",
   "mimetype": "text/x-python",
   "name": "python",
   "nbconvert_exporter": "python",
   "pygments_lexer": "ipython3",
   "version": "3.11.9"
  }
 },
 "nbformat": 4,
 "nbformat_minor": 5
}
