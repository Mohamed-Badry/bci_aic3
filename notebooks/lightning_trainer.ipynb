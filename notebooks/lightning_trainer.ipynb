{
 "cells": [
  {
   "cell_type": "code",
   "execution_count": 5,
   "id": "8bc0e5b0",
   "metadata": {},
   "outputs": [],
   "source": [
    "import os\n",
    "\n",
    "import torch\n",
    "from pytorch_lightning import seed_everything"
   ]
  },
  {
   "cell_type": "code",
   "execution_count": 6,
   "id": "a8859870",
   "metadata": {},
   "outputs": [],
   "source": [
    "from bci_aic3.models.eegnet import EEGNet\n",
    "from bci_aic3.paths import (\n",
    "    MI_CONFIG_PATH,\n",
    "    MI_RUNS_DIR,\n",
    "    RAW_DATA_DIR,\n",
    "    SSVEP_CONFIG_PATH,\n",
    "    SSVEP_RUNS_DIR\n",
    ")\n",
    "from bci_aic3.train import train_model\n",
    "from bci_aic3.util import save_model, load_model"
   ]
  },
  {
   "cell_type": "code",
   "execution_count": 7,
   "id": "92c7d16d",
   "metadata": {},
   "outputs": [
    {
     "name": "stderr",
     "output_type": "stream",
     "text": [
      "Seed set to 42\n"
     ]
    }
   ],
   "source": [
    "\n",
    "# Code necessary to create reproducible runs\n",
    "os.environ[\"CUBLAS_WORKSPACE_CONFIG\"] = \":4096:8\"\n",
    "seed_everything(42, workers=True)\n",
    "torch.use_deterministic_algorithms(True, warn_only=True)\n"
   ]
  },
  {
   "cell_type": "code",
   "execution_count": 8,
   "id": "593fed59",
   "metadata": {},
   "outputs": [
    {
     "name": "stderr",
     "output_type": "stream",
     "text": [
      "GPU available: False, used: False\n",
      "TPU available: False, using: 0 TPU cores\n",
      "HPU available: False, using: 0 HPUs\n",
      "p:\\Programming\\AIC3\\repo\\bci_aic3\\.venv\\Lib\\site-packages\\pytorch_lightning\\callbacks\\model_checkpoint.py:654: Checkpoint directory P:\\Programming\\AIC3\\repo\\bci_aic3\\checkpoints\\MI exists and is not empty.\n",
      "\n",
      "  | Name           | Type               | Params | Mode \n",
      "--------------------------------------------------------------\n",
      "0 | model          | EEGNet             | 36.2 K | train\n",
      "1 | criterion      | CrossEntropyLoss   | 0      | train\n",
      "2 | train_accuracy | MulticlassAccuracy | 0      | train\n",
      "3 | val_accuracy   | MulticlassAccuracy | 0      | train\n",
      "4 | train_f1       | MulticlassF1Score  | 0      | train\n",
      "5 | val_f1         | MulticlassF1Score  | 0      | train\n",
      "--------------------------------------------------------------\n",
      "36.2 K    Trainable params\n",
      "0         Non-trainable params\n",
      "36.2 K    Total params\n",
      "0.145     Total estimated model params size (MB)\n",
      "20        Modules in train mode\n",
      "0         Modules in eval mode\n"
     ]
    },
    {
     "data": {
      "application/vnd.jupyter.widget-view+json": {
       "model_id": "fad8069bf34945ef8b768aeea3d5cf46",
       "version_major": 2,
       "version_minor": 0
      },
      "text/plain": [
       "Sanity Checking: |          | 0/? [00:00<?, ?it/s]"
      ]
     },
     "metadata": {},
     "output_type": "display_data"
    },
    {
     "data": {
      "application/vnd.jupyter.widget-view+json": {
       "model_id": "647f71a7a3074ae28ab86cb88c6c6c0d",
       "version_major": 2,
       "version_minor": 0
      },
      "text/plain": [
       "Training: |          | 0/? [00:00<?, ?it/s]"
      ]
     },
     "metadata": {},
     "output_type": "display_data"
    },
    {
     "data": {
      "application/vnd.jupyter.widget-view+json": {
       "model_id": "8bd67c0b90e346ffad343a4a9010b8cf",
       "version_major": 2,
       "version_minor": 0
      },
      "text/plain": [
       "Validation: |          | 0/? [00:00<?, ?it/s]"
      ]
     },
     "metadata": {},
     "output_type": "display_data"
    },
    {
     "name": "stderr",
     "output_type": "stream",
     "text": [
      "Metric val_loss improved. New best score: 0.862\n",
      "Epoch 0, global step 75: 'val_f1' reached 0.43182 (best 0.43182), saving model to 'P:\\\\Programming\\\\AIC3\\\\repo\\\\bci_aic3\\\\checkpoints\\\\MI\\\\eegnet-mi-best-f1-val_f1=0.4318-epoch=00-v3.ckpt' as top 3\n",
      "`Trainer.fit` stopped: `max_epochs=1` reached.\n"
     ]
    }
   ],
   "source": [
    "trainer, model = train_model(model=EEGNet, config_path=MI_CONFIG_PATH)"
   ]
  },
  {
   "cell_type": "code",
   "execution_count": null,
   "id": "c2ace1df",
   "metadata": {},
   "outputs": [
    {
     "data": {
      "text/plain": [
       "0.4318181872367859"
      ]
     },
     "execution_count": 17,
     "metadata": {},
     "output_type": "execute_result"
    }
   ],
   "source": [
    "val_f1_score = trainer.callback_metrics.get(\"val_f1\")\n",
    "\n",
    "if val_f1_score is not None:\n",
    "    val_f1_score = val_f1_score."
   ]
  },
  {
   "cell_type": "code",
   "execution_count": 5,
   "id": "c8c63e93",
   "metadata": {},
   "outputs": [],
   "source": [
    "save_model(model, SSVEP_RUNS_DIR / \"model_scripted.pt\")"
   ]
  },
  {
   "cell_type": "code",
   "execution_count": 6,
   "id": "9bf6e25b",
   "metadata": {},
   "outputs": [],
   "source": [
    "loaded_model = load_model(SSVEP_RUNS_DIR / \"model_scripted.pt\")  # Save"
   ]
  },
  {
   "cell_type": "code",
   "execution_count": 7,
   "id": "867bd792",
   "metadata": {},
   "outputs": [],
   "source": [
    "from bci_aic3.inference import (\n",
    "    create_inference_data_loader,\n",
    "    load_and_preprocess_for_inference,\n",
    "    predict_batch,\n",
    ")\n"
   ]
  },
  {
   "cell_type": "code",
   "execution_count": 8,
   "id": "9b31da1c",
   "metadata": {},
   "outputs": [
    {
     "name": "stderr",
     "output_type": "stream",
     "text": [
      "100%|██████████| 50/50 [00:02<00:00, 22.94it/s]\n"
     ]
    }
   ],
   "source": [
    "test_dataset = load_and_preprocess_for_inference(\n",
    "    \"test.csv\", base_path=RAW_DATA_DIR, task_type=\"SSVEP\"\n",
    ")\n",
    "\n",
    "test_loader = create_inference_data_loader(test_dataset)"
   ]
  },
  {
   "cell_type": "code",
   "execution_count": 9,
   "id": "b9d19bf1",
   "metadata": {},
   "outputs": [
    {
     "data": {
      "text/plain": [
       "[2,\n",
       " 3,\n",
       " 1,\n",
       " 1,\n",
       " 2,\n",
       " 1,\n",
       " 1,\n",
       " 1,\n",
       " 1,\n",
       " 2,\n",
       " 0,\n",
       " 0,\n",
       " 0,\n",
       " 0,\n",
       " 1,\n",
       " 1,\n",
       " 2,\n",
       " 2,\n",
       " 2,\n",
       " 2,\n",
       " 3,\n",
       " 3,\n",
       " 1,\n",
       " 0,\n",
       " 0,\n",
       " 3,\n",
       " 3,\n",
       " 3,\n",
       " 3,\n",
       " 3,\n",
       " 0,\n",
       " 3,\n",
       " 3,\n",
       " 3,\n",
       " 0,\n",
       " 3,\n",
       " 1,\n",
       " 3,\n",
       " 1,\n",
       " 3,\n",
       " 0,\n",
       " 3,\n",
       " 3,\n",
       " 3,\n",
       " 3,\n",
       " 3,\n",
       " 3,\n",
       " 2,\n",
       " 2,\n",
       " 3]"
      ]
     },
     "execution_count": 9,
     "metadata": {},
     "output_type": "execute_result"
    }
   ],
   "source": [
    "preds = predict_batch(model=loaded_model,\n",
    "                      data_loader=test_loader,\n",
    "                      device=\"cpu\")\n",
    "preds"
   ]
  },
  {
   "cell_type": "code",
   "execution_count": 24,
   "id": "d1cfa5b7",
   "metadata": {},
   "outputs": [
    {
     "name": "stderr",
     "output_type": "stream",
     "text": [
      "100%|██████████| 50/50 [00:02<00:00, 23.63it/s]\n"
     ]
    },
    {
     "data": {
      "text/plain": [
       "['Forward',\n",
       " 'Backward',\n",
       " 'Right',\n",
       " 'Right',\n",
       " 'Forward',\n",
       " 'Right',\n",
       " 'Right',\n",
       " 'Right',\n",
       " 'Right',\n",
       " 'Forward',\n",
       " 'Left',\n",
       " 'Left',\n",
       " 'Left',\n",
       " 'Left',\n",
       " 'Right',\n",
       " 'Right',\n",
       " 'Forward',\n",
       " 'Forward',\n",
       " 'Forward',\n",
       " 'Forward',\n",
       " 'Backward',\n",
       " 'Backward',\n",
       " 'Right',\n",
       " 'Left',\n",
       " 'Left',\n",
       " 'Backward',\n",
       " 'Backward',\n",
       " 'Backward',\n",
       " 'Backward',\n",
       " 'Backward',\n",
       " 'Left',\n",
       " 'Backward',\n",
       " 'Backward',\n",
       " 'Backward',\n",
       " 'Left',\n",
       " 'Backward',\n",
       " 'Right',\n",
       " 'Backward',\n",
       " 'Right',\n",
       " 'Backward',\n",
       " 'Left',\n",
       " 'Backward',\n",
       " 'Backward',\n",
       " 'Backward',\n",
       " 'Backward',\n",
       " 'Backward',\n",
       " 'Backward',\n",
       " 'Forward',\n",
       " 'Forward',\n",
       " 'Backward']"
      ]
     },
     "execution_count": 24,
     "metadata": {},
     "output_type": "execute_result"
    }
   ],
   "source": [
    "from bci_aic3.inference import make_inference\n",
    "\n",
    "ssvep_preds = make_inference(model=loaded_model,\n",
    "                       csv_file=\"test.csv\",\n",
    "                       base_path=RAW_DATA_DIR,\n",
    "                       task_type=\"SSVEP\",\n",
    "                       reverse_mapping=True)\n",
    "ssvep_preds"
   ]
  },
  {
   "cell_type": "code",
   "execution_count": 31,
   "id": "378585ac",
   "metadata": {},
   "outputs": [
    {
     "name": "stderr",
     "output_type": "stream",
     "text": [
      "100%|██████████| 50/50 [00:02<00:00, 17.60it/s]\n"
     ]
    },
    {
     "data": {
      "text/plain": [
       "['Left',\n",
       " 'Left',\n",
       " 'Right',\n",
       " 'Left',\n",
       " 'Right',\n",
       " 'Left',\n",
       " 'Right',\n",
       " 'Right',\n",
       " 'Left',\n",
       " 'Left',\n",
       " 'Right',\n",
       " 'Right',\n",
       " 'Left',\n",
       " 'Left',\n",
       " 'Left',\n",
       " 'Left',\n",
       " 'Right',\n",
       " 'Right',\n",
       " 'Right',\n",
       " 'Right',\n",
       " 'Right',\n",
       " 'Left',\n",
       " 'Left',\n",
       " 'Left',\n",
       " 'Right',\n",
       " 'Right',\n",
       " 'Right',\n",
       " 'Left',\n",
       " 'Left',\n",
       " 'Left',\n",
       " 'Right',\n",
       " 'Left',\n",
       " 'Left',\n",
       " 'Left',\n",
       " 'Right',\n",
       " 'Right',\n",
       " 'Left',\n",
       " 'Left',\n",
       " 'Right',\n",
       " 'Left',\n",
       " 'Left',\n",
       " 'Left',\n",
       " 'Right',\n",
       " 'Left',\n",
       " 'Left',\n",
       " 'Right',\n",
       " 'Left',\n",
       " 'Left',\n",
       " 'Right',\n",
       " 'Right']"
      ]
     },
     "execution_count": 31,
     "metadata": {},
     "output_type": "execute_result"
    }
   ],
   "source": [
    "loaded_mi_model = load_model(MI_RUNS_DIR / \"model_scripted.pt\")\n",
    "\n",
    "mi_preds = make_inference(model=loaded_mi_model,\n",
    "                       csv_file=\"test.csv\",\n",
    "                       base_path=RAW_DATA_DIR,\n",
    "                       task_type=\"MI\",\n",
    "                       reverse_mapping=True)\n",
    "mi_preds"
   ]
  },
  {
   "cell_type": "code",
   "execution_count": null,
   "id": "a277a0bb",
   "metadata": {},
   "outputs": [],
   "source": [
    "import pandas as pd\n",
    "\n",
    "\n",
    "df = pd.read_csv(RAW_DATA_DIR / \"test.csv\")"
   ]
  },
  {
   "cell_type": "code",
   "execution_count": null,
   "id": "464dcd6f",
   "metadata": {},
   "outputs": [],
   "source": [
    "\n",
    "df.loc[df[\"task\"] == \"SSVEP\", \"labels\"] = ssvep_preds\n",
    "df.loc[df[\"task\"] == \"MI\", \"labels\"] = mi_preds\n",
    "df"
   ]
  },
  {
   "cell_type": "code",
   "execution_count": 38,
   "id": "1b69da69",
   "metadata": {},
   "outputs": [],
   "source": [
    "from bci_aic3.paths import SUBMISSIONS_DIR\n",
    "\n",
    "\n",
    "df[['id', 'labels']].to_csv(SUBMISSIONS_DIR / 'quick_test_1_epoch.csv', index=False)"
   ]
  },
  {
   "cell_type": "code",
   "execution_count": null,
   "id": "b6a3a80b",
   "metadata": {},
   "outputs": [],
   "source": []
  }
 ],
 "metadata": {
  "kernelspec": {
   "display_name": ".venv",
   "language": "python",
   "name": "python3"
  },
  "language_info": {
   "codemirror_mode": {
    "name": "ipython",
    "version": 3
   },
   "file_extension": ".py",
   "mimetype": "text/x-python",
   "name": "python",
   "nbconvert_exporter": "python",
   "pygments_lexer": "ipython3",
   "version": "3.11.9"
  }
 },
 "nbformat": 4,
 "nbformat_minor": 5
}
