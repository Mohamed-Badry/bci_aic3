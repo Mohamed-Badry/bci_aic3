{
 "cells": [
  {
   "cell_type": "code",
   "execution_count": 1,
   "id": "8bc0e5b0",
   "metadata": {},
   "outputs": [],
   "source": [
    "import os\n",
    "\n",
    "import torch\n",
    "from pytorch_lightning import seed_everything"
   ]
  },
  {
   "cell_type": "code",
   "execution_count": 2,
   "id": "a8859870",
   "metadata": {},
   "outputs": [],
   "source": [
    "from bci_aic3.models.eegnet import EEGNet\n",
    "from bci_aic3.paths import (\n",
    "    MI_CONFIG_PATH,\n",
    "    MI_RUNS_DIR,\n",
    "    RAW_DATA_DIR,\n",
    "    SSVEP_CONFIG_PATH,\n",
    "    SSVEP_RUNS_DIR\n",
    ")\n",
    "from bci_aic3.train import train_model\n",
    "from bci_aic3.util import save_model, load_model"
   ]
  },
  {
   "cell_type": "code",
   "execution_count": 3,
   "id": "92c7d16d",
   "metadata": {},
   "outputs": [
    {
     "name": "stderr",
     "output_type": "stream",
     "text": [
      "Seed set to 42\n"
     ]
    }
   ],
   "source": [
    "\n",
    "# Code necessary to create reproducible runs\n",
    "os.environ[\"CUBLAS_WORKSPACE_CONFIG\"] = \":4096:8\"\n",
    "seed_everything(42, workers=True)\n",
    "torch.use_deterministic_algorithms(True, warn_only=True)\n"
   ]
  },
  {
   "cell_type": "code",
   "execution_count": 4,
   "id": "593fed59",
   "metadata": {},
   "outputs": [
    {
     "name": "stderr",
     "output_type": "stream",
     "text": [
      "GPU available: False, used: False\n",
      "TPU available: False, using: 0 TPU cores\n",
      "HPU available: False, using: 0 HPUs\n",
      "p:\\Programming\\AIC3\\repo\\bci_aic3\\.venv\\Lib\\site-packages\\pytorch_lightning\\callbacks\\model_checkpoint.py:654: Checkpoint directory P:\\Programming\\AIC3\\repo\\bci_aic3\\checkpoints\\SSVEP exists and is not empty.\n",
      "\n",
      "  | Name           | Type               | Params | Mode \n",
      "--------------------------------------------------------------\n",
      "0 | model          | EEGNet             | 36.2 K | train\n",
      "1 | criterion      | CrossEntropyLoss   | 0      | train\n",
      "2 | train_accuracy | MulticlassAccuracy | 0      | train\n",
      "3 | val_accuracy   | MulticlassAccuracy | 0      | train\n",
      "4 | train_f1       | MulticlassF1Score  | 0      | train\n",
      "5 | val_f1         | MulticlassF1Score  | 0      | train\n",
      "--------------------------------------------------------------\n",
      "36.2 K    Trainable params\n",
      "0         Non-trainable params\n",
      "36.2 K    Total params\n",
      "0.145     Total estimated model params size (MB)\n",
      "20        Modules in train mode\n",
      "0         Modules in eval mode\n"
     ]
    },
    {
     "data": {
      "application/vnd.jupyter.widget-view+json": {
       "model_id": "5df08de0fc0e4449b53fe0a858ee47db",
       "version_major": 2,
       "version_minor": 0
      },
      "text/plain": [
       "Sanity Checking: |          | 0/? [00:00<?, ?it/s]"
      ]
     },
     "metadata": {},
     "output_type": "display_data"
    },
    {
     "name": "stderr",
     "output_type": "stream",
     "text": [
      "p:\\Programming\\AIC3\\repo\\bci_aic3\\.venv\\Lib\\site-packages\\torch\\nn\\modules\\conv.py:549: UserWarning: Using padding='same' with even kernel lengths and odd dilation may require a zero-padded copy of the input be created (Triggered internally at C:\\actions-runner\\_work\\pytorch\\pytorch\\pytorch\\aten\\src\\ATen\\native\\Convolution.cpp:1037.)\n",
      "  return F.conv2d(\n"
     ]
    },
    {
     "data": {
      "application/vnd.jupyter.widget-view+json": {
       "model_id": "c2a05d1dfa00425592459b301bc7bb23",
       "version_major": 2,
       "version_minor": 0
      },
      "text/plain": [
       "Training: |          | 0/? [00:00<?, ?it/s]"
      ]
     },
     "metadata": {},
     "output_type": "display_data"
    },
    {
     "data": {
      "application/vnd.jupyter.widget-view+json": {
       "model_id": "1a76dae9c2de44149b22489e88b7ff00",
       "version_major": 2,
       "version_minor": 0
      },
      "text/plain": [
       "Validation: |          | 0/? [00:00<?, ?it/s]"
      ]
     },
     "metadata": {},
     "output_type": "display_data"
    },
    {
     "name": "stderr",
     "output_type": "stream",
     "text": [
      "Metric val_loss improved. New best score: 1.452\n",
      "Epoch 0, global step 75: 'val_f1' reached 0.27173 (best 0.27173), saving model to 'P:\\\\Programming\\\\AIC3\\\\repo\\\\bci_aic3\\\\checkpoints\\\\SSVEP\\\\eegnet-ssvep-best-f1-val_f1=0.2717-epoch=00.ckpt' as top 3\n"
     ]
    },
    {
     "data": {
      "application/vnd.jupyter.widget-view+json": {
       "model_id": "41e00bfb84344cbc991e6885538cacd3",
       "version_major": 2,
       "version_minor": 0
      },
      "text/plain": [
       "Validation: |          | 0/? [00:00<?, ?it/s]"
      ]
     },
     "metadata": {},
     "output_type": "display_data"
    },
    {
     "name": "stderr",
     "output_type": "stream",
     "text": [
      "Epoch 1, global step 150: 'val_f1' reached 0.20191 (best 0.27173), saving model to 'P:\\\\Programming\\\\AIC3\\\\repo\\\\bci_aic3\\\\checkpoints\\\\SSVEP\\\\eegnet-ssvep-best-f1-val_f1=0.2019-epoch=01.ckpt' as top 3\n"
     ]
    },
    {
     "data": {
      "application/vnd.jupyter.widget-view+json": {
       "model_id": "5a8d2a256ff94180a0e9412f49127c20",
       "version_major": 2,
       "version_minor": 0
      },
      "text/plain": [
       "Validation: |          | 0/? [00:00<?, ?it/s]"
      ]
     },
     "metadata": {},
     "output_type": "display_data"
    },
    {
     "name": "stderr",
     "output_type": "stream",
     "text": [
      "Epoch 2, global step 225: 'val_f1' reached 0.17788 (best 0.27173), saving model to 'P:\\\\Programming\\\\AIC3\\\\repo\\\\bci_aic3\\\\checkpoints\\\\SSVEP\\\\eegnet-ssvep-best-f1-val_f1=0.1779-epoch=02.ckpt' as top 3\n"
     ]
    },
    {
     "data": {
      "application/vnd.jupyter.widget-view+json": {
       "model_id": "e645dd9d732a440fa6fd31b2faf2202c",
       "version_major": 2,
       "version_minor": 0
      },
      "text/plain": [
       "Validation: |          | 0/? [00:00<?, ?it/s]"
      ]
     },
     "metadata": {},
     "output_type": "display_data"
    },
    {
     "name": "stderr",
     "output_type": "stream",
     "text": [
      "Epoch 3, global step 300: 'val_f1' reached 0.24253 (best 0.27173), saving model to 'P:\\\\Programming\\\\AIC3\\\\repo\\\\bci_aic3\\\\checkpoints\\\\SSVEP\\\\eegnet-ssvep-best-f1-val_f1=0.2425-epoch=03.ckpt' as top 3\n"
     ]
    },
    {
     "data": {
      "application/vnd.jupyter.widget-view+json": {
       "model_id": "89162968e96d4cb58557e4fbe37c77fd",
       "version_major": 2,
       "version_minor": 0
      },
      "text/plain": [
       "Validation: |          | 0/? [00:00<?, ?it/s]"
      ]
     },
     "metadata": {},
     "output_type": "display_data"
    },
    {
     "name": "stderr",
     "output_type": "stream",
     "text": [
      "Epoch 4, global step 375: 'val_f1' reached 0.20504 (best 0.27173), saving model to 'P:\\\\Programming\\\\AIC3\\\\repo\\\\bci_aic3\\\\checkpoints\\\\SSVEP\\\\eegnet-ssvep-best-f1-val_f1=0.2050-epoch=04.ckpt' as top 3\n"
     ]
    },
    {
     "data": {
      "application/vnd.jupyter.widget-view+json": {
       "model_id": "8ad15cb3f3af4432a194ed337230ba7d",
       "version_major": 2,
       "version_minor": 0
      },
      "text/plain": [
       "Validation: |          | 0/? [00:00<?, ?it/s]"
      ]
     },
     "metadata": {},
     "output_type": "display_data"
    },
    {
     "name": "stderr",
     "output_type": "stream",
     "text": [
      "Epoch 5, global step 450: 'val_f1' reached 0.22154 (best 0.27173), saving model to 'P:\\\\Programming\\\\AIC3\\\\repo\\\\bci_aic3\\\\checkpoints\\\\SSVEP\\\\eegnet-ssvep-best-f1-val_f1=0.2215-epoch=05.ckpt' as top 3\n"
     ]
    },
    {
     "data": {
      "application/vnd.jupyter.widget-view+json": {
       "model_id": "7de53687f8df4c93801efde2c93f1b70",
       "version_major": 2,
       "version_minor": 0
      },
      "text/plain": [
       "Validation: |          | 0/? [00:00<?, ?it/s]"
      ]
     },
     "metadata": {},
     "output_type": "display_data"
    },
    {
     "name": "stderr",
     "output_type": "stream",
     "text": [
      "Epoch 6, global step 525: 'val_f1' was not in top 3\n"
     ]
    },
    {
     "data": {
      "application/vnd.jupyter.widget-view+json": {
       "model_id": "e681c45bfcf943fa9a402774d8dbdd8d",
       "version_major": 2,
       "version_minor": 0
      },
      "text/plain": [
       "Validation: |          | 0/? [00:00<?, ?it/s]"
      ]
     },
     "metadata": {},
     "output_type": "display_data"
    },
    {
     "name": "stderr",
     "output_type": "stream",
     "text": [
      "Epoch 7, global step 600: 'val_f1' was not in top 3\n"
     ]
    },
    {
     "data": {
      "application/vnd.jupyter.widget-view+json": {
       "model_id": "c234302e057d40cd94dae480b8aae153",
       "version_major": 2,
       "version_minor": 0
      },
      "text/plain": [
       "Validation: |          | 0/? [00:00<?, ?it/s]"
      ]
     },
     "metadata": {},
     "output_type": "display_data"
    },
    {
     "name": "stderr",
     "output_type": "stream",
     "text": [
      "Epoch 8, global step 675: 'val_f1' was not in top 3\n"
     ]
    },
    {
     "data": {
      "application/vnd.jupyter.widget-view+json": {
       "model_id": "93898df2daf2498bb44233f504406490",
       "version_major": 2,
       "version_minor": 0
      },
      "text/plain": [
       "Validation: |          | 0/? [00:00<?, ?it/s]"
      ]
     },
     "metadata": {},
     "output_type": "display_data"
    },
    {
     "name": "stderr",
     "output_type": "stream",
     "text": [
      "Epoch 9, global step 750: 'val_f1' reached 0.26056 (best 0.27173), saving model to 'P:\\\\Programming\\\\AIC3\\\\repo\\\\bci_aic3\\\\checkpoints\\\\SSVEP\\\\eegnet-ssvep-best-f1-val_f1=0.2606-epoch=09.ckpt' as top 3\n",
      "`Trainer.fit` stopped: `max_epochs=10` reached.\n"
     ]
    }
   ],
   "source": [
    "trainer, model = train_model(model=EEGNet, config_path=SSVEP_CONFIG_PATH)"
   ]
  },
  {
   "cell_type": "code",
   "execution_count": 5,
   "id": "c8c63e93",
   "metadata": {},
   "outputs": [],
   "source": [
    "save_model(model, SSVEP_RUNS_DIR / \"model_scripted.pt\")"
   ]
  },
  {
   "cell_type": "code",
   "execution_count": 6,
   "id": "9bf6e25b",
   "metadata": {},
   "outputs": [],
   "source": [
    "loaded_model = load_model(SSVEP_RUNS_DIR / \"model_scripted.pt\")  # Save"
   ]
  },
  {
   "cell_type": "code",
   "execution_count": 7,
   "id": "867bd792",
   "metadata": {},
   "outputs": [],
   "source": [
    "from bci_aic3.inference import (\n",
    "    create_inference_data_loader,\n",
    "    load_and_preprocess_for_inference,\n",
    "    predict_batch,\n",
    ")\n"
   ]
  },
  {
   "cell_type": "code",
   "execution_count": 8,
   "id": "9b31da1c",
   "metadata": {},
   "outputs": [
    {
     "name": "stderr",
     "output_type": "stream",
     "text": [
      "100%|██████████| 50/50 [00:02<00:00, 22.94it/s]\n"
     ]
    }
   ],
   "source": [
    "test_dataset = load_and_preprocess_for_inference(\n",
    "    \"test.csv\", base_path=RAW_DATA_DIR, task_type=\"SSVEP\"\n",
    ")\n",
    "\n",
    "test_loader = create_inference_data_loader(test_dataset)"
   ]
  },
  {
   "cell_type": "code",
   "execution_count": 9,
   "id": "b9d19bf1",
   "metadata": {},
   "outputs": [
    {
     "data": {
      "text/plain": [
       "[2,\n",
       " 3,\n",
       " 1,\n",
       " 1,\n",
       " 2,\n",
       " 1,\n",
       " 1,\n",
       " 1,\n",
       " 1,\n",
       " 2,\n",
       " 0,\n",
       " 0,\n",
       " 0,\n",
       " 0,\n",
       " 1,\n",
       " 1,\n",
       " 2,\n",
       " 2,\n",
       " 2,\n",
       " 2,\n",
       " 3,\n",
       " 3,\n",
       " 1,\n",
       " 0,\n",
       " 0,\n",
       " 3,\n",
       " 3,\n",
       " 3,\n",
       " 3,\n",
       " 3,\n",
       " 0,\n",
       " 3,\n",
       " 3,\n",
       " 3,\n",
       " 0,\n",
       " 3,\n",
       " 1,\n",
       " 3,\n",
       " 1,\n",
       " 3,\n",
       " 0,\n",
       " 3,\n",
       " 3,\n",
       " 3,\n",
       " 3,\n",
       " 3,\n",
       " 3,\n",
       " 2,\n",
       " 2,\n",
       " 3]"
      ]
     },
     "execution_count": 9,
     "metadata": {},
     "output_type": "execute_result"
    }
   ],
   "source": [
    "preds = predict_batch(model=loaded_model,\n",
    "                      data_loader=test_loader,\n",
    "                      device=\"cpu\")\n",
    "preds"
   ]
  },
  {
   "cell_type": "code",
   "execution_count": 24,
   "id": "d1cfa5b7",
   "metadata": {},
   "outputs": [
    {
     "name": "stderr",
     "output_type": "stream",
     "text": [
      "100%|██████████| 50/50 [00:02<00:00, 23.63it/s]\n"
     ]
    },
    {
     "data": {
      "text/plain": [
       "['Forward',\n",
       " 'Backward',\n",
       " 'Right',\n",
       " 'Right',\n",
       " 'Forward',\n",
       " 'Right',\n",
       " 'Right',\n",
       " 'Right',\n",
       " 'Right',\n",
       " 'Forward',\n",
       " 'Left',\n",
       " 'Left',\n",
       " 'Left',\n",
       " 'Left',\n",
       " 'Right',\n",
       " 'Right',\n",
       " 'Forward',\n",
       " 'Forward',\n",
       " 'Forward',\n",
       " 'Forward',\n",
       " 'Backward',\n",
       " 'Backward',\n",
       " 'Right',\n",
       " 'Left',\n",
       " 'Left',\n",
       " 'Backward',\n",
       " 'Backward',\n",
       " 'Backward',\n",
       " 'Backward',\n",
       " 'Backward',\n",
       " 'Left',\n",
       " 'Backward',\n",
       " 'Backward',\n",
       " 'Backward',\n",
       " 'Left',\n",
       " 'Backward',\n",
       " 'Right',\n",
       " 'Backward',\n",
       " 'Right',\n",
       " 'Backward',\n",
       " 'Left',\n",
       " 'Backward',\n",
       " 'Backward',\n",
       " 'Backward',\n",
       " 'Backward',\n",
       " 'Backward',\n",
       " 'Backward',\n",
       " 'Forward',\n",
       " 'Forward',\n",
       " 'Backward']"
      ]
     },
     "execution_count": 24,
     "metadata": {},
     "output_type": "execute_result"
    }
   ],
   "source": [
    "from bci_aic3.inference import make_inference\n",
    "\n",
    "ssvep_preds = make_inference(model=loaded_model,\n",
    "                       csv_file=\"test.csv\",\n",
    "                       base_path=RAW_DATA_DIR,\n",
    "                       task_type=\"SSVEP\",\n",
    "                       reverse_mapping=True)\n",
    "ssvep_preds"
   ]
  },
  {
   "cell_type": "code",
   "execution_count": 31,
   "id": "378585ac",
   "metadata": {},
   "outputs": [
    {
     "name": "stderr",
     "output_type": "stream",
     "text": [
      "100%|██████████| 50/50 [00:02<00:00, 17.60it/s]\n"
     ]
    },
    {
     "data": {
      "text/plain": [
       "['Left',\n",
       " 'Left',\n",
       " 'Right',\n",
       " 'Left',\n",
       " 'Right',\n",
       " 'Left',\n",
       " 'Right',\n",
       " 'Right',\n",
       " 'Left',\n",
       " 'Left',\n",
       " 'Right',\n",
       " 'Right',\n",
       " 'Left',\n",
       " 'Left',\n",
       " 'Left',\n",
       " 'Left',\n",
       " 'Right',\n",
       " 'Right',\n",
       " 'Right',\n",
       " 'Right',\n",
       " 'Right',\n",
       " 'Left',\n",
       " 'Left',\n",
       " 'Left',\n",
       " 'Right',\n",
       " 'Right',\n",
       " 'Right',\n",
       " 'Left',\n",
       " 'Left',\n",
       " 'Left',\n",
       " 'Right',\n",
       " 'Left',\n",
       " 'Left',\n",
       " 'Left',\n",
       " 'Right',\n",
       " 'Right',\n",
       " 'Left',\n",
       " 'Left',\n",
       " 'Right',\n",
       " 'Left',\n",
       " 'Left',\n",
       " 'Left',\n",
       " 'Right',\n",
       " 'Left',\n",
       " 'Left',\n",
       " 'Right',\n",
       " 'Left',\n",
       " 'Left',\n",
       " 'Right',\n",
       " 'Right']"
      ]
     },
     "execution_count": 31,
     "metadata": {},
     "output_type": "execute_result"
    }
   ],
   "source": [
    "loaded_mi_model = load_model(MI_RUNS_DIR / \"model_scripted.pt\")\n",
    "\n",
    "mi_preds = make_inference(model=loaded_mi_model,\n",
    "                       csv_file=\"test.csv\",\n",
    "                       base_path=RAW_DATA_DIR,\n",
    "                       task_type=\"MI\",\n",
    "                       reverse_mapping=True)\n",
    "mi_preds"
   ]
  },
  {
   "cell_type": "code",
   "execution_count": null,
   "id": "a277a0bb",
   "metadata": {},
   "outputs": [],
   "source": [
    "import pandas as pd\n",
    "\n",
    "\n",
    "df = pd.read_csv(RAW_DATA_DIR / \"test.csv\")"
   ]
  },
  {
   "cell_type": "code",
   "execution_count": null,
   "id": "464dcd6f",
   "metadata": {},
   "outputs": [],
   "source": [
    "\n",
    "df.loc[df[\"task\"] == \"SSVEP\", \"labels\"] = ssvep_preds\n",
    "df.loc[df[\"task\"] == \"MI\", \"labels\"] = mi_preds\n",
    "df"
   ]
  },
  {
   "cell_type": "code",
   "execution_count": 38,
   "id": "1b69da69",
   "metadata": {},
   "outputs": [],
   "source": [
    "from bci_aic3.paths import SUBMISSIONS_DIR\n",
    "\n",
    "\n",
    "df[['id', 'labels']].to_csv(SUBMISSIONS_DIR / 'quick_test_1_epoch.csv', index=False)"
   ]
  },
  {
   "cell_type": "code",
   "execution_count": null,
   "id": "b6a3a80b",
   "metadata": {},
   "outputs": [],
   "source": []
  }
 ],
 "metadata": {
  "kernelspec": {
   "display_name": ".venv",
   "language": "python",
   "name": "python3"
  },
  "language_info": {
   "codemirror_mode": {
    "name": "ipython",
    "version": 3
   },
   "file_extension": ".py",
   "mimetype": "text/x-python",
   "name": "python",
   "nbconvert_exporter": "python",
   "pygments_lexer": "ipython3",
   "version": "3.11.9"
  }
 },
 "nbformat": 4,
 "nbformat_minor": 5
}
