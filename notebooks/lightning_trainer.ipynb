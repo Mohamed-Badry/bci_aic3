{
 "cells": [
  {
   "cell_type": "code",
   "execution_count": null,
   "id": "8bc0e5b0",
   "metadata": {},
   "outputs": [],
   "source": [
    "from pytorch_lightning import Trainer\n",
    "\n",
    "from bci_aic3.config import load_model_config, load_training_config\n",
    "from bci_aic3.data import BCIDataset, load_data\n",
    "from bci_aic3.inference import load_models, make_inference, predict_batch\n",
    "from bci_aic3.models.eegnet import EEGNet\n",
    "from bci_aic3.paths import (\n",
    "    CONFIG_DIR,\n",
    "    LABEL_MAPPING_PATH,\n",
    "    MODELS_DIR,\n",
    "    RAW_DATA_DIR,\n",
    "    REVERSE_LABEL_MAPPING_PATH,\n",
    ")\n",
    "from bci_aic3.train import BCILightningModule, create_data_loaders, setup_callbacks\n",
    "from bci_aic3.util import load_model, read_json_to_dict, rec_cpu_count, save_model"
   ]
  },
  {
   "cell_type": "code",
   "execution_count": null,
   "id": "0fccd2b2",
   "metadata": {},
   "outputs": [],
   "source": [
    "config_file = 'mi_config.yaml'\n",
    "\n",
    "model_config = load_model_config(CONFIG_DIR / config_file)\n",
    "training_config = load_training_config(CONFIG_DIR / config_file)\n",
    "\n",
    "max_num_workers = rec_cpu_count()\n",
    "\n",
    "# Create data loaders\n",
    "train_loader, val_loader, test_loader = create_data_loaders(\n",
    "    base_path=RAW_DATA_DIR,\n",
    "    task_type=model_config.task_type,\n",
    "    batch_size=training_config.batch_size,\n",
    "    num_workers=max_num_workers,\n",
    ")\n",
    "print(\"Loaded the data...\")"
   ]
  },
  {
   "cell_type": "code",
   "execution_count": null,
   "id": "70331695",
   "metadata": {},
   "outputs": [],
   "source": [
    "# Create Lightning module\n",
    "model = BCILightningModule(\n",
    "    model_config=model_config,\n",
    "    training_config=training_config,\n",
    ")\n",
    "\n",
    "# Setup callbacks\n",
    "callbacks = setup_callbacks(model_config)"
   ]
  },
  {
   "cell_type": "code",
   "execution_count": null,
   "id": "4e921d38",
   "metadata": {},
   "outputs": [],
   "source": [
    "# Create trainer\n",
    "trainer = Trainer(\n",
    "    max_epochs=training_config.epochs,\n",
    "    callbacks=callbacks,\n",
    "    accelerator=\"auto\",  # Automatically uses GPU if available\n",
    "    devices=\"auto\",  # Uses all available devices\n",
    "    deterministic=True,  # For reproducibility\n",
    "    log_every_n_steps=10,\n",
    ")"
   ]
  },
  {
   "cell_type": "code",
   "execution_count": null,
   "id": "1323b237",
   "metadata": {},
   "outputs": [],
   "source": [
    "# Train the model\n",
    "trainer.fit(model, train_loader, val_loader)"
   ]
  },
  {
   "cell_type": "code",
   "execution_count": null,
   "id": "971ca77d",
   "metadata": {},
   "outputs": [],
   "source": [
    "from bci_aic3.paths import CHECKPOINTS_DIR\n",
    "\n",
    "loaded_model = BCILightningModule.load_from_checkpoint(\"../checkpoints/MI/eegnet-mi-best-f1-epoch=00-val_f1=0.5192-v1.ckpt\", strict=False)"
   ]
  },
  {
   "cell_type": "code",
   "execution_count": null,
   "id": "76826cb9",
   "metadata": {},
   "outputs": [],
   "source": [
    "from torcheval.metrics.functional import multiclass_f1_score\n",
    "\n",
    "import torch\n",
    "\n",
    "loaded_model.eval()\n",
    "\n",
    "with torch.no_grad():\n",
    "    for data, labels in val_loader:\n",
    "        outputs = loaded_model(data)\n",
    "        preds = torch.argmax(outputs, dim=1)\n",
    "        \n",
    "        print(f\"outputs = {outputs}\")\n",
    "        print(f\"preds = {preds}\")\n",
    "                \n",
    "        f1_score = multiclass_f1_score(preds, labels, num_classes=2, average=\"macro\")\n",
    "        print(f\"{f1_score=}\")"
   ]
  },
  {
   "cell_type": "code",
   "execution_count": null,
   "id": "a7674ac3",
   "metadata": {},
   "outputs": [],
   "source": [
    "test_loader.dataset[:].shape"
   ]
  },
  {
   "cell_type": "code",
   "execution_count": null,
   "id": "f6f295cf",
   "metadata": {},
   "outputs": [],
   "source": []
  }
 ],
 "metadata": {
  "kernelspec": {
   "display_name": ".venv",
   "language": "python",
   "name": "python3"
  },
  "language_info": {
   "codemirror_mode": {
    "name": "ipython",
    "version": 3
   },
   "file_extension": ".py",
   "mimetype": "text/x-python",
   "name": "python",
   "nbconvert_exporter": "python",
   "pygments_lexer": "ipython3",
   "version": "3.11.9"
  }
 },
 "nbformat": 4,
 "nbformat_minor": 5
}
