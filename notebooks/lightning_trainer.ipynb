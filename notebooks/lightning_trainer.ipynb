{
 "cells": [
  {
   "cell_type": "code",
   "execution_count": 2,
   "id": "8bc0e5b0",
   "metadata": {},
   "outputs": [],
   "source": [
    "import os\n",
    "\n",
    "import torch\n",
    "from pytorch_lightning import seed_everything"
   ]
  },
  {
   "cell_type": "code",
   "execution_count": 3,
   "id": "a8859870",
   "metadata": {},
   "outputs": [],
   "source": [
    "from bci_aic3.models.eegnet import EEGNet\n",
    "from bci_aic3.paths import (\n",
    "    MI_CONFIG_PATH,\n",
    "    MI_RUNS_DIR,\n",
    "    RAW_DATA_DIR,\n",
    "    SSVEP_CONFIG_PATH,\n",
    "    SSVEP_RUNS_DIR\n",
    ")\n",
    "from bci_aic3.train import train_model\n",
    "from bci_aic3.util import save_model, load_model"
   ]
  },
  {
   "cell_type": "code",
   "execution_count": 4,
   "id": "ac254833",
   "metadata": {},
   "outputs": [
    {
     "data": {
      "text/plain": [
       "WindowsPath('P:/Programming/AIC3/repo/bci_aic3/configs/mi_config.yaml')"
      ]
     },
     "execution_count": 4,
     "metadata": {},
     "output_type": "execute_result"
    }
   ],
   "source": [
    "MI_CONFIG_PATH"
   ]
  },
  {
   "cell_type": "code",
   "execution_count": null,
   "id": "92c7d16d",
   "metadata": {},
   "outputs": [],
   "source": [
    "\n",
    "# Code necessary to create reproducible runs\n",
    "os.environ[\"CUBLAS_WORKSPACE_CONFIG\"] = \":4096:8\"\n",
    "seed_everything(42, workers=True)\n",
    "torch.use_deterministic_algorithms(True, warn_only=True)\n"
   ]
  },
  {
   "cell_type": "code",
   "execution_count": null,
   "id": "593fed59",
   "metadata": {},
   "outputs": [],
   "source": [
    "trainer, model = train_model(model=EEGNet, config_path=MI_CONFIG_PATH)"
   ]
  },
  {
   "cell_type": "code",
   "execution_count": null,
   "id": "c2ace1df",
   "metadata": {},
   "outputs": [],
   "source": [
    "val_f1_score = trainer.callback_metrics.get(\"val_f1\")\n",
    "\n",
    "if val_f1_score is not None:\n",
    "    val_f1_score = val_f1_score."
   ]
  },
  {
   "cell_type": "code",
   "execution_count": null,
   "id": "c8c63e93",
   "metadata": {},
   "outputs": [],
   "source": [
    "save_model(model, SSVEP_RUNS_DIR / \"model_scripted.pt\")"
   ]
  },
  {
   "cell_type": "code",
   "execution_count": null,
   "id": "9bf6e25b",
   "metadata": {},
   "outputs": [],
   "source": [
    "loaded_model = load_model(SSVEP_RUNS_DIR / \"model_scripted.pt\")  # Save"
   ]
  },
  {
   "cell_type": "code",
   "execution_count": null,
   "id": "867bd792",
   "metadata": {},
   "outputs": [],
   "source": [
    "from bci_aic3.inference import (\n",
    "    create_inference_data_loader,\n",
    "    load_and_preprocess_for_inference,\n",
    "    predict_batch,\n",
    ")\n"
   ]
  },
  {
   "cell_type": "code",
   "execution_count": null,
   "id": "9b31da1c",
   "metadata": {},
   "outputs": [],
   "source": [
    "test_dataset = load_and_preprocess_for_inference(\n",
    "    \"test.csv\", base_path=RAW_DATA_DIR, task_type=\"SSVEP\"\n",
    ")\n",
    "\n",
    "test_loader = create_inference_data_loader(test_dataset)"
   ]
  },
  {
   "cell_type": "code",
   "execution_count": null,
   "id": "b9d19bf1",
   "metadata": {},
   "outputs": [],
   "source": [
    "preds = predict_batch(model=loaded_model,\n",
    "                      data_loader=test_loader,\n",
    "                      device=\"cpu\")\n",
    "preds"
   ]
  },
  {
   "cell_type": "code",
   "execution_count": null,
   "id": "d1cfa5b7",
   "metadata": {},
   "outputs": [],
   "source": [
    "from bci_aic3.inference import make_inference\n",
    "\n",
    "ssvep_preds = make_inference(model=loaded_model,\n",
    "                       csv_file=\"test.csv\",\n",
    "                       base_path=RAW_DATA_DIR,\n",
    "                       task_type=\"SSVEP\",\n",
    "                       reverse_mapping=True)\n",
    "ssvep_preds"
   ]
  },
  {
   "cell_type": "code",
   "execution_count": null,
   "id": "378585ac",
   "metadata": {},
   "outputs": [],
   "source": [
    "loaded_mi_model = load_model(MI_RUNS_DIR / \"model_scripted.pt\")\n",
    "\n",
    "mi_preds = make_inference(model=loaded_mi_model,\n",
    "                       csv_file=\"test.csv\",\n",
    "                       base_path=RAW_DATA_DIR,\n",
    "                       task_type=\"MI\",\n",
    "                       reverse_mapping=True)\n",
    "mi_preds"
   ]
  },
  {
   "cell_type": "code",
   "execution_count": null,
   "id": "a277a0bb",
   "metadata": {},
   "outputs": [],
   "source": [
    "import pandas as pd\n",
    "\n",
    "\n",
    "df = pd.read_csv(RAW_DATA_DIR / \"test.csv\")"
   ]
  },
  {
   "cell_type": "code",
   "execution_count": null,
   "id": "464dcd6f",
   "metadata": {},
   "outputs": [],
   "source": [
    "\n",
    "df.loc[df[\"task\"] == \"SSVEP\", \"labels\"] = ssvep_preds\n",
    "df.loc[df[\"task\"] == \"MI\", \"labels\"] = mi_preds\n",
    "df"
   ]
  },
  {
   "cell_type": "code",
   "execution_count": null,
   "id": "1b69da69",
   "metadata": {},
   "outputs": [],
   "source": [
    "from bci_aic3.paths import SUBMISSIONS_DIR\n",
    "\n",
    "\n",
    "df[['id', 'labels']].to_csv(SUBMISSIONS_DIR / 'quick_test_1_epoch.csv', index=False)"
   ]
  },
  {
   "cell_type": "code",
   "execution_count": null,
   "id": "b6a3a80b",
   "metadata": {},
   "outputs": [],
   "source": []
  }
 ],
 "metadata": {
  "kernelspec": {
   "display_name": ".venv",
   "language": "python",
   "name": "python3"
  },
  "language_info": {
   "codemirror_mode": {
    "name": "ipython",
    "version": 3
   },
   "file_extension": ".py",
   "mimetype": "text/x-python",
   "name": "python",
   "nbconvert_exporter": "python",
   "pygments_lexer": "ipython3",
   "version": "3.11.9"
  }
 },
 "nbformat": 4,
 "nbformat_minor": 5
}
