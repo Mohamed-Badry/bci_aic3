{
 "cells": [
  {
   "cell_type": "code",
   "execution_count": 2,
   "id": "8bc0e5b0",
   "metadata": {},
   "outputs": [],
   "source": [
    "import os\n",
    "\n",
    "import torch\n",
    "from pytorch_lightning import seed_everything"
   ]
  },
  {
   "cell_type": "code",
   "execution_count": 3,
   "id": "a8859870",
   "metadata": {},
   "outputs": [],
   "source": [
    "from bci_aic3.models.eegnet import EEGNet\n",
    "from bci_aic3.paths import (\n",
    "    MI_CONFIG_PATH,\n",
    "    MI_RUNS_DIR,\n",
    "    RAW_DATA_DIR,\n",
    "    SSVEP_CONFIG_PATH,\n",
    "    SSVEP_RUNS_DIR\n",
    ")\n",
    "from bci_aic3.train import train_model\n",
    "from bci_aic3.util import save_model, load_model"
   ]
  },
  {
   "cell_type": "code",
   "execution_count": null,
   "id": "92c7d16d",
   "metadata": {},
   "outputs": [],
   "source": [
    "\n",
    "# Code necessary to create reproducible runs\n",
    "os.environ[\"CUBLAS_WORKSPACE_CONFIG\"] = \":4096:8\"\n",
    "seed_everything(42, workers=True)\n",
    "torch.use_deterministic_algorithms(True, warn_only=True)\n"
   ]
  },
  {
   "cell_type": "code",
   "execution_count": null,
   "id": "593fed59",
   "metadata": {},
   "outputs": [],
   "source": [
    "trainer, model = train_model(model=EEGNet, config_path=MI_CONFIG_PATH)"
   ]
  },
  {
   "cell_type": "code",
   "execution_count": null,
   "id": "867bd792",
   "metadata": {},
   "outputs": [],
   "source": [
    "from bci_aic3.inference import (\n",
    "    create_inference_data_loader,\n",
    "    load_and_preprocess_for_inference,\n",
    "    predict_batch,\n",
    ")\n"
   ]
  },
  {
   "cell_type": "code",
   "execution_count": null,
   "id": "9b31da1c",
   "metadata": {},
   "outputs": [],
   "source": [
    "test_dataset = load_and_preprocess_for_inference(\n",
    "    \"test.csv\", base_path=RAW_DATA_DIR, task_type=\"SSVEP\"\n",
    ")\n",
    "\n",
    "test_loader = create_inference_data_loader(test_dataset)"
   ]
  },
  {
   "cell_type": "code",
   "execution_count": null,
   "id": "b6a3a80b",
   "metadata": {},
   "outputs": [],
   "source": []
  }
 ],
 "metadata": {
  "kernelspec": {
   "display_name": ".venv",
   "language": "python",
   "name": "python3"
  },
  "language_info": {
   "codemirror_mode": {
    "name": "ipython",
    "version": 3
   },
   "file_extension": ".py",
   "mimetype": "text/x-python",
   "name": "python",
   "nbconvert_exporter": "python",
   "pygments_lexer": "ipython3",
   "version": "3.11.9"
  }
 },
 "nbformat": 4,
 "nbformat_minor": 5
}
