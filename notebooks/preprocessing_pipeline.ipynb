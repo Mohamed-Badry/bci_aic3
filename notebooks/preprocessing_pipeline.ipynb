{
 "cells": [
  {
   "cell_type": "code",
   "execution_count": 1,
   "id": "930fa49f",
   "metadata": {},
   "outputs": [],
   "source": [
    "import numpy as np\n",
    "from torch.utils.data import DataLoader, Dataset\n",
    "\n",
    "%matplotlib inline"
   ]
  },
  {
   "cell_type": "code",
   "execution_count": 2,
   "id": "1f9c3fa9",
   "metadata": {},
   "outputs": [],
   "source": [
    "from bci_aic3.data import BCIDataset, load_raw_data\n",
    "from bci_aic3.preprocess import apply_all_preprocessing_steps\n",
    "from bci_aic3.config import load_processing_config\n",
    "from bci_aic3.paths import (\n",
    "    CONFIG_DIR,\n",
    "    LABEL_MAPPING_PATH,\n",
    "    RAW_DATA_DIR,\n",
    "    PROCESSED_DATA_DIR,\n",
    ")\n",
    "from bci_aic3.util import read_json_to_dict"
   ]
  },
  {
   "cell_type": "code",
   "execution_count": 4,
   "id": "e7f8d1e2",
   "metadata": {},
   "outputs": [],
   "source": [
    "label_mapping = read_json_to_dict(LABEL_MAPPING_PATH)"
   ]
  },
  {
   "cell_type": "code",
   "execution_count": 5,
   "id": "fdcc25a3",
   "metadata": {},
   "outputs": [
    {
     "name": "stderr",
     "output_type": "stream",
     "text": [
      "2400it [02:25, 16.51it/s]\n",
      "50it [00:02, 16.88it/s]\n"
     ]
    }
   ],
   "source": [
    "train_mi = BCIDataset(\n",
    "    \"train.csv\",\n",
    "    base_path=RAW_DATA_DIR,\n",
    "    task_type=\"MI\",\n",
    "    split=\"train\",\n",
    "    label_mapping=label_mapping,\n",
    ")\n",
    "\n",
    "val_mi = BCIDataset(\n",
    "    \"validation.csv\",\n",
    "    base_path=RAW_DATA_DIR,\n",
    "    task_type=\"MI\",\n",
    "    split=\"validation\",\n",
    "    label_mapping=label_mapping,\n",
    ")"
   ]
  },
  {
   "cell_type": "code",
   "execution_count": 6,
   "id": "0b38b19d",
   "metadata": {},
   "outputs": [],
   "source": [
    "from bci_aic3.config import ProcessingConfig\n",
    "\n",
    "\n",
    "def preprocessing_pipeline(dataset: BCIDataset,\n",
    "                           task_type: str,\n",
    "                           split: str,\n",
    "                           processing_config: ProcessingConfig):\n",
    "    \n",
    "    data_loader = DataLoader(dataset, batch_size=len(dataset), shuffle=False)\n",
    "    data_batch, labels = next(iter(data_loader))\n",
    "    \n",
    "    data = data_batch.numpy()\n",
    "    labels = labels.numpy()\n",
    "    \n",
    "    processed_data = apply_all_preprocessing_steps(data=data, settings=processing_config)\n",
    "    \n",
    "    processed_data_path = PROCESSED_DATA_DIR/ task_type.upper() / f\"{split}_data.npy\"\n",
    "    processed_labels_path = PROCESSED_DATA_DIR/ task_type.upper() / f\"{split}_labels.npy\" \n",
    "    \n",
    "    np.save(processed_data_path, processed_data)\n",
    "    print(f\"Processed data successfully saved at: {processed_data_path}\")\n",
    "    \n",
    "    np.save(processed_labels_path, labels)\n",
    "    print(f\"Processed labels successfully saved at: {processed_labels_path}\")\n",
    "    "
   ]
  },
  {
   "cell_type": "code",
   "execution_count": 7,
   "id": "db770965",
   "metadata": {},
   "outputs": [],
   "source": [
    "from bci_aic3.paths import MI_CONFIG_PATH\n",
    "\n",
    "\n",
    "processing_config = load_processing_config(MI_CONFIG_PATH)"
   ]
  },
  {
   "cell_type": "code",
   "execution_count": 8,
   "id": "a0bee3c2",
   "metadata": {},
   "outputs": [
    {
     "name": "stdout",
     "output_type": "stream",
     "text": [
      "Processed data successfully saved at: P:\\Programming\\AIC3\\repo\\bci_aic3\\data\\processed\\MI\\validation_data.npy\n",
      "Processed labels successfully saved at: P:\\Programming\\AIC3\\repo\\bci_aic3\\data\\processed\\MI\\validation_labels.npy\n"
     ]
    }
   ],
   "source": [
    "preprocessing_pipeline(val_mi, \n",
    "                       task_type=\"MI\", \n",
    "                       split=\"validation\",\n",
    "                       processing_config=processing_config)"
   ]
  },
  {
   "cell_type": "code",
   "execution_count": null,
   "id": "12325b00",
   "metadata": {},
   "outputs": [],
   "source": []
  }
 ],
 "metadata": {
  "kernelspec": {
   "display_name": ".venv",
   "language": "python",
   "name": "python3"
  },
  "language_info": {
   "codemirror_mode": {
    "name": "ipython",
    "version": 3
   },
   "file_extension": ".py",
   "mimetype": "text/x-python",
   "name": "python",
   "nbconvert_exporter": "python",
   "pygments_lexer": "ipython3",
   "version": "3.11.9"
  }
 },
 "nbformat": 4,
 "nbformat_minor": 5
}
